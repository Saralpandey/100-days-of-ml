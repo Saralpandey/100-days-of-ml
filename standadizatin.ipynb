{
 "cells": [
  {
   "cell_type": "code",
   "execution_count": 1,
   "id": "dc310330",
   "metadata": {},
   "outputs": [],
   "source": [
    "import pandas as pd\n",
    "import numpy as np\n",
    "import seaborn as sns \n",
    "import matplotlib.pyplot as plt"
   ]
  },
  {
   "cell_type": "code",
   "execution_count": 2,
   "id": "6587a8cf",
   "metadata": {},
   "outputs": [],
   "source": [
    "dt = pd.read_csv('Social_Network_Ads (1).csv')"
   ]
  },
  {
   "cell_type": "code",
   "execution_count": 3,
   "id": "ca0bd855",
   "metadata": {},
   "outputs": [
    {
     "data": {
      "application/vnd.microsoft.datawrangler.viewer.v0+json": {
       "columns": [
        {
         "name": "index",
         "rawType": "int64",
         "type": "integer"
        },
        {
         "name": "User ID",
         "rawType": "int64",
         "type": "integer"
        },
        {
         "name": "Gender",
         "rawType": "object",
         "type": "string"
        },
        {
         "name": "Age",
         "rawType": "int64",
         "type": "integer"
        },
        {
         "name": "EstimatedSalary",
         "rawType": "int64",
         "type": "integer"
        },
        {
         "name": "Purchased",
         "rawType": "int64",
         "type": "integer"
        }
       ],
       "ref": "dde72ac6-ae4b-45c4-9884-e9c531914bbd",
       "rows": [
        [
         "0",
         "15624510",
         "Male",
         "19",
         "19000",
         "0"
        ],
        [
         "1",
         "15810944",
         "Male",
         "35",
         "20000",
         "0"
        ],
        [
         "2",
         "15668575",
         "Female",
         "26",
         "43000",
         "0"
        ],
        [
         "3",
         "15603246",
         "Female",
         "27",
         "57000",
         "0"
        ],
        [
         "4",
         "15804002",
         "Male",
         "19",
         "76000",
         "0"
        ]
       ],
       "shape": {
        "columns": 5,
        "rows": 5
       }
      },
      "text/html": [
       "<div>\n",
       "<style scoped>\n",
       "    .dataframe tbody tr th:only-of-type {\n",
       "        vertical-align: middle;\n",
       "    }\n",
       "\n",
       "    .dataframe tbody tr th {\n",
       "        vertical-align: top;\n",
       "    }\n",
       "\n",
       "    .dataframe thead th {\n",
       "        text-align: right;\n",
       "    }\n",
       "</style>\n",
       "<table border=\"1\" class=\"dataframe\">\n",
       "  <thead>\n",
       "    <tr style=\"text-align: right;\">\n",
       "      <th></th>\n",
       "      <th>User ID</th>\n",
       "      <th>Gender</th>\n",
       "      <th>Age</th>\n",
       "      <th>EstimatedSalary</th>\n",
       "      <th>Purchased</th>\n",
       "    </tr>\n",
       "  </thead>\n",
       "  <tbody>\n",
       "    <tr>\n",
       "      <th>0</th>\n",
       "      <td>15624510</td>\n",
       "      <td>Male</td>\n",
       "      <td>19</td>\n",
       "      <td>19000</td>\n",
       "      <td>0</td>\n",
       "    </tr>\n",
       "    <tr>\n",
       "      <th>1</th>\n",
       "      <td>15810944</td>\n",
       "      <td>Male</td>\n",
       "      <td>35</td>\n",
       "      <td>20000</td>\n",
       "      <td>0</td>\n",
       "    </tr>\n",
       "    <tr>\n",
       "      <th>2</th>\n",
       "      <td>15668575</td>\n",
       "      <td>Female</td>\n",
       "      <td>26</td>\n",
       "      <td>43000</td>\n",
       "      <td>0</td>\n",
       "    </tr>\n",
       "    <tr>\n",
       "      <th>3</th>\n",
       "      <td>15603246</td>\n",
       "      <td>Female</td>\n",
       "      <td>27</td>\n",
       "      <td>57000</td>\n",
       "      <td>0</td>\n",
       "    </tr>\n",
       "    <tr>\n",
       "      <th>4</th>\n",
       "      <td>15804002</td>\n",
       "      <td>Male</td>\n",
       "      <td>19</td>\n",
       "      <td>76000</td>\n",
       "      <td>0</td>\n",
       "    </tr>\n",
       "  </tbody>\n",
       "</table>\n",
       "</div>"
      ],
      "text/plain": [
       "    User ID  Gender  Age  EstimatedSalary  Purchased\n",
       "0  15624510    Male   19            19000          0\n",
       "1  15810944    Male   35            20000          0\n",
       "2  15668575  Female   26            43000          0\n",
       "3  15603246  Female   27            57000          0\n",
       "4  15804002    Male   19            76000          0"
      ]
     },
     "execution_count": 3,
     "metadata": {},
     "output_type": "execute_result"
    }
   ],
   "source": [
    "dt.head()"
   ]
  },
  {
   "cell_type": "code",
   "execution_count": 4,
   "id": "06c180b0",
   "metadata": {},
   "outputs": [],
   "source": [
    "df = dt.iloc[ : , 2:]\n"
   ]
  },
  {
   "cell_type": "code",
   "execution_count": 5,
   "id": "be39c86f",
   "metadata": {},
   "outputs": [
    {
     "data": {
      "application/vnd.microsoft.datawrangler.viewer.v0+json": {
       "columns": [
        {
         "name": "index",
         "rawType": "int64",
         "type": "integer"
        },
        {
         "name": "Age",
         "rawType": "int64",
         "type": "integer"
        },
        {
         "name": "EstimatedSalary",
         "rawType": "int64",
         "type": "integer"
        },
        {
         "name": "Purchased",
         "rawType": "int64",
         "type": "integer"
        }
       ],
       "ref": "1cf7add2-703b-4c2a-a769-894e5475cff1",
       "rows": [
        [
         "222",
         "37",
         "144000",
         "1"
        ],
        [
         "8",
         "25",
         "33000",
         "0"
        ],
        [
         "203",
         "41",
         "71000",
         "0"
        ],
        [
         "374",
         "37",
         "80000",
         "0"
        ],
        [
         "3",
         "27",
         "57000",
         "0"
        ]
       ],
       "shape": {
        "columns": 3,
        "rows": 5
       }
      },
      "text/html": [
       "<div>\n",
       "<style scoped>\n",
       "    .dataframe tbody tr th:only-of-type {\n",
       "        vertical-align: middle;\n",
       "    }\n",
       "\n",
       "    .dataframe tbody tr th {\n",
       "        vertical-align: top;\n",
       "    }\n",
       "\n",
       "    .dataframe thead th {\n",
       "        text-align: right;\n",
       "    }\n",
       "</style>\n",
       "<table border=\"1\" class=\"dataframe\">\n",
       "  <thead>\n",
       "    <tr style=\"text-align: right;\">\n",
       "      <th></th>\n",
       "      <th>Age</th>\n",
       "      <th>EstimatedSalary</th>\n",
       "      <th>Purchased</th>\n",
       "    </tr>\n",
       "  </thead>\n",
       "  <tbody>\n",
       "    <tr>\n",
       "      <th>222</th>\n",
       "      <td>37</td>\n",
       "      <td>144000</td>\n",
       "      <td>1</td>\n",
       "    </tr>\n",
       "    <tr>\n",
       "      <th>8</th>\n",
       "      <td>25</td>\n",
       "      <td>33000</td>\n",
       "      <td>0</td>\n",
       "    </tr>\n",
       "    <tr>\n",
       "      <th>203</th>\n",
       "      <td>41</td>\n",
       "      <td>71000</td>\n",
       "      <td>0</td>\n",
       "    </tr>\n",
       "    <tr>\n",
       "      <th>374</th>\n",
       "      <td>37</td>\n",
       "      <td>80000</td>\n",
       "      <td>0</td>\n",
       "    </tr>\n",
       "    <tr>\n",
       "      <th>3</th>\n",
       "      <td>27</td>\n",
       "      <td>57000</td>\n",
       "      <td>0</td>\n",
       "    </tr>\n",
       "  </tbody>\n",
       "</table>\n",
       "</div>"
      ],
      "text/plain": [
       "     Age  EstimatedSalary  Purchased\n",
       "222   37           144000          1\n",
       "8     25            33000          0\n",
       "203   41            71000          0\n",
       "374   37            80000          0\n",
       "3     27            57000          0"
      ]
     },
     "execution_count": 5,
     "metadata": {},
     "output_type": "execute_result"
    }
   ],
   "source": [
    "df.sample(5)"
   ]
  },
  {
   "cell_type": "code",
   "execution_count": 15,
   "id": "676546fe",
   "metadata": {},
   "outputs": [],
   "source": [
    "# train test split \n",
    "\n",
    "from sklearn.model_selection import train_test_split\n",
    "x_train , x_test , y_train , y_test = train_test_split(df.drop(\"Purchased\" , axis = 1) , df['Purchased'] , test_size = 0.3 , random_state = 42)"
   ]
  },
  {
   "cell_type": "code",
   "execution_count": 16,
   "id": "ff59150c",
   "metadata": {},
   "outputs": [
    {
     "name": "stdout",
     "output_type": "stream",
     "text": [
      "shape of training data  (280, 2) (280,)\n",
      "shape of testing data  (120, 2) (120,)\n"
     ]
    }
   ],
   "source": [
    "print(\"shape of training data \" , x_train.shape , y_train.shape)\n",
    "print(\"shape of testing data \" , x_test.shape , y_test.shape)"
   ]
  },
  {
   "cell_type": "code",
   "execution_count": 17,
   "id": "01814b33",
   "metadata": {},
   "outputs": [
    {
     "data": {
      "text/html": [
       "<style>#sk-container-id-2 {\n",
       "  /* Definition of color scheme common for light and dark mode */\n",
       "  --sklearn-color-text: #000;\n",
       "  --sklearn-color-text-muted: #666;\n",
       "  --sklearn-color-line: gray;\n",
       "  /* Definition of color scheme for unfitted estimators */\n",
       "  --sklearn-color-unfitted-level-0: #fff5e6;\n",
       "  --sklearn-color-unfitted-level-1: #f6e4d2;\n",
       "  --sklearn-color-unfitted-level-2: #ffe0b3;\n",
       "  --sklearn-color-unfitted-level-3: chocolate;\n",
       "  /* Definition of color scheme for fitted estimators */\n",
       "  --sklearn-color-fitted-level-0: #f0f8ff;\n",
       "  --sklearn-color-fitted-level-1: #d4ebff;\n",
       "  --sklearn-color-fitted-level-2: #b3dbfd;\n",
       "  --sklearn-color-fitted-level-3: cornflowerblue;\n",
       "\n",
       "  /* Specific color for light theme */\n",
       "  --sklearn-color-text-on-default-background: var(--sg-text-color, var(--theme-code-foreground, var(--jp-content-font-color1, black)));\n",
       "  --sklearn-color-background: var(--sg-background-color, var(--theme-background, var(--jp-layout-color0, white)));\n",
       "  --sklearn-color-border-box: var(--sg-text-color, var(--theme-code-foreground, var(--jp-content-font-color1, black)));\n",
       "  --sklearn-color-icon: #696969;\n",
       "\n",
       "  @media (prefers-color-scheme: dark) {\n",
       "    /* Redefinition of color scheme for dark theme */\n",
       "    --sklearn-color-text-on-default-background: var(--sg-text-color, var(--theme-code-foreground, var(--jp-content-font-color1, white)));\n",
       "    --sklearn-color-background: var(--sg-background-color, var(--theme-background, var(--jp-layout-color0, #111)));\n",
       "    --sklearn-color-border-box: var(--sg-text-color, var(--theme-code-foreground, var(--jp-content-font-color1, white)));\n",
       "    --sklearn-color-icon: #878787;\n",
       "  }\n",
       "}\n",
       "\n",
       "#sk-container-id-2 {\n",
       "  color: var(--sklearn-color-text);\n",
       "}\n",
       "\n",
       "#sk-container-id-2 pre {\n",
       "  padding: 0;\n",
       "}\n",
       "\n",
       "#sk-container-id-2 input.sk-hidden--visually {\n",
       "  border: 0;\n",
       "  clip: rect(1px 1px 1px 1px);\n",
       "  clip: rect(1px, 1px, 1px, 1px);\n",
       "  height: 1px;\n",
       "  margin: -1px;\n",
       "  overflow: hidden;\n",
       "  padding: 0;\n",
       "  position: absolute;\n",
       "  width: 1px;\n",
       "}\n",
       "\n",
       "#sk-container-id-2 div.sk-dashed-wrapped {\n",
       "  border: 1px dashed var(--sklearn-color-line);\n",
       "  margin: 0 0.4em 0.5em 0.4em;\n",
       "  box-sizing: border-box;\n",
       "  padding-bottom: 0.4em;\n",
       "  background-color: var(--sklearn-color-background);\n",
       "}\n",
       "\n",
       "#sk-container-id-2 div.sk-container {\n",
       "  /* jupyter's `normalize.less` sets `[hidden] { display: none; }`\n",
       "     but bootstrap.min.css set `[hidden] { display: none !important; }`\n",
       "     so we also need the `!important` here to be able to override the\n",
       "     default hidden behavior on the sphinx rendered scikit-learn.org.\n",
       "     See: https://github.com/scikit-learn/scikit-learn/issues/21755 */\n",
       "  display: inline-block !important;\n",
       "  position: relative;\n",
       "}\n",
       "\n",
       "#sk-container-id-2 div.sk-text-repr-fallback {\n",
       "  display: none;\n",
       "}\n",
       "\n",
       "div.sk-parallel-item,\n",
       "div.sk-serial,\n",
       "div.sk-item {\n",
       "  /* draw centered vertical line to link estimators */\n",
       "  background-image: linear-gradient(var(--sklearn-color-text-on-default-background), var(--sklearn-color-text-on-default-background));\n",
       "  background-size: 2px 100%;\n",
       "  background-repeat: no-repeat;\n",
       "  background-position: center center;\n",
       "}\n",
       "\n",
       "/* Parallel-specific style estimator block */\n",
       "\n",
       "#sk-container-id-2 div.sk-parallel-item::after {\n",
       "  content: \"\";\n",
       "  width: 100%;\n",
       "  border-bottom: 2px solid var(--sklearn-color-text-on-default-background);\n",
       "  flex-grow: 1;\n",
       "}\n",
       "\n",
       "#sk-container-id-2 div.sk-parallel {\n",
       "  display: flex;\n",
       "  align-items: stretch;\n",
       "  justify-content: center;\n",
       "  background-color: var(--sklearn-color-background);\n",
       "  position: relative;\n",
       "}\n",
       "\n",
       "#sk-container-id-2 div.sk-parallel-item {\n",
       "  display: flex;\n",
       "  flex-direction: column;\n",
       "}\n",
       "\n",
       "#sk-container-id-2 div.sk-parallel-item:first-child::after {\n",
       "  align-self: flex-end;\n",
       "  width: 50%;\n",
       "}\n",
       "\n",
       "#sk-container-id-2 div.sk-parallel-item:last-child::after {\n",
       "  align-self: flex-start;\n",
       "  width: 50%;\n",
       "}\n",
       "\n",
       "#sk-container-id-2 div.sk-parallel-item:only-child::after {\n",
       "  width: 0;\n",
       "}\n",
       "\n",
       "/* Serial-specific style estimator block */\n",
       "\n",
       "#sk-container-id-2 div.sk-serial {\n",
       "  display: flex;\n",
       "  flex-direction: column;\n",
       "  align-items: center;\n",
       "  background-color: var(--sklearn-color-background);\n",
       "  padding-right: 1em;\n",
       "  padding-left: 1em;\n",
       "}\n",
       "\n",
       "\n",
       "/* Toggleable style: style used for estimator/Pipeline/ColumnTransformer box that is\n",
       "clickable and can be expanded/collapsed.\n",
       "- Pipeline and ColumnTransformer use this feature and define the default style\n",
       "- Estimators will overwrite some part of the style using the `sk-estimator` class\n",
       "*/\n",
       "\n",
       "/* Pipeline and ColumnTransformer style (default) */\n",
       "\n",
       "#sk-container-id-2 div.sk-toggleable {\n",
       "  /* Default theme specific background. It is overwritten whether we have a\n",
       "  specific estimator or a Pipeline/ColumnTransformer */\n",
       "  background-color: var(--sklearn-color-background);\n",
       "}\n",
       "\n",
       "/* Toggleable label */\n",
       "#sk-container-id-2 label.sk-toggleable__label {\n",
       "  cursor: pointer;\n",
       "  display: flex;\n",
       "  width: 100%;\n",
       "  margin-bottom: 0;\n",
       "  padding: 0.5em;\n",
       "  box-sizing: border-box;\n",
       "  text-align: center;\n",
       "  align-items: start;\n",
       "  justify-content: space-between;\n",
       "  gap: 0.5em;\n",
       "}\n",
       "\n",
       "#sk-container-id-2 label.sk-toggleable__label .caption {\n",
       "  font-size: 0.6rem;\n",
       "  font-weight: lighter;\n",
       "  color: var(--sklearn-color-text-muted);\n",
       "}\n",
       "\n",
       "#sk-container-id-2 label.sk-toggleable__label-arrow:before {\n",
       "  /* Arrow on the left of the label */\n",
       "  content: \"▸\";\n",
       "  float: left;\n",
       "  margin-right: 0.25em;\n",
       "  color: var(--sklearn-color-icon);\n",
       "}\n",
       "\n",
       "#sk-container-id-2 label.sk-toggleable__label-arrow:hover:before {\n",
       "  color: var(--sklearn-color-text);\n",
       "}\n",
       "\n",
       "/* Toggleable content - dropdown */\n",
       "\n",
       "#sk-container-id-2 div.sk-toggleable__content {\n",
       "  max-height: 0;\n",
       "  max-width: 0;\n",
       "  overflow: hidden;\n",
       "  text-align: left;\n",
       "  /* unfitted */\n",
       "  background-color: var(--sklearn-color-unfitted-level-0);\n",
       "}\n",
       "\n",
       "#sk-container-id-2 div.sk-toggleable__content.fitted {\n",
       "  /* fitted */\n",
       "  background-color: var(--sklearn-color-fitted-level-0);\n",
       "}\n",
       "\n",
       "#sk-container-id-2 div.sk-toggleable__content pre {\n",
       "  margin: 0.2em;\n",
       "  border-radius: 0.25em;\n",
       "  color: var(--sklearn-color-text);\n",
       "  /* unfitted */\n",
       "  background-color: var(--sklearn-color-unfitted-level-0);\n",
       "}\n",
       "\n",
       "#sk-container-id-2 div.sk-toggleable__content.fitted pre {\n",
       "  /* unfitted */\n",
       "  background-color: var(--sklearn-color-fitted-level-0);\n",
       "}\n",
       "\n",
       "#sk-container-id-2 input.sk-toggleable__control:checked~div.sk-toggleable__content {\n",
       "  /* Expand drop-down */\n",
       "  max-height: 200px;\n",
       "  max-width: 100%;\n",
       "  overflow: auto;\n",
       "}\n",
       "\n",
       "#sk-container-id-2 input.sk-toggleable__control:checked~label.sk-toggleable__label-arrow:before {\n",
       "  content: \"▾\";\n",
       "}\n",
       "\n",
       "/* Pipeline/ColumnTransformer-specific style */\n",
       "\n",
       "#sk-container-id-2 div.sk-label input.sk-toggleable__control:checked~label.sk-toggleable__label {\n",
       "  color: var(--sklearn-color-text);\n",
       "  background-color: var(--sklearn-color-unfitted-level-2);\n",
       "}\n",
       "\n",
       "#sk-container-id-2 div.sk-label.fitted input.sk-toggleable__control:checked~label.sk-toggleable__label {\n",
       "  background-color: var(--sklearn-color-fitted-level-2);\n",
       "}\n",
       "\n",
       "/* Estimator-specific style */\n",
       "\n",
       "/* Colorize estimator box */\n",
       "#sk-container-id-2 div.sk-estimator input.sk-toggleable__control:checked~label.sk-toggleable__label {\n",
       "  /* unfitted */\n",
       "  background-color: var(--sklearn-color-unfitted-level-2);\n",
       "}\n",
       "\n",
       "#sk-container-id-2 div.sk-estimator.fitted input.sk-toggleable__control:checked~label.sk-toggleable__label {\n",
       "  /* fitted */\n",
       "  background-color: var(--sklearn-color-fitted-level-2);\n",
       "}\n",
       "\n",
       "#sk-container-id-2 div.sk-label label.sk-toggleable__label,\n",
       "#sk-container-id-2 div.sk-label label {\n",
       "  /* The background is the default theme color */\n",
       "  color: var(--sklearn-color-text-on-default-background);\n",
       "}\n",
       "\n",
       "/* On hover, darken the color of the background */\n",
       "#sk-container-id-2 div.sk-label:hover label.sk-toggleable__label {\n",
       "  color: var(--sklearn-color-text);\n",
       "  background-color: var(--sklearn-color-unfitted-level-2);\n",
       "}\n",
       "\n",
       "/* Label box, darken color on hover, fitted */\n",
       "#sk-container-id-2 div.sk-label.fitted:hover label.sk-toggleable__label.fitted {\n",
       "  color: var(--sklearn-color-text);\n",
       "  background-color: var(--sklearn-color-fitted-level-2);\n",
       "}\n",
       "\n",
       "/* Estimator label */\n",
       "\n",
       "#sk-container-id-2 div.sk-label label {\n",
       "  font-family: monospace;\n",
       "  font-weight: bold;\n",
       "  display: inline-block;\n",
       "  line-height: 1.2em;\n",
       "}\n",
       "\n",
       "#sk-container-id-2 div.sk-label-container {\n",
       "  text-align: center;\n",
       "}\n",
       "\n",
       "/* Estimator-specific */\n",
       "#sk-container-id-2 div.sk-estimator {\n",
       "  font-family: monospace;\n",
       "  border: 1px dotted var(--sklearn-color-border-box);\n",
       "  border-radius: 0.25em;\n",
       "  box-sizing: border-box;\n",
       "  margin-bottom: 0.5em;\n",
       "  /* unfitted */\n",
       "  background-color: var(--sklearn-color-unfitted-level-0);\n",
       "}\n",
       "\n",
       "#sk-container-id-2 div.sk-estimator.fitted {\n",
       "  /* fitted */\n",
       "  background-color: var(--sklearn-color-fitted-level-0);\n",
       "}\n",
       "\n",
       "/* on hover */\n",
       "#sk-container-id-2 div.sk-estimator:hover {\n",
       "  /* unfitted */\n",
       "  background-color: var(--sklearn-color-unfitted-level-2);\n",
       "}\n",
       "\n",
       "#sk-container-id-2 div.sk-estimator.fitted:hover {\n",
       "  /* fitted */\n",
       "  background-color: var(--sklearn-color-fitted-level-2);\n",
       "}\n",
       "\n",
       "/* Specification for estimator info (e.g. \"i\" and \"?\") */\n",
       "\n",
       "/* Common style for \"i\" and \"?\" */\n",
       "\n",
       ".sk-estimator-doc-link,\n",
       "a:link.sk-estimator-doc-link,\n",
       "a:visited.sk-estimator-doc-link {\n",
       "  float: right;\n",
       "  font-size: smaller;\n",
       "  line-height: 1em;\n",
       "  font-family: monospace;\n",
       "  background-color: var(--sklearn-color-background);\n",
       "  border-radius: 1em;\n",
       "  height: 1em;\n",
       "  width: 1em;\n",
       "  text-decoration: none !important;\n",
       "  margin-left: 0.5em;\n",
       "  text-align: center;\n",
       "  /* unfitted */\n",
       "  border: var(--sklearn-color-unfitted-level-1) 1pt solid;\n",
       "  color: var(--sklearn-color-unfitted-level-1);\n",
       "}\n",
       "\n",
       ".sk-estimator-doc-link.fitted,\n",
       "a:link.sk-estimator-doc-link.fitted,\n",
       "a:visited.sk-estimator-doc-link.fitted {\n",
       "  /* fitted */\n",
       "  border: var(--sklearn-color-fitted-level-1) 1pt solid;\n",
       "  color: var(--sklearn-color-fitted-level-1);\n",
       "}\n",
       "\n",
       "/* On hover */\n",
       "div.sk-estimator:hover .sk-estimator-doc-link:hover,\n",
       ".sk-estimator-doc-link:hover,\n",
       "div.sk-label-container:hover .sk-estimator-doc-link:hover,\n",
       ".sk-estimator-doc-link:hover {\n",
       "  /* unfitted */\n",
       "  background-color: var(--sklearn-color-unfitted-level-3);\n",
       "  color: var(--sklearn-color-background);\n",
       "  text-decoration: none;\n",
       "}\n",
       "\n",
       "div.sk-estimator.fitted:hover .sk-estimator-doc-link.fitted:hover,\n",
       ".sk-estimator-doc-link.fitted:hover,\n",
       "div.sk-label-container:hover .sk-estimator-doc-link.fitted:hover,\n",
       ".sk-estimator-doc-link.fitted:hover {\n",
       "  /* fitted */\n",
       "  background-color: var(--sklearn-color-fitted-level-3);\n",
       "  color: var(--sklearn-color-background);\n",
       "  text-decoration: none;\n",
       "}\n",
       "\n",
       "/* Span, style for the box shown on hovering the info icon */\n",
       ".sk-estimator-doc-link span {\n",
       "  display: none;\n",
       "  z-index: 9999;\n",
       "  position: relative;\n",
       "  font-weight: normal;\n",
       "  right: .2ex;\n",
       "  padding: .5ex;\n",
       "  margin: .5ex;\n",
       "  width: min-content;\n",
       "  min-width: 20ex;\n",
       "  max-width: 50ex;\n",
       "  color: var(--sklearn-color-text);\n",
       "  box-shadow: 2pt 2pt 4pt #999;\n",
       "  /* unfitted */\n",
       "  background: var(--sklearn-color-unfitted-level-0);\n",
       "  border: .5pt solid var(--sklearn-color-unfitted-level-3);\n",
       "}\n",
       "\n",
       ".sk-estimator-doc-link.fitted span {\n",
       "  /* fitted */\n",
       "  background: var(--sklearn-color-fitted-level-0);\n",
       "  border: var(--sklearn-color-fitted-level-3);\n",
       "}\n",
       "\n",
       ".sk-estimator-doc-link:hover span {\n",
       "  display: block;\n",
       "}\n",
       "\n",
       "/* \"?\"-specific style due to the `<a>` HTML tag */\n",
       "\n",
       "#sk-container-id-2 a.estimator_doc_link {\n",
       "  float: right;\n",
       "  font-size: 1rem;\n",
       "  line-height: 1em;\n",
       "  font-family: monospace;\n",
       "  background-color: var(--sklearn-color-background);\n",
       "  border-radius: 1rem;\n",
       "  height: 1rem;\n",
       "  width: 1rem;\n",
       "  text-decoration: none;\n",
       "  /* unfitted */\n",
       "  color: var(--sklearn-color-unfitted-level-1);\n",
       "  border: var(--sklearn-color-unfitted-level-1) 1pt solid;\n",
       "}\n",
       "\n",
       "#sk-container-id-2 a.estimator_doc_link.fitted {\n",
       "  /* fitted */\n",
       "  border: var(--sklearn-color-fitted-level-1) 1pt solid;\n",
       "  color: var(--sklearn-color-fitted-level-1);\n",
       "}\n",
       "\n",
       "/* On hover */\n",
       "#sk-container-id-2 a.estimator_doc_link:hover {\n",
       "  /* unfitted */\n",
       "  background-color: var(--sklearn-color-unfitted-level-3);\n",
       "  color: var(--sklearn-color-background);\n",
       "  text-decoration: none;\n",
       "}\n",
       "\n",
       "#sk-container-id-2 a.estimator_doc_link.fitted:hover {\n",
       "  /* fitted */\n",
       "  background-color: var(--sklearn-color-fitted-level-3);\n",
       "}\n",
       "</style><div id=\"sk-container-id-2\" class=\"sk-top-container\"><div class=\"sk-text-repr-fallback\"><pre>StandardScaler()</pre><b>In a Jupyter environment, please rerun this cell to show the HTML representation or trust the notebook. <br />On GitHub, the HTML representation is unable to render, please try loading this page with nbviewer.org.</b></div><div class=\"sk-container\" hidden><div class=\"sk-item\"><div class=\"sk-estimator fitted sk-toggleable\"><input class=\"sk-toggleable__control sk-hidden--visually\" id=\"sk-estimator-id-2\" type=\"checkbox\" checked><label for=\"sk-estimator-id-2\" class=\"sk-toggleable__label fitted sk-toggleable__label-arrow\"><div><div>StandardScaler</div></div><div><a class=\"sk-estimator-doc-link fitted\" rel=\"noreferrer\" target=\"_blank\" href=\"https://scikit-learn.org/1.6/modules/generated/sklearn.preprocessing.StandardScaler.html\">?<span>Documentation for StandardScaler</span></a><span class=\"sk-estimator-doc-link fitted\">i<span>Fitted</span></span></div></label><div class=\"sk-toggleable__content fitted\"><pre>StandardScaler()</pre></div> </div></div></div></div>"
      ],
      "text/plain": [
       "StandardScaler()"
      ]
     },
     "execution_count": 17,
     "metadata": {},
     "output_type": "execute_result"
    }
   ],
   "source": [
    "#standard scaler\n",
    "from sklearn.preprocessing import StandardScaler\n",
    "scaler = StandardScaler()\n",
    "scaler.fit(x_train)\n"
   ]
  },
  {
   "cell_type": "code",
   "execution_count": 18,
   "id": "4c52e512",
   "metadata": {},
   "outputs": [],
   "source": [
    "x_train_scaled = scaler.transform(x_train)\n",
    "x_test_Scaled = scaler.transform(x_test)"
   ]
  },
  {
   "cell_type": "code",
   "execution_count": 19,
   "id": "052b0854",
   "metadata": {},
   "outputs": [
    {
     "data": {
      "text/plain": [
       "array([3.75750000e+01, 7.05892857e+04])"
      ]
     },
     "execution_count": 19,
     "metadata": {},
     "output_type": "execute_result"
    }
   ],
   "source": [
    "scaler.mean_"
   ]
  },
  {
   "cell_type": "code",
   "execution_count": 20,
   "id": "257726fc",
   "metadata": {},
   "outputs": [
    {
     "data": {
      "text/plain": [
       "array([[-0.84252154,  0.1301563 ],\n",
       "       [ 0.04175763,  0.2777019 ],\n",
       "       [ 0.72953032, -1.31579061],\n",
       "       [ 1.61380949,  1.10395728],\n",
       "       [ 0.82778356, -1.40431797],\n",
       "       [-1.43204099, -1.25677236],\n",
       "       [-0.05649561,  0.1301563 ],\n",
       "       [ 0.43477059, -0.16493491],\n",
       "       [-0.2530021 ,  0.01211982],\n",
       "       [ 1.31904976,  2.22530386],\n",
       "       [ 0.14001087,  0.74984783],\n",
       "       [-1.33378775,  0.54328399],\n",
       "       [ 2.00682245,  0.72033871],\n",
       "       [-1.23553451, -1.43382709],\n",
       "       [ 0.33651735, -0.34198963],\n",
       "       [-0.94077478,  0.54328399],\n",
       "       [ 0.43477059,  0.2777019 ],\n",
       "       [ 0.43477059,  1.10395728],\n",
       "       [ 0.82778356,  0.74984783],\n",
       "       [ 0.9260368 ,  1.25150288],\n",
       "       [-0.44950858, -1.25677236],\n",
       "       [-1.82505395, -1.34529973],\n",
       "       [ 1.12254328,  0.54328399],\n",
       "       [-0.64601506, -1.64039093],\n",
       "       [-0.7442683 ,  0.24819278],\n",
       "       [ 1.02429004,  2.07775825],\n",
       "       [-0.54776182,  1.36953936],\n",
       "       [-0.05649561,  0.01211982],\n",
       "       [-1.9233072 ,  0.45475663],\n",
       "       [ 0.43477059,  0.24819278],\n",
       "       [-1.03902802,  0.39573838],\n",
       "       [ 0.23826411, -0.16493491],\n",
       "       [ 1.90856921,  0.10064718],\n",
       "       [-1.13728127, -1.64039093],\n",
       "       [-1.13728127,  0.2777019 ],\n",
       "       [-0.84252154, -0.81413556],\n",
       "       [-0.44950858,  2.31383122],\n",
       "       [ 0.14001087, -0.84364468],\n",
       "       [ 1.61380949,  0.98592079],\n",
       "       [-0.15474885, -1.10922676],\n",
       "       [ 0.82778356, -1.13873588],\n",
       "       [ 0.23826411,  2.10726737],\n",
       "       [-0.05649561, -0.25346227],\n",
       "       [-0.84252154,  2.2843221 ],\n",
       "       [-0.05649561, -0.40100787],\n",
       "       [-0.2530021 , -0.60757171],\n",
       "       [ 0.43477059, -0.51904435],\n",
       "       [-0.2530021 , -0.96168116],\n",
       "       [ 0.33651735, -1.19775412],\n",
       "       [ 0.23826411,  0.04162894],\n",
       "       [-1.13728127, -1.64039093],\n",
       "       [-0.64601506, -0.07640754],\n",
       "       [-0.2530021 , -0.51904435],\n",
       "       [-0.2530021 , -1.34529973],\n",
       "       [-0.7442683 ,  0.54328399],\n",
       "       [ 0.33651735,  0.04162894],\n",
       "       [-0.94077478,  1.54659408],\n",
       "       [ 0.82778356,  0.33672014],\n",
       "       [-1.53029423, -0.22395315],\n",
       "       [ 0.72953032, -1.43382709],\n",
       "       [-0.7442683 , -0.63708083],\n",
       "       [-0.35125534, -1.34529973],\n",
       "       [ 0.23826411,  0.1301563 ],\n",
       "       [-0.54776182,  1.36953936],\n",
       "       [-1.43204099,  0.33672014],\n",
       "       [-1.13728127,  0.2777019 ],\n",
       "       [ 1.02429004,  1.78266705],\n",
       "       [ 2.10507569,  2.13677649],\n",
       "       [-0.2530021 , -0.46002611],\n",
       "       [-0.35125534, -0.81413556],\n",
       "       [ 0.14001087, -0.28297139],\n",
       "       [-1.03902802,  0.74984783],\n",
       "       [ 2.20332893,  0.36622926],\n",
       "       [-1.33378775, -0.46002611],\n",
       "       [ 2.00682245,  2.16628562],\n",
       "       [ 1.51555624,  0.98592079],\n",
       "       [-0.2530021 ,  0.24819278],\n",
       "       [-0.15474885,  0.83837519],\n",
       "       [ 1.90856921, -0.31248051],\n",
       "       [-0.05649561,  1.95972177],\n",
       "       [-0.44950858, -0.81413556],\n",
       "       [ 0.33651735,  0.01211982],\n",
       "       [ 1.417303  , -1.46333621],\n",
       "       [ 1.417303  ,  2.34334034],\n",
       "       [-0.05649561, -0.0173893 ],\n",
       "       [-1.13728127,  0.39573838],\n",
       "       [-1.13728127,  0.04162894],\n",
       "       [-1.13728127, -0.54855347],\n",
       "       [ 0.33651735, -0.31248051],\n",
       "       [-0.64601506, -0.13542579],\n",
       "       [-0.05649561,  2.16628562],\n",
       "       [ 0.04175763, -0.28297139],\n",
       "       [-0.64601506, -1.07971764],\n",
       "       [ 0.43477059,  0.1301563 ],\n",
       "       [ 0.82778356,  1.36953936],\n",
       "       [-0.15474885, -0.54855347],\n",
       "       [ 0.04175763,  0.01211982],\n",
       "       [ 1.12254328,  0.51377487],\n",
       "       [ 1.90856921, -1.10922676],\n",
       "       [ 1.02429004,  1.98923089],\n",
       "       [ 0.9260368 , -0.60757171],\n",
       "       [-0.44950858, -0.04689842],\n",
       "       [-0.05649561,  2.22530386],\n",
       "       [-1.72680071,  0.33672014],\n",
       "       [ 0.23826411, -0.69609908],\n",
       "       [-0.2530021 , -1.43382709],\n",
       "       [-1.72680071, -1.0206994 ],\n",
       "       [ 0.72953032, -0.75511732],\n",
       "       [-1.13728127, -0.81413556],\n",
       "       [ 2.00682245,  0.89739343],\n",
       "       [ 0.23826411, -0.40100787],\n",
       "       [ 0.04175763,  1.22199376],\n",
       "       [-0.05649561,  0.2777019 ],\n",
       "       [ 1.12254328, -1.25677236],\n",
       "       [-0.15474885,  0.1301563 ],\n",
       "       [ 0.33651735,  0.04162894],\n",
       "       [-0.2530021 , -0.31248051],\n",
       "       [ 0.53302383,  1.72364881],\n",
       "       [ 0.33651735,  0.48426575],\n",
       "       [ 0.04175763,  1.25150288],\n",
       "       [ 2.00682245, -1.40431797],\n",
       "       [-1.13728127, -1.13873588],\n",
       "       [-0.54776182, -1.55186357],\n",
       "       [ 0.33651735, -0.54855347],\n",
       "       [-0.64601506, -1.55186357],\n",
       "       [-0.2530021 ,  0.51377487],\n",
       "       [ 1.02429004, -1.05020852],\n",
       "       [-1.03902802,  0.54328399],\n",
       "       [-0.2530021 ,  0.77935695],\n",
       "       [ 0.43477059,  0.07113806],\n",
       "       [-1.62854747, -0.07640754],\n",
       "       [ 0.33651735,  0.04162894],\n",
       "       [-0.44950858, -0.31248051],\n",
       "       [ 0.14001087,  1.87119441],\n",
       "       [-0.94077478,  0.39573838],\n",
       "       [ 0.82778356,  0.51377487],\n",
       "       [-1.33378775, -0.37149875],\n",
       "       [-0.64601506,  1.39904848],\n",
       "       [ 1.22079652,  0.51377487],\n",
       "       [-1.72680071,  0.33672014],\n",
       "       [-0.54776182,  1.90070353],\n",
       "       [-1.72680071,  0.45475663],\n",
       "       [-0.2530021 , -1.28628149],\n",
       "       [-0.84252154, -0.81413556],\n",
       "       [-1.62854747,  0.51377487],\n",
       "       [-0.2530021 , -0.34198963],\n",
       "       [ 0.72953032, -1.13873588],\n",
       "       [ 2.20332893, -0.84364468],\n",
       "       [-0.2530021 ,  0.60230223],\n",
       "       [-0.2530021 , -0.78462644],\n",
       "       [-1.9233072 , -0.78462644],\n",
       "       [ 0.43477059,  2.31383122],\n",
       "       [ 0.72953032,  0.24819278],\n",
       "       [ 0.23826411, -0.31248051],\n",
       "       [-1.33378775, -1.40431797],\n",
       "       [-0.44950858, -0.57806259],\n",
       "       [ 0.43477059, -0.0173893 ],\n",
       "       [ 1.71206273,  1.75315793],\n",
       "       [ 1.22079652, -0.78462644],\n",
       "       [ 1.02429004,  1.4285576 ],\n",
       "       [-1.82505395,  0.15966542],\n",
       "       [ 0.33651735,  0.04162894],\n",
       "       [ 0.23826411,  0.01211982],\n",
       "       [-1.03902802,  0.51377487],\n",
       "       [-0.15474885,  1.63512145],\n",
       "       [-0.2530021 ,  0.1301563 ],\n",
       "       [-0.2530021 , -0.37149875],\n",
       "       [-0.35125534,  1.31052112],\n",
       "       [-0.2530021 ,  0.07113806],\n",
       "       [ 2.20332893,  1.10395728],\n",
       "       [-1.23553451,  0.48426575],\n",
       "       [-1.03902802, -0.48953523],\n",
       "       [-1.62854747, -1.61088181],\n",
       "       [-0.05649561,  0.10064718],\n",
       "       [-0.2530021 , -0.93217204],\n",
       "       [ 1.61380949, -0.0173893 ],\n",
       "       [ 0.9260368 , -1.19775412],\n",
       "       [ 0.04175763, -0.60757171],\n",
       "       [-0.2530021 ,  2.25481298],\n",
       "       [-0.2530021 ,  0.18917454],\n",
       "       [ 0.33651735,  0.24819278],\n",
       "       [-0.05649561, -1.10922676],\n",
       "       [ 2.20332893, -0.7256082 ],\n",
       "       [-0.94077478, -0.34198963],\n",
       "       [-1.43204099, -0.13542579],\n",
       "       [-1.43204099, -0.22395315],\n",
       "       [-0.7442683 , -1.58137269],\n",
       "       [-1.23553451, -1.10922676],\n",
       "       [ 2.10507569,  0.36622926],\n",
       "       [ 2.00682245, -0.96168116],\n",
       "       [-1.9233072 ,  0.33672014],\n",
       "       [ 0.82778356, -0.34198963],\n",
       "       [-1.03902802, -1.58137269],\n",
       "       [ 2.00682245, -0.69609908],\n",
       "       [ 1.02429004, -1.19775412],\n",
       "       [ 1.12254328, -0.16493491],\n",
       "       [ 1.22079652, -1.0206994 ],\n",
       "       [ 1.51555624,  0.04162894],\n",
       "       [ 0.23826411, -0.40100787],\n",
       "       [ 1.417303  ,  1.281012  ],\n",
       "       [ 2.10507569, -0.84364468],\n",
       "       [-0.15474885, -0.22395315],\n",
       "       [ 0.43477059,  0.98592079],\n",
       "       [-0.05649561, -0.54855347],\n",
       "       [ 1.02429004, -1.10922676],\n",
       "       [ 2.10507569, -1.22726324],\n",
       "       [-0.05649561,  0.24819278],\n",
       "       [ 0.23826411, -0.28297139],\n",
       "       [ 1.12254328,  0.10064718],\n",
       "       [-1.23553451,  0.57279311],\n",
       "       [-0.7442683 , -1.64039093],\n",
       "       [ 0.23826411,  0.21868366],\n",
       "       [-1.33378775,  0.39573838],\n",
       "       [ 0.04175763, -0.60757171],\n",
       "       [ 0.72953032,  1.78266705],\n",
       "       [-1.62854747,  0.04162894],\n",
       "       [-0.2530021 , -1.40431797],\n",
       "       [-0.2530021 , -1.49284533],\n",
       "       [-0.64601506,  0.54328399],\n",
       "       [-0.7442683 ,  0.2777019 ],\n",
       "       [ 0.9260368 , -0.69609908],\n",
       "       [-1.03902802,  0.57279311],\n",
       "       [-0.2530021 ,  0.04162894],\n",
       "       [-0.7442683 ,  1.34003024],\n",
       "       [ 0.14001087,  1.51708496],\n",
       "       [-0.84252154,  0.36622926],\n",
       "       [ 0.33651735, -0.22395315],\n",
       "       [ 1.02429004,  0.57279311],\n",
       "       [ 0.04175763, -0.34198963],\n",
       "       [-0.54776182, -1.55186357],\n",
       "       [ 0.14001087,  0.1301563 ],\n",
       "       [-1.13728127,  0.30721102],\n",
       "       [ 0.14001087,  1.04493904],\n",
       "       [-1.53029423, -0.46002611],\n",
       "       [-0.15474885,  1.39904848],\n",
       "       [ 2.20332893, -0.84364468],\n",
       "       [-0.94077478, -0.46002611],\n",
       "       [ 1.31904976,  1.87119441],\n",
       "       [ 1.12254328, -1.25677236],\n",
       "       [-0.15474885, -0.31248051],\n",
       "       [ 1.81031597,  0.98592079],\n",
       "       [-1.03902802, -0.37149875],\n",
       "       [-1.33378775, -1.13873588],\n",
       "       [-0.35125534,  0.04162894],\n",
       "       [-0.94077478, -1.13873588],\n",
       "       [ 1.22079652, -1.49284533],\n",
       "       [-0.44950858, -0.8731538 ],\n",
       "       [-0.84252154, -0.69609908],\n",
       "       [-1.53029423, -1.55186357],\n",
       "       [-0.7442683 ,  1.90070353],\n",
       "       [ 0.9260368 ,  1.01542992],\n",
       "       [ 0.82778356,  0.24819278],\n",
       "       [ 1.02429004,  1.87119441],\n",
       "       [ 0.9260368 , -0.63708083],\n",
       "       [ 1.12254328,  2.07775825],\n",
       "       [-0.54776182,  0.86788431],\n",
       "       [ 0.04175763,  0.01211982],\n",
       "       [-1.82505395, -1.31579061],\n",
       "       [-0.05649561,  0.18917454],\n",
       "       [ 0.9260368 , -0.57806259],\n",
       "       [ 0.23826411, -0.40100787],\n",
       "       [-0.15474885,  1.60561233],\n",
       "       [-1.72680071,  0.10064718],\n",
       "       [-0.64601506, -0.37149875],\n",
       "       [ 0.33651735, -0.75511732],\n",
       "       [ 0.43477059, -0.48953523],\n",
       "       [-0.94077478, -0.99119028],\n",
       "       [ 0.14001087,  0.07113806],\n",
       "       [-0.94077478,  0.4252475 ],\n",
       "       [ 0.04175763, -0.57806259],\n",
       "       [ 0.9260368 , -0.81413556],\n",
       "       [-0.05649561,  0.04162894],\n",
       "       [ 1.12254328, -1.0206994 ],\n",
       "       [ 0.72953032, -1.43382709],\n",
       "       [-0.2530021 ,  0.04162894],\n",
       "       [-1.33378775, -1.28628149],\n",
       "       [-1.13728127, -1.05020852],\n",
       "       [ 0.53302383,  1.84168529],\n",
       "       [ 0.14001087,  0.18917454],\n",
       "       [-0.54776182,  0.45475663]])"
      ]
     },
     "execution_count": 20,
     "metadata": {},
     "output_type": "execute_result"
    }
   ],
   "source": [
    "x_train_scaled"
   ]
  },
  {
   "cell_type": "code",
   "execution_count": 21,
   "id": "8f466fba",
   "metadata": {},
   "outputs": [],
   "source": [
    "x_train_scaled = pd.DataFrame(x_train_scaled, columns=x_train.columns)"
   ]
  },
  {
   "cell_type": "code",
   "execution_count": 22,
   "id": "66b822cb",
   "metadata": {},
   "outputs": [],
   "source": [
    "x_test_Scaled = pd.DataFrame(x_test_Scaled, columns=x_test.columns)"
   ]
  },
  {
   "cell_type": "code",
   "execution_count": 26,
   "id": "16e22723",
   "metadata": {},
   "outputs": [
    {
     "data": {
      "application/vnd.microsoft.datawrangler.viewer.v0+json": {
       "columns": [
        {
         "name": "index",
         "rawType": "int64",
         "type": "integer"
        },
        {
         "name": "Age",
         "rawType": "float64",
         "type": "float"
        },
        {
         "name": "EstimatedSalary",
         "rawType": "float64",
         "type": "float"
        }
       ],
       "ref": "38578394-de89-4e59-90e4-fbbf1b6b9921",
       "rows": [
        [
         "0",
         "-0.8425215426840936",
         "0.13015629943334092"
        ],
        [
         "1",
         "0.04175762747996936",
         "0.27770190202984063"
        ],
        [
         "2",
         "0.7295303153853516",
         "-1.315790606012356"
        ],
        [
         "3",
         "1.6138094855494147",
         "1.1039572765702388"
        ],
        [
         "4",
         "0.827783556514692",
         "-1.404317967570256"
        ]
       ],
       "shape": {
        "columns": 2,
        "rows": 5
       }
      },
      "text/html": [
       "<div>\n",
       "<style scoped>\n",
       "    .dataframe tbody tr th:only-of-type {\n",
       "        vertical-align: middle;\n",
       "    }\n",
       "\n",
       "    .dataframe tbody tr th {\n",
       "        vertical-align: top;\n",
       "    }\n",
       "\n",
       "    .dataframe thead th {\n",
       "        text-align: right;\n",
       "    }\n",
       "</style>\n",
       "<table border=\"1\" class=\"dataframe\">\n",
       "  <thead>\n",
       "    <tr style=\"text-align: right;\">\n",
       "      <th></th>\n",
       "      <th>Age</th>\n",
       "      <th>EstimatedSalary</th>\n",
       "    </tr>\n",
       "  </thead>\n",
       "  <tbody>\n",
       "    <tr>\n",
       "      <th>0</th>\n",
       "      <td>-0.842522</td>\n",
       "      <td>0.130156</td>\n",
       "    </tr>\n",
       "    <tr>\n",
       "      <th>1</th>\n",
       "      <td>0.041758</td>\n",
       "      <td>0.277702</td>\n",
       "    </tr>\n",
       "    <tr>\n",
       "      <th>2</th>\n",
       "      <td>0.729530</td>\n",
       "      <td>-1.315791</td>\n",
       "    </tr>\n",
       "    <tr>\n",
       "      <th>3</th>\n",
       "      <td>1.613809</td>\n",
       "      <td>1.103957</td>\n",
       "    </tr>\n",
       "    <tr>\n",
       "      <th>4</th>\n",
       "      <td>0.827784</td>\n",
       "      <td>-1.404318</td>\n",
       "    </tr>\n",
       "  </tbody>\n",
       "</table>\n",
       "</div>"
      ],
      "text/plain": [
       "        Age  EstimatedSalary\n",
       "0 -0.842522         0.130156\n",
       "1  0.041758         0.277702\n",
       "2  0.729530        -1.315791\n",
       "3  1.613809         1.103957\n",
       "4  0.827784        -1.404318"
      ]
     },
     "execution_count": 26,
     "metadata": {},
     "output_type": "execute_result"
    }
   ],
   "source": [
    "x_train_scaled.head()"
   ]
  },
  {
   "cell_type": "code",
   "execution_count": 23,
   "id": "5be1278e",
   "metadata": {},
   "outputs": [
    {
     "data": {
      "application/vnd.microsoft.datawrangler.viewer.v0+json": {
       "columns": [
        {
         "name": "index",
         "rawType": "object",
         "type": "string"
        },
        {
         "name": "Age",
         "rawType": "float64",
         "type": "float"
        },
        {
         "name": "EstimatedSalary",
         "rawType": "float64",
         "type": "float"
        }
       ],
       "ref": "8c854fb1-a927-4f22-9a46-ffd6b44475d8",
       "rows": [
        [
         "count",
         "280.0",
         "280.0"
        ],
        [
         "mean",
         "-0.0",
         "0.0"
        ],
        [
         "std",
         "1.0",
         "1.0"
        ],
        [
         "min",
         "-1.9",
         "-1.6"
        ],
        [
         "25%",
         "-0.7",
         "-0.8"
        ],
        [
         "50%",
         "-0.1",
         "0.0"
        ],
        [
         "75%",
         "0.7",
         "0.5"
        ],
        [
         "max",
         "2.2",
         "2.3"
        ]
       ],
       "shape": {
        "columns": 2,
        "rows": 8
       }
      },
      "text/html": [
       "<div>\n",
       "<style scoped>\n",
       "    .dataframe tbody tr th:only-of-type {\n",
       "        vertical-align: middle;\n",
       "    }\n",
       "\n",
       "    .dataframe tbody tr th {\n",
       "        vertical-align: top;\n",
       "    }\n",
       "\n",
       "    .dataframe thead th {\n",
       "        text-align: right;\n",
       "    }\n",
       "</style>\n",
       "<table border=\"1\" class=\"dataframe\">\n",
       "  <thead>\n",
       "    <tr style=\"text-align: right;\">\n",
       "      <th></th>\n",
       "      <th>Age</th>\n",
       "      <th>EstimatedSalary</th>\n",
       "    </tr>\n",
       "  </thead>\n",
       "  <tbody>\n",
       "    <tr>\n",
       "      <th>count</th>\n",
       "      <td>280.0</td>\n",
       "      <td>280.0</td>\n",
       "    </tr>\n",
       "    <tr>\n",
       "      <th>mean</th>\n",
       "      <td>-0.0</td>\n",
       "      <td>0.0</td>\n",
       "    </tr>\n",
       "    <tr>\n",
       "      <th>std</th>\n",
       "      <td>1.0</td>\n",
       "      <td>1.0</td>\n",
       "    </tr>\n",
       "    <tr>\n",
       "      <th>min</th>\n",
       "      <td>-1.9</td>\n",
       "      <td>-1.6</td>\n",
       "    </tr>\n",
       "    <tr>\n",
       "      <th>25%</th>\n",
       "      <td>-0.7</td>\n",
       "      <td>-0.8</td>\n",
       "    </tr>\n",
       "    <tr>\n",
       "      <th>50%</th>\n",
       "      <td>-0.1</td>\n",
       "      <td>0.0</td>\n",
       "    </tr>\n",
       "    <tr>\n",
       "      <th>75%</th>\n",
       "      <td>0.7</td>\n",
       "      <td>0.5</td>\n",
       "    </tr>\n",
       "    <tr>\n",
       "      <th>max</th>\n",
       "      <td>2.2</td>\n",
       "      <td>2.3</td>\n",
       "    </tr>\n",
       "  </tbody>\n",
       "</table>\n",
       "</div>"
      ],
      "text/plain": [
       "         Age  EstimatedSalary\n",
       "count  280.0            280.0\n",
       "mean    -0.0              0.0\n",
       "std      1.0              1.0\n",
       "min     -1.9             -1.6\n",
       "25%     -0.7             -0.8\n",
       "50%     -0.1              0.0\n",
       "75%      0.7              0.5\n",
       "max      2.2              2.3"
      ]
     },
     "execution_count": 23,
     "metadata": {},
     "output_type": "execute_result"
    }
   ],
   "source": [
    "np.round(x_train_scaled.describe() , 1)"
   ]
  },
  {
   "cell_type": "code",
   "execution_count": 25,
   "id": "cb276c42",
   "metadata": {},
   "outputs": [
    {
     "data": {
      "application/vnd.microsoft.datawrangler.viewer.v0+json": {
       "columns": [
        {
         "name": "index",
         "rawType": "object",
         "type": "string"
        },
        {
         "name": "Age",
         "rawType": "float64",
         "type": "float"
        },
        {
         "name": "EstimatedSalary",
         "rawType": "float64",
         "type": "float"
        }
       ],
       "ref": "73199000-ac7c-46eb-97ce-37cf0c64938b",
       "rows": [
        [
         "count",
         "120.0",
         "120.0"
        ],
        [
         "mean",
         "0.0",
         "-0.1"
        ],
        [
         "std",
         "1.1",
         "1.0"
        ],
        [
         "min",
         "-1.9",
         "-1.6"
        ],
        [
         "25%",
         "-0.9",
         "-0.9"
        ],
        [
         "50%",
         "-0.1",
         "-0.2"
        ],
        [
         "75%",
         "0.9",
         "0.5"
        ],
        [
         "max",
         "2.2",
         "2.3"
        ]
       ],
       "shape": {
        "columns": 2,
        "rows": 8
       }
      },
      "text/html": [
       "<div>\n",
       "<style scoped>\n",
       "    .dataframe tbody tr th:only-of-type {\n",
       "        vertical-align: middle;\n",
       "    }\n",
       "\n",
       "    .dataframe tbody tr th {\n",
       "        vertical-align: top;\n",
       "    }\n",
       "\n",
       "    .dataframe thead th {\n",
       "        text-align: right;\n",
       "    }\n",
       "</style>\n",
       "<table border=\"1\" class=\"dataframe\">\n",
       "  <thead>\n",
       "    <tr style=\"text-align: right;\">\n",
       "      <th></th>\n",
       "      <th>Age</th>\n",
       "      <th>EstimatedSalary</th>\n",
       "    </tr>\n",
       "  </thead>\n",
       "  <tbody>\n",
       "    <tr>\n",
       "      <th>count</th>\n",
       "      <td>120.0</td>\n",
       "      <td>120.0</td>\n",
       "    </tr>\n",
       "    <tr>\n",
       "      <th>mean</th>\n",
       "      <td>0.0</td>\n",
       "      <td>-0.1</td>\n",
       "    </tr>\n",
       "    <tr>\n",
       "      <th>std</th>\n",
       "      <td>1.1</td>\n",
       "      <td>1.0</td>\n",
       "    </tr>\n",
       "    <tr>\n",
       "      <th>min</th>\n",
       "      <td>-1.9</td>\n",
       "      <td>-1.6</td>\n",
       "    </tr>\n",
       "    <tr>\n",
       "      <th>25%</th>\n",
       "      <td>-0.9</td>\n",
       "      <td>-0.9</td>\n",
       "    </tr>\n",
       "    <tr>\n",
       "      <th>50%</th>\n",
       "      <td>-0.1</td>\n",
       "      <td>-0.2</td>\n",
       "    </tr>\n",
       "    <tr>\n",
       "      <th>75%</th>\n",
       "      <td>0.9</td>\n",
       "      <td>0.5</td>\n",
       "    </tr>\n",
       "    <tr>\n",
       "      <th>max</th>\n",
       "      <td>2.2</td>\n",
       "      <td>2.3</td>\n",
       "    </tr>\n",
       "  </tbody>\n",
       "</table>\n",
       "</div>"
      ],
      "text/plain": [
       "         Age  EstimatedSalary\n",
       "count  120.0            120.0\n",
       "mean     0.0             -0.1\n",
       "std      1.1              1.0\n",
       "min     -1.9             -1.6\n",
       "25%     -0.9             -0.9\n",
       "50%     -0.1             -0.2\n",
       "75%      0.9              0.5\n",
       "max      2.2              2.3"
      ]
     },
     "execution_count": 25,
     "metadata": {},
     "output_type": "execute_result"
    }
   ],
   "source": [
    "np.round(x_test_Scaled.describe() , 1)"
   ]
  },
  {
   "cell_type": "code",
   "execution_count": 29,
   "id": "9f96976b",
   "metadata": {},
   "outputs": [
    {
     "data": {
      "image/png": "[encoded data removed]",
      "text/plain": [
       "<Figure size 1500x500 with 2 Axes>"
      ]
     },
     "metadata": {},
     "output_type": "display_data"
    }
   ],
   "source": [
    "# effect of the scaling pn the data \n",
    "\n",
    "fig , (ax1 , ax2) = plt.subplots(ncols = 2 , figsize = (15 , 5))\n",
    "ax1.scatter(x_train['Age'] , x_train['EstimatedSalary'] , color = 'red')\n",
    "ax1.set_title('Before Scaling')\n",
    "\n",
    "ax2.scatter(x_train_scaled['Age'] , x_train_scaled['EstimatedSalary'])\n",
    "ax2.set_title('After Scaling')\n",
    "plt.show()"
   ]
  },
  {
   "cell_type": "code",
   "execution_count": 31,
   "id": "d135e97a",
   "metadata": {},
   "outputs": [
    {
     "data": {
      "text/plain": [
       "<Axes: title={'center': 'Before Scaling'}, xlabel='Age', ylabel='Density'>"
      ]
     },
     "execution_count": 31,
     "metadata": {},
     "output_type": "execute_result"
    }
   ],
   "source": [
    "#before scaling \n",
    "\n",
    "ax1.set_title('Before Scaling')\n",
    "sns.kdeplot(x_train['Age'] , ax =ax1 )\n",
    "sns.kdeplot(x_train['EstimatedSalary'] , ax =ax1)"
   ]
  },
  {
   "cell_type": "code",
   "execution_count": 35,
   "id": "fea3214a",
   "metadata": {},
   "outputs": [
    {
     "data": {
      "image/png": "[encoded data removed]",
      "text/plain": [
       "<Figure size 1500x500 with 2 Axes>"
      ]
     },
     "metadata": {},
     "output_type": "display_data"
    }
   ],
   "source": [
    "# comparison of the distribution of the data before and after scaling \n",
    "\n",
    "fig , (ax1 , ax2) = plt.subplots( ncols = 2 , figsize = (15 , 5))\n",
    "\n",
    "ax1.set_title(\"before scaling \")\n",
    "sns.kdeplot(x_train['Age'] , ax = ax1 , color = 'red')\n",
    "\n",
    "ax2.set_title(\"age distribution after scaling \")\n",
    "sns.kdeplot(x_train_scaled['Age'] , ax = ax2)\n",
    "plt.show()"
   ]
  },
  {
   "cell_type": "markdown",
   "id": "5623ac6d",
   "metadata": {},
   "source": [
    "# train model on scaled dataset"
   ]
  },
  {
   "cell_type": "code",
   "execution_count": 37,
   "id": "255afecc",
   "metadata": {},
   "outputs": [],
   "source": [
    "from sklearn.linear_model import LogisticRegression\n",
    "lr = LogisticRegression()"
   ]
  },
  {
   "cell_type": "code",
   "execution_count": 39,
   "id": "1f78118b",
   "metadata": {},
   "outputs": [],
   "source": [
    "lr = lr.fit(x_train_scaled , y_train)\n"
   ]
  },
  {
   "cell_type": "code",
   "execution_count": 40,
   "id": "4a22da3a",
   "metadata": {},
   "outputs": [],
   "source": [
    "y_pred = lr.predict(x_test_Scaled)\n"
   ]
  },
  {
   "cell_type": "code",
   "execution_count": 43,
   "id": "5290c1b3",
   "metadata": {},
   "outputs": [
    {
     "name": "stdout",
     "output_type": "stream",
     "text": [
      "accuracy of the model is  0.85\n"
     ]
    }
   ],
   "source": [
    "from sklearn.metrics import accuracy_score \n",
    "accuracy = accuracy_score(y_test , y_pred)\n",
    "print(\"accuracy of the model is \" , accuracy)"
   ]
  },
  {
   "cell_type": "markdown",
   "id": "3e6798d4",
   "metadata": {},
   "source": [
    "# train model on unscaled dataset"
   ]
  },
  {
   "cell_type": "code",
   "execution_count": 44,
   "id": "a0b6cc8e",
   "metadata": {},
   "outputs": [],
   "source": [
    "from sklearn.linear_model import LogisticRegression\n"
   ]
  },
  {
   "cell_type": "code",
   "execution_count": 45,
   "id": "c06b73f5",
   "metadata": {},
   "outputs": [],
   "source": [
    "model = LogisticRegression()"
   ]
  },
  {
   "cell_type": "code",
   "execution_count": 46,
   "id": "dadcfd60",
   "metadata": {},
   "outputs": [],
   "source": [
    "model = model.fit(x_train , y_train)"
   ]
  },
  {
   "cell_type": "code",
   "execution_count": 47,
   "id": "691e1d32",
   "metadata": {},
   "outputs": [],
   "source": [
    "y_pred = model.predict(x_test)"
   ]
  },
  {
   "cell_type": "code",
   "execution_count": 48,
   "id": "87487f9c",
   "metadata": {},
   "outputs": [
    {
     "name": "stdout",
     "output_type": "stream",
     "text": [
      "accuracy of unscaled model is  0.85\n"
     ]
    }
   ],
   "source": [
    "from sklearn.metrics import accuracy_score\n",
    "accuracy = accuracy_score(y_test , y_pred)\n",
    "print(\"accuracy of unscaled model is \", accuracy)"
   ]
  },
  {
   "cell_type": "code",
   "execution_count": null,
   "id": "bfdc5e57",
   "metadata": {},
   "outputs": [],
   "source": []
  }
 ],
 "metadata": {
  "kernelspec": {
   "display_name": "Python 3",
   "language": "python",
   "name": "python3"
  },
  "language_info": {
   "codemirror_mode": {
    "name": "ipython",
    "version": 3
   },
   "file_extension": ".py",
   "mimetype": "text/x-python",
   "name": "python",
   "nbconvert_exporter": "python",
   "pygments_lexer": "ipython3",
   "version": "3.12.6"
  }
 },
 "nbformat": 4,
 "nbformat_minor": 5
}

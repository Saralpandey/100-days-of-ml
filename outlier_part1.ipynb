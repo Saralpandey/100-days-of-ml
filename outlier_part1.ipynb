{
 "cells": [
  {
   "cell_type": "code",
   "execution_count": 1,
   "id": "7951c682",
   "metadata": {},
   "outputs": [],
   "source": [
    "import numpy as np \n",
    "import pandas as pd \n",
    "import matplotlib.pyplot as plt \n",
    "import seaborn as sns "
   ]
  },
  {
   "cell_type": "code",
   "execution_count": 2,
   "metadata": {},
   "outputs": [],
   "source": [
    "df = pd.read_csv(\"placement (1).csv\")"
   ]
  },
  {
   "cell_type": "code",
   "execution_count": 3,
   "metadata": {},
   "outputs": [
    {
     "data": {
      "application/vnd.microsoft.datawrangler.viewer.v0+json": {
       "columns": [
        {
         "name": "index",
         "rawType": "int64",
         "type": "integer"
        },
        {
         "name": "cgpa",
         "rawType": "float64",
         "type": "float"
        },
        {
         "name": "placement_exam_marks",
         "rawType": "float64",
         "type": "float"
        },
        {
         "name": "placed",
         "rawType": "int64",
         "type": "integer"
        }
       ],
       "ref": "5a7519a0-380e-40cf-9b8e-36d40f88d1b1",
       "rows": [
        [
         "0",
         "7.19",
         "26.0",
         "1"
        ],
        [
         "1",
         "7.46",
         "38.0",
         "1"
        ],
        [
         "2",
         "7.54",
         "40.0",
         "1"
        ],
        [
         "3",
         "6.42",
         "8.0",
         "1"
        ],
        [
         "4",
         "7.23",
         "17.0",
         "0"
        ]
       ],
       "shape": {
        "columns": 3,
        "rows": 5
       }
      },
      "text/html": [
       "<div>\n",
       "<style scoped>\n",
       "    .dataframe tbody tr th:only-of-type {\n",
       "        vertical-align: middle;\n",
       "    }\n",
       "\n",
       "    .dataframe tbody tr th {\n",
       "        vertical-align: top;\n",
       "    }\n",
       "\n",
       "    .dataframe thead th {\n",
       "        text-align: right;\n",
       "    }\n",
       "</style>\n",
       "<table border=\"1\" class=\"dataframe\">\n",
       "  <thead>\n",
       "    <tr style=\"text-align: right;\">\n",
       "      <th></th>\n",
       "      <th>cgpa</th>\n",
       "      <th>placement_exam_marks</th>\n",
       "      <th>placed</th>\n",
       "    </tr>\n",
       "  </thead>\n",
       "  <tbody>\n",
       "    <tr>\n",
       "      <th>0</th>\n",
       "      <td>7.19</td>\n",
       "      <td>26.0</td>\n",
       "      <td>1</td>\n",
       "    </tr>\n",
       "    <tr>\n",
       "      <th>1</th>\n",
       "      <td>7.46</td>\n",
       "      <td>38.0</td>\n",
       "      <td>1</td>\n",
       "    </tr>\n",
       "    <tr>\n",
       "      <th>2</th>\n",
       "      <td>7.54</td>\n",
       "      <td>40.0</td>\n",
       "      <td>1</td>\n",
       "    </tr>\n",
       "    <tr>\n",
       "      <th>3</th>\n",
       "      <td>6.42</td>\n",
       "      <td>8.0</td>\n",
       "      <td>1</td>\n",
       "    </tr>\n",
       "    <tr>\n",
       "      <th>4</th>\n",
       "      <td>7.23</td>\n",
       "      <td>17.0</td>\n",
       "      <td>0</td>\n",
       "    </tr>\n",
       "  </tbody>\n",
       "</table>\n",
       "</div>"
      ],
      "text/plain": [
       "   cgpa  placement_exam_marks  placed\n",
       "0  7.19                  26.0       1\n",
       "1  7.46                  38.0       1\n",
       "2  7.54                  40.0       1\n",
       "3  6.42                   8.0       1\n",
       "4  7.23                  17.0       0"
      ]
     },
     "execution_count": 3,
     "metadata": {},
     "output_type": "execute_result"
    }
   ],
   "source": [
    "df.head(5)"
   ]
  },
  {
   "cell_type": "code",
   "execution_count": 4,
   "metadata": {},
   "outputs": [
    {
     "data": {
      "text/plain": [
       "(1000, 3)"
      ]
     },
     "execution_count": 4,
     "metadata": {},
     "output_type": "execute_result"
    }
   ],
   "source": [
    "df.shape"
   ]
  },
  {
   "cell_type": "code",
   "execution_count": 5,
   "metadata": {},
   "outputs": [
    {
     "data": {
      "application/vnd.microsoft.datawrangler.viewer.v0+json": {
       "columns": [
        {
         "name": "index",
         "rawType": "int64",
         "type": "integer"
        },
        {
         "name": "cgpa",
         "rawType": "float64",
         "type": "float"
        },
        {
         "name": "placement_exam_marks",
         "rawType": "float64",
         "type": "float"
        },
        {
         "name": "placed",
         "rawType": "int64",
         "type": "integer"
        }
       ],
       "ref": "a1c4d0ce-4860-46d1-8cfc-787a91862103",
       "rows": [
        [
         "812",
         "5.99",
         "23.0",
         "0"
        ],
        [
         "244",
         "7.68",
         "44.0",
         "0"
        ],
        [
         "699",
         "6.64",
         "20.0",
         "0"
        ],
        [
         "448",
         "6.32",
         "31.0",
         "0"
        ],
        [
         "371",
         "5.9",
         "29.0",
         "0"
        ]
       ],
       "shape": {
        "columns": 3,
        "rows": 5
       }
      },
      "text/html": [
       "<div>\n",
       "<style scoped>\n",
       "    .dataframe tbody tr th:only-of-type {\n",
       "        vertical-align: middle;\n",
       "    }\n",
       "\n",
       "    .dataframe tbody tr th {\n",
       "        vertical-align: top;\n",
       "    }\n",
       "\n",
       "    .dataframe thead th {\n",
       "        text-align: right;\n",
       "    }\n",
       "</style>\n",
       "<table border=\"1\" class=\"dataframe\">\n",
       "  <thead>\n",
       "    <tr style=\"text-align: right;\">\n",
       "      <th></th>\n",
       "      <th>cgpa</th>\n",
       "      <th>placement_exam_marks</th>\n",
       "      <th>placed</th>\n",
       "    </tr>\n",
       "  </thead>\n",
       "  <tbody>\n",
       "    <tr>\n",
       "      <th>812</th>\n",
       "      <td>5.99</td>\n",
       "      <td>23.0</td>\n",
       "      <td>0</td>\n",
       "    </tr>\n",
       "    <tr>\n",
       "      <th>244</th>\n",
       "      <td>7.68</td>\n",
       "      <td>44.0</td>\n",
       "      <td>0</td>\n",
       "    </tr>\n",
       "    <tr>\n",
       "      <th>699</th>\n",
       "      <td>6.64</td>\n",
       "      <td>20.0</td>\n",
       "      <td>0</td>\n",
       "    </tr>\n",
       "    <tr>\n",
       "      <th>448</th>\n",
       "      <td>6.32</td>\n",
       "      <td>31.0</td>\n",
       "      <td>0</td>\n",
       "    </tr>\n",
       "    <tr>\n",
       "      <th>371</th>\n",
       "      <td>5.90</td>\n",
       "      <td>29.0</td>\n",
       "      <td>0</td>\n",
       "    </tr>\n",
       "  </tbody>\n",
       "</table>\n",
       "</div>"
      ],
      "text/plain": [
       "     cgpa  placement_exam_marks  placed\n",
       "812  5.99                  23.0       0\n",
       "244  7.68                  44.0       0\n",
       "699  6.64                  20.0       0\n",
       "448  6.32                  31.0       0\n",
       "371  5.90                  29.0       0"
      ]
     },
     "execution_count": 5,
     "metadata": {},
     "output_type": "execute_result"
    }
   ],
   "source": [
    "df.sample(5)"
   ]
  },
  {
   "cell_type": "code",
   "execution_count": 6,
   "metadata": {},
   "outputs": [
    {
     "name": "stderr",
     "output_type": "stream",
     "text": [
      "C:\\Users\\Administrator\\AppData\\Local\\Temp\\ipykernel_16088\\435420608.py:3: UserWarning: \n",
      "\n",
      "`distplot` is a deprecated function and will be removed in seaborn v0.14.0.\n",
      "\n",
      "Please adapt your code to use either `displot` (a figure-level function with\n",
      "similar flexibility) or `histplot` (an axes-level function for histograms).\n",
      "\n",
      "For a guide to updating your code to use the new functions, please see\n",
      "https://gist.github.com/mwaskom/de44147ed2974457ad6372750bbe5751\n",
      "\n",
      "  sns.distplot(df['cgpa'])\n"
     ]
    },
    {
     "data": {
      "text/plain": [
       "<Axes: xlabel='cgpa', ylabel='Density'>"
      ]
     },
     "execution_count": 6,
     "metadata": {},
     "output_type": "execute_result"
    },
    {
     "data": {
      "image/png": "[encoded data removed]",
      "text/plain": [
       "<Figure size 1000x500 with 1 Axes>"
      ]
     },
     "metadata": {},
     "output_type": "display_data"
    }
   ],
   "source": [
    "plt.figure(figsize=(10,5))\n",
    "plt.subplot(121)\n",
    "sns.distplot(df['cgpa'])"
   ]
  },
  {
   "cell_type": "code",
   "execution_count": 7,
   "metadata": {},
   "outputs": [
    {
     "name": "stderr",
     "output_type": "stream",
     "text": [
      "C:\\Users\\Administrator\\AppData\\Local\\Temp\\ipykernel_16088\\4243004278.py:2: UserWarning: \n",
      "\n",
      "`distplot` is a deprecated function and will be removed in seaborn v0.14.0.\n",
      "\n",
      "Please adapt your code to use either `displot` (a figure-level function with\n",
      "similar flexibility) or `histplot` (an axes-level function for histograms).\n",
      "\n",
      "For a guide to updating your code to use the new functions, please see\n",
      "https://gist.github.com/mwaskom/de44147ed2974457ad6372750bbe5751\n",
      "\n",
      "  sns.distplot(df['placement_exam_marks'])\n"
     ]
    },
    {
     "data": {
      "image/png": "[encoded data removed]",
      "text/plain": [
       "<Figure size 640x480 with 1 Axes>"
      ]
     },
     "metadata": {},
     "output_type": "display_data"
    }
   ],
   "source": [
    "plt.subplot(122)\n",
    "sns.distplot(df['placement_exam_marks'])\n",
    "plt.show()"
   ]
  },
  {
   "cell_type": "code",
   "execution_count": 8,
   "metadata": {},
   "outputs": [
    {
     "data": {
      "application/vnd.microsoft.datawrangler.viewer.v0+json": {
       "columns": [
        {
         "name": "index",
         "rawType": "object",
         "type": "string"
        },
        {
         "name": "placement_exam_marks",
         "rawType": "float64",
         "type": "float"
        }
       ],
       "ref": "44ba5567-14c3-401f-b0e2-c8a563c165a7",
       "rows": [
        [
         "count",
         "1000.0"
        ],
        [
         "mean",
         "32.225"
        ],
        [
         "std",
         "19.13082233892112"
        ],
        [
         "min",
         "0.0"
        ],
        [
         "25%",
         "17.0"
        ],
        [
         "50%",
         "28.0"
        ],
        [
         "75%",
         "44.0"
        ],
        [
         "max",
         "100.0"
        ]
       ],
       "shape": {
        "columns": 1,
        "rows": 8
       }
      },
      "text/plain": [
       "count    1000.000000\n",
       "mean       32.225000\n",
       "std        19.130822\n",
       "min         0.000000\n",
       "25%        17.000000\n",
       "50%        28.000000\n",
       "75%        44.000000\n",
       "max       100.000000\n",
       "Name: placement_exam_marks, dtype: float64"
      ]
     },
     "execution_count": 8,
     "metadata": {},
     "output_type": "execute_result"
    }
   ],
   "source": [
    "df['placement_exam_marks'].describe()"
   ]
  },
  {
   "cell_type": "code",
   "execution_count": 9,
   "metadata": {},
   "outputs": [
    {
     "data": {
      "text/plain": [
       "np.float64(0.8356419499466834)"
      ]
     },
     "execution_count": 9,
     "metadata": {},
     "output_type": "execute_result"
    }
   ],
   "source": [
    "df['placement_exam_marks'].skew()"
   ]
  },
  {
   "cell_type": "code",
   "execution_count": 10,
   "id": "f4c0fda6",
   "metadata": {},
   "outputs": [
    {
     "data": {
      "text/plain": [
       "np.float64(-0.014529938929314918)"
      ]
     },
     "execution_count": 10,
     "metadata": {},
     "output_type": "execute_result"
    }
   ],
   "source": [
    "df['cgpa'].skew()"
   ]
  },
  {
   "cell_type": "code",
   "execution_count": 11,
   "id": "5ec145be",
   "metadata": {},
   "outputs": [
    {
     "name": "stdout",
     "output_type": "stream",
     "text": [
      "Mean value of cgpa: 6.96124\n",
      "mean value of placement_exam_marks :  32.225\n"
     ]
    }
   ],
   "source": [
    "print(\"Mean value of cgpa:\" , df['cgpa'].mean())\n",
    "print(\"mean value of placement_exam_marks : \" , df['placement_exam_marks'].mean())\n",
    "\n"
   ]
  },
  {
   "cell_type": "code",
   "execution_count": 12,
   "metadata": {},
   "outputs": [
    {
     "name": "stdout",
     "output_type": "stream",
     "text": [
      "std value of the cgpa :  0.6158978751323896\n",
      "min value of the cgpa :  4.89\n",
      "max value of the cgap :  9.12\n"
     ]
    }
   ],
   "source": [
    "print(\"std value of the cgpa : \" , df['cgpa'].std())\n",
    "print(\"min value of the cgpa : \", df['cgpa'].min())\n",
    "print(\"max value of the cgap : \", df['cgpa'].max())"
   ]
  },
  {
   "cell_type": "code",
   "execution_count": 13,
   "metadata": {},
   "outputs": [],
   "source": [
    "# finding the boundaries values "
   ]
  },
  {
   "cell_type": "code",
   "execution_count": 14,
   "metadata": {},
   "outputs": [
    {
     "name": "stdout",
     "output_type": "stream",
     "text": [
      "highest allowed cgpa :  8.808933625397168\n",
      "lowest allowed cgpa :  5.113546374602832\n"
     ]
    }
   ],
   "source": [
    "print(\"highest allowed cgpa : \" , df['cgpa'].mean() + 3*df['cgpa'].std())\n",
    "print(\"lowest allowed cgpa : \" , df['cgpa'].mean() - 3*df['cgpa'].std())"
   ]
  },
  {
   "cell_type": "code",
   "execution_count": 15,
   "metadata": {},
   "outputs": [
    {
     "data": {
      "application/vnd.microsoft.datawrangler.viewer.v0+json": {
       "columns": [
        {
         "name": "index",
         "rawType": "int64",
         "type": "integer"
        },
        {
         "name": "cgpa",
         "rawType": "float64",
         "type": "float"
        },
        {
         "name": "placement_exam_marks",
         "rawType": "float64",
         "type": "float"
        },
        {
         "name": "placed",
         "rawType": "int64",
         "type": "integer"
        }
       ],
       "ref": "a589c2be-5949-4b04-8e42-82283e2ea21a",
       "rows": [
        [
         "485",
         "4.92",
         "44.0",
         "1"
        ],
        [
         "995",
         "8.87",
         "44.0",
         "1"
        ],
        [
         "996",
         "9.12",
         "65.0",
         "1"
        ],
        [
         "997",
         "4.89",
         "34.0",
         "0"
        ],
        [
         "999",
         "4.9",
         "10.0",
         "1"
        ]
       ],
       "shape": {
        "columns": 3,
        "rows": 5
       }
      },
      "text/html": [
       "<div>\n",
       "<style scoped>\n",
       "    .dataframe tbody tr th:only-of-type {\n",
       "        vertical-align: middle;\n",
       "    }\n",
       "\n",
       "    .dataframe tbody tr th {\n",
       "        vertical-align: top;\n",
       "    }\n",
       "\n",
       "    .dataframe thead th {\n",
       "        text-align: right;\n",
       "    }\n",
       "</style>\n",
       "<table border=\"1\" class=\"dataframe\">\n",
       "  <thead>\n",
       "    <tr style=\"text-align: right;\">\n",
       "      <th></th>\n",
       "      <th>cgpa</th>\n",
       "      <th>placement_exam_marks</th>\n",
       "      <th>placed</th>\n",
       "    </tr>\n",
       "  </thead>\n",
       "  <tbody>\n",
       "    <tr>\n",
       "      <th>485</th>\n",
       "      <td>4.92</td>\n",
       "      <td>44.0</td>\n",
       "      <td>1</td>\n",
       "    </tr>\n",
       "    <tr>\n",
       "      <th>995</th>\n",
       "      <td>8.87</td>\n",
       "      <td>44.0</td>\n",
       "      <td>1</td>\n",
       "    </tr>\n",
       "    <tr>\n",
       "      <th>996</th>\n",
       "      <td>9.12</td>\n",
       "      <td>65.0</td>\n",
       "      <td>1</td>\n",
       "    </tr>\n",
       "    <tr>\n",
       "      <th>997</th>\n",
       "      <td>4.89</td>\n",
       "      <td>34.0</td>\n",
       "      <td>0</td>\n",
       "    </tr>\n",
       "    <tr>\n",
       "      <th>999</th>\n",
       "      <td>4.90</td>\n",
       "      <td>10.0</td>\n",
       "      <td>1</td>\n",
       "    </tr>\n",
       "  </tbody>\n",
       "</table>\n",
       "</div>"
      ],
      "text/plain": [
       "     cgpa  placement_exam_marks  placed\n",
       "485  4.92                  44.0       1\n",
       "995  8.87                  44.0       1\n",
       "996  9.12                  65.0       1\n",
       "997  4.89                  34.0       0\n",
       "999  4.90                  10.0       1"
      ]
     },
     "execution_count": 15,
     "metadata": {},
     "output_type": "execute_result"
    }
   ],
   "source": [
    "# finding the outliers \n",
    "df[(df['cgpa'] > 8.80) | (df['cgpa'] < 5.11)]"
   ]
  },
  {
   "cell_type": "markdown",
   "id": "4496679e",
   "metadata": {},
   "source": [
    "# Trimming "
   ]
  },
  {
   "cell_type": "code",
   "execution_count": 16,
   "metadata": {},
   "outputs": [],
   "source": [
    "new_df = df[(df['cgpa'] < 8.80) & (df['cgpa'] > 5.11)]"
   ]
  },
  {
   "cell_type": "code",
   "execution_count": 17,
   "metadata": {},
   "outputs": [
    {
     "data": {
      "application/vnd.microsoft.datawrangler.viewer.v0+json": {
       "columns": [
        {
         "name": "index",
         "rawType": "int64",
         "type": "integer"
        },
        {
         "name": "cgpa",
         "rawType": "float64",
         "type": "float"
        },
        {
         "name": "placement_exam_marks",
         "rawType": "float64",
         "type": "float"
        },
        {
         "name": "placed",
         "rawType": "int64",
         "type": "integer"
        }
       ],
       "ref": "de4a8e2b-f6b3-4ac1-a56a-8085f1394ec9",
       "rows": [
        [
         "0",
         "7.19",
         "26.0",
         "1"
        ],
        [
         "1",
         "7.46",
         "38.0",
         "1"
        ],
        [
         "2",
         "7.54",
         "40.0",
         "1"
        ],
        [
         "3",
         "6.42",
         "8.0",
         "1"
        ],
        [
         "4",
         "7.23",
         "17.0",
         "0"
        ],
        [
         "5",
         "7.3",
         "23.0",
         "1"
        ],
        [
         "6",
         "6.69",
         "11.0",
         "0"
        ],
        [
         "7",
         "7.12",
         "39.0",
         "1"
        ],
        [
         "8",
         "6.45",
         "38.0",
         "0"
        ],
        [
         "9",
         "7.75",
         "94.0",
         "1"
        ],
        [
         "10",
         "6.82",
         "16.0",
         "1"
        ],
        [
         "11",
         "6.38",
         "7.0",
         "1"
        ],
        [
         "12",
         "6.58",
         "16.0",
         "1"
        ],
        [
         "13",
         "5.68",
         "26.0",
         "0"
        ],
        [
         "14",
         "7.91",
         "43.0",
         "0"
        ],
        [
         "15",
         "7.1",
         "21.0",
         "0"
        ],
        [
         "16",
         "6.53",
         "19.0",
         "0"
        ],
        [
         "17",
         "7.56",
         "22.0",
         "1"
        ],
        [
         "18",
         "6.93",
         "27.0",
         "0"
        ],
        [
         "19",
         "7.63",
         "29.0",
         "0"
        ],
        [
         "20",
         "6.69",
         "47.0",
         "0"
        ],
        [
         "21",
         "7.43",
         "33.0",
         "1"
        ],
        [
         "22",
         "6.76",
         "54.0",
         "1"
        ],
        [
         "23",
         "6.05",
         "11.0",
         "0"
        ],
        [
         "24",
         "6.44",
         "11.0",
         "0"
        ],
        [
         "25",
         "6.28",
         "58.0",
         "1"
        ],
        [
         "26",
         "7.45",
         "8.0",
         "1"
        ],
        [
         "27",
         "6.53",
         "46.0",
         "0"
        ],
        [
         "28",
         "7.23",
         "19.0",
         "0"
        ],
        [
         "29",
         "6.51",
         "15.0",
         "1"
        ],
        [
         "30",
         "7.46",
         "16.0",
         "0"
        ],
        [
         "31",
         "7.66",
         "44.0",
         "0"
        ],
        [
         "32",
         "5.91",
         "11.0",
         "1"
        ],
        [
         "33",
         "6.23",
         "27.0",
         "0"
        ],
        [
         "34",
         "8.15",
         "9.0",
         "0"
        ],
        [
         "35",
         "7.48",
         "12.0",
         "0"
        ],
        [
         "36",
         "6.85",
         "16.0",
         "1"
        ],
        [
         "37",
         "8.51",
         "9.0",
         "1"
        ],
        [
         "38",
         "6.58",
         "20.0",
         "1"
        ],
        [
         "39",
         "7.25",
         "17.0",
         "0"
        ],
        [
         "40",
         "6.6",
         "86.0",
         "1"
        ],
        [
         "41",
         "6.7",
         "38.0",
         "0"
        ],
        [
         "42",
         "7.46",
         "71.0",
         "1"
        ],
        [
         "43",
         "7.85",
         "63.0",
         "0"
        ],
        [
         "44",
         "7.88",
         "55.0",
         "0"
        ],
        [
         "45",
         "6.92",
         "10.0",
         "1"
        ],
        [
         "46",
         "7.3",
         "15.0",
         "0"
        ],
        [
         "47",
         "6.92",
         "46.0",
         "0"
        ],
        [
         "48",
         "6.29",
         "42.0",
         "0"
        ],
        [
         "49",
         "8.23",
         "28.0",
         "1"
        ]
       ],
       "shape": {
        "columns": 3,
        "rows": 995
       }
      },
      "text/html": [
       "<div>\n",
       "<style scoped>\n",
       "    .dataframe tbody tr th:only-of-type {\n",
       "        vertical-align: middle;\n",
       "    }\n",
       "\n",
       "    .dataframe tbody tr th {\n",
       "        vertical-align: top;\n",
       "    }\n",
       "\n",
       "    .dataframe thead th {\n",
       "        text-align: right;\n",
       "    }\n",
       "</style>\n",
       "<table border=\"1\" class=\"dataframe\">\n",
       "  <thead>\n",
       "    <tr style=\"text-align: right;\">\n",
       "      <th></th>\n",
       "      <th>cgpa</th>\n",
       "      <th>placement_exam_marks</th>\n",
       "      <th>placed</th>\n",
       "    </tr>\n",
       "  </thead>\n",
       "  <tbody>\n",
       "    <tr>\n",
       "      <th>0</th>\n",
       "      <td>7.19</td>\n",
       "      <td>26.0</td>\n",
       "      <td>1</td>\n",
       "    </tr>\n",
       "    <tr>\n",
       "      <th>1</th>\n",
       "      <td>7.46</td>\n",
       "      <td>38.0</td>\n",
       "      <td>1</td>\n",
       "    </tr>\n",
       "    <tr>\n",
       "      <th>2</th>\n",
       "      <td>7.54</td>\n",
       "      <td>40.0</td>\n",
       "      <td>1</td>\n",
       "    </tr>\n",
       "    <tr>\n",
       "      <th>3</th>\n",
       "      <td>6.42</td>\n",
       "      <td>8.0</td>\n",
       "      <td>1</td>\n",
       "    </tr>\n",
       "    <tr>\n",
       "      <th>4</th>\n",
       "      <td>7.23</td>\n",
       "      <td>17.0</td>\n",
       "      <td>0</td>\n",
       "    </tr>\n",
       "    <tr>\n",
       "      <th>...</th>\n",
       "      <td>...</td>\n",
       "      <td>...</td>\n",
       "      <td>...</td>\n",
       "    </tr>\n",
       "    <tr>\n",
       "      <th>991</th>\n",
       "      <td>7.04</td>\n",
       "      <td>57.0</td>\n",
       "      <td>0</td>\n",
       "    </tr>\n",
       "    <tr>\n",
       "      <th>992</th>\n",
       "      <td>6.26</td>\n",
       "      <td>12.0</td>\n",
       "      <td>0</td>\n",
       "    </tr>\n",
       "    <tr>\n",
       "      <th>993</th>\n",
       "      <td>6.73</td>\n",
       "      <td>21.0</td>\n",
       "      <td>1</td>\n",
       "    </tr>\n",
       "    <tr>\n",
       "      <th>994</th>\n",
       "      <td>6.48</td>\n",
       "      <td>63.0</td>\n",
       "      <td>0</td>\n",
       "    </tr>\n",
       "    <tr>\n",
       "      <th>998</th>\n",
       "      <td>8.62</td>\n",
       "      <td>46.0</td>\n",
       "      <td>1</td>\n",
       "    </tr>\n",
       "  </tbody>\n",
       "</table>\n",
       "<p>995 rows × 3 columns</p>\n",
       "</div>"
      ],
      "text/plain": [
       "     cgpa  placement_exam_marks  placed\n",
       "0    7.19                  26.0       1\n",
       "1    7.46                  38.0       1\n",
       "2    7.54                  40.0       1\n",
       "3    6.42                   8.0       1\n",
       "4    7.23                  17.0       0\n",
       "..    ...                   ...     ...\n",
       "991  7.04                  57.0       0\n",
       "992  6.26                  12.0       0\n",
       "993  6.73                  21.0       1\n",
       "994  6.48                  63.0       0\n",
       "998  8.62                  46.0       1\n",
       "\n",
       "[995 rows x 3 columns]"
      ]
     },
     "execution_count": 17,
     "metadata": {},
     "output_type": "execute_result"
    }
   ],
   "source": [
    "new_df"
   ]
  },
  {
   "cell_type": "markdown",
   "id": "33d1a2fc",
   "metadata": {},
   "source": [
    "# APPROACH 2 "
   ]
  },
  {
   "cell_type": "code",
   "execution_count": 18,
   "metadata": {},
   "outputs": [],
   "source": [
    "# calculating the Z-score ."
   ]
  },
  {
   "cell_type": "code",
   "execution_count": 19,
   "metadata": {},
   "outputs": [],
   "source": [
    "df['cgpa_zscore'] = (df['cgpa'] - df['cgpa'].mean()) / df['cgpa'].std()"
   ]
  },
  {
   "cell_type": "code",
   "execution_count": 20,
   "metadata": {},
   "outputs": [
    {
     "data": {
      "application/vnd.microsoft.datawrangler.viewer.v0+json": {
       "columns": [
        {
         "name": "index",
         "rawType": "int64",
         "type": "integer"
        },
        {
         "name": "cgpa",
         "rawType": "float64",
         "type": "float"
        },
        {
         "name": "placement_exam_marks",
         "rawType": "float64",
         "type": "float"
        },
        {
         "name": "placed",
         "rawType": "int64",
         "type": "integer"
        },
        {
         "name": "cgpa_zscore",
         "rawType": "float64",
         "type": "float"
        }
       ],
       "ref": "6f03cb75-e46b-4fca-9e85-281535f6059a",
       "rows": [
        [
         "0",
         "7.19",
         "26.0",
         "1",
         "0.37142521388116084"
        ],
        [
         "1",
         "7.46",
         "38.0",
         "1",
         "0.8098095806756753"
        ],
        [
         "2",
         "7.54",
         "40.0",
         "1",
         "0.9397012449110874"
        ],
        [
         "3",
         "6.42",
         "8.0",
         "1",
         "-0.8787820543846796"
        ],
        [
         "4",
         "7.23",
         "17.0",
         "0",
         "0.43637104599886684"
        ]
       ],
       "shape": {
        "columns": 4,
        "rows": 5
       }
      },
      "text/html": [
       "<div>\n",
       "<style scoped>\n",
       "    .dataframe tbody tr th:only-of-type {\n",
       "        vertical-align: middle;\n",
       "    }\n",
       "\n",
       "    .dataframe tbody tr th {\n",
       "        vertical-align: top;\n",
       "    }\n",
       "\n",
       "    .dataframe thead th {\n",
       "        text-align: right;\n",
       "    }\n",
       "</style>\n",
       "<table border=\"1\" class=\"dataframe\">\n",
       "  <thead>\n",
       "    <tr style=\"text-align: right;\">\n",
       "      <th></th>\n",
       "      <th>cgpa</th>\n",
       "      <th>placement_exam_marks</th>\n",
       "      <th>placed</th>\n",
       "      <th>cgpa_zscore</th>\n",
       "    </tr>\n",
       "  </thead>\n",
       "  <tbody>\n",
       "    <tr>\n",
       "      <th>0</th>\n",
       "      <td>7.19</td>\n",
       "      <td>26.0</td>\n",
       "      <td>1</td>\n",
       "      <td>0.371425</td>\n",
       "    </tr>\n",
       "    <tr>\n",
       "      <th>1</th>\n",
       "      <td>7.46</td>\n",
       "      <td>38.0</td>\n",
       "      <td>1</td>\n",
       "      <td>0.809810</td>\n",
       "    </tr>\n",
       "    <tr>\n",
       "      <th>2</th>\n",
       "      <td>7.54</td>\n",
       "      <td>40.0</td>\n",
       "      <td>1</td>\n",
       "      <td>0.939701</td>\n",
       "    </tr>\n",
       "    <tr>\n",
       "      <th>3</th>\n",
       "      <td>6.42</td>\n",
       "      <td>8.0</td>\n",
       "      <td>1</td>\n",
       "      <td>-0.878782</td>\n",
       "    </tr>\n",
       "    <tr>\n",
       "      <th>4</th>\n",
       "      <td>7.23</td>\n",
       "      <td>17.0</td>\n",
       "      <td>0</td>\n",
       "      <td>0.436371</td>\n",
       "    </tr>\n",
       "  </tbody>\n",
       "</table>\n",
       "</div>"
      ],
      "text/plain": [
       "   cgpa  placement_exam_marks  placed  cgpa_zscore\n",
       "0  7.19                  26.0       1     0.371425\n",
       "1  7.46                  38.0       1     0.809810\n",
       "2  7.54                  40.0       1     0.939701\n",
       "3  6.42                   8.0       1    -0.878782\n",
       "4  7.23                  17.0       0     0.436371"
      ]
     },
     "execution_count": 20,
     "metadata": {},
     "output_type": "execute_result"
    }
   ],
   "source": [
    "df.head()"
   ]
  },
  {
   "cell_type": "code",
   "execution_count": 21,
   "metadata": {},
   "outputs": [
    {
     "data": {
      "application/vnd.microsoft.datawrangler.viewer.v0+json": {
       "columns": [
        {
         "name": "index",
         "rawType": "int64",
         "type": "integer"
        },
        {
         "name": "cgpa",
         "rawType": "float64",
         "type": "float"
        },
        {
         "name": "placement_exam_marks",
         "rawType": "float64",
         "type": "float"
        },
        {
         "name": "placed",
         "rawType": "int64",
         "type": "integer"
        },
        {
         "name": "cgpa_zscore",
         "rawType": "float64",
         "type": "float"
        }
       ],
       "ref": "de2b83f1-0596-4f01-ae62-0e11320794ac",
       "rows": [
        [
         "995",
         "8.87",
         "44.0",
         "1",
         "3.099150162824809"
        ],
        [
         "996",
         "9.12",
         "65.0",
         "1",
         "3.5050616135604713"
        ]
       ],
       "shape": {
        "columns": 4,
        "rows": 2
       }
      },
      "text/html": [
       "<div>\n",
       "<style scoped>\n",
       "    .dataframe tbody tr th:only-of-type {\n",
       "        vertical-align: middle;\n",
       "    }\n",
       "\n",
       "    .dataframe tbody tr th {\n",
       "        vertical-align: top;\n",
       "    }\n",
       "\n",
       "    .dataframe thead th {\n",
       "        text-align: right;\n",
       "    }\n",
       "</style>\n",
       "<table border=\"1\" class=\"dataframe\">\n",
       "  <thead>\n",
       "    <tr style=\"text-align: right;\">\n",
       "      <th></th>\n",
       "      <th>cgpa</th>\n",
       "      <th>placement_exam_marks</th>\n",
       "      <th>placed</th>\n",
       "      <th>cgpa_zscore</th>\n",
       "    </tr>\n",
       "  </thead>\n",
       "  <tbody>\n",
       "    <tr>\n",
       "      <th>995</th>\n",
       "      <td>8.87</td>\n",
       "      <td>44.0</td>\n",
       "      <td>1</td>\n",
       "      <td>3.099150</td>\n",
       "    </tr>\n",
       "    <tr>\n",
       "      <th>996</th>\n",
       "      <td>9.12</td>\n",
       "      <td>65.0</td>\n",
       "      <td>1</td>\n",
       "      <td>3.505062</td>\n",
       "    </tr>\n",
       "  </tbody>\n",
       "</table>\n",
       "</div>"
      ],
      "text/plain": [
       "     cgpa  placement_exam_marks  placed  cgpa_zscore\n",
       "995  8.87                  44.0       1     3.099150\n",
       "996  9.12                  65.0       1     3.505062"
      ]
     },
     "execution_count": 21,
     "metadata": {},
     "output_type": "execute_result"
    }
   ],
   "source": [
    "df[df['cgpa_zscore'] > 3]"
   ]
  },
  {
   "cell_type": "code",
   "execution_count": 22,
   "metadata": {},
   "outputs": [
    {
     "data": {
      "application/vnd.microsoft.datawrangler.viewer.v0+json": {
       "columns": [
        {
         "name": "index",
         "rawType": "int64",
         "type": "integer"
        },
        {
         "name": "cgpa",
         "rawType": "float64",
         "type": "float"
        },
        {
         "name": "placement_exam_marks",
         "rawType": "float64",
         "type": "float"
        },
        {
         "name": "placed",
         "rawType": "int64",
         "type": "integer"
        },
        {
         "name": "cgpa_zscore",
         "rawType": "float64",
         "type": "float"
        }
       ],
       "ref": "5d4497b6-0659-4249-83a0-6abfd1ee3cb5",
       "rows": [
        [
         "0",
         "7.19",
         "26.0",
         "1",
         "0.37142521388116084"
        ],
        [
         "1",
         "7.46",
         "38.0",
         "1",
         "0.8098095806756753"
        ],
        [
         "2",
         "7.54",
         "40.0",
         "1",
         "0.9397012449110874"
        ],
        [
         "3",
         "6.42",
         "8.0",
         "1",
         "-0.8787820543846796"
        ],
        [
         "4",
         "7.23",
         "17.0",
         "0",
         "0.43637104599886684"
        ],
        [
         "5",
         "7.3",
         "23.0",
         "1",
         "0.5500262522048514"
        ],
        [
         "6",
         "6.69",
         "11.0",
         "0",
         "-0.4403976875901636"
        ],
        [
         "7",
         "7.12",
         "39.0",
         "1",
         "0.25777000767517494"
        ],
        [
         "8",
         "6.45",
         "38.0",
         "0",
         "-0.8300726802963997"
        ],
        [
         "9",
         "7.75",
         "94.0",
         "1",
         "1.2806668635290437"
        ],
        [
         "10",
         "6.82",
         "16.0",
         "1",
         "-0.22932373320761942"
        ],
        [
         "11",
         "6.38",
         "7.0",
         "1",
         "-0.9437278865023856"
        ],
        [
         "12",
         "6.58",
         "16.0",
         "1",
         "-0.6189987259138555"
        ],
        [
         "13",
         "5.68",
         "26.0",
         "0",
         "-2.0802799485622403"
        ],
        [
         "14",
         "7.91",
         "43.0",
         "0",
         "1.5404501919998677"
        ],
        [
         "15",
         "7.1",
         "21.0",
         "0",
         "0.22529709161632122"
        ],
        [
         "16",
         "6.53",
         "19.0",
         "0",
         "-0.7001810160609877"
        ],
        [
         "17",
         "7.56",
         "22.0",
         "1",
         "0.9721741609699397"
        ],
        [
         "18",
         "6.93",
         "27.0",
         "0",
         "-0.050722694883928963"
        ],
        [
         "19",
         "7.63",
         "29.0",
         "0",
         "1.0858293671759256"
        ],
        [
         "20",
         "6.69",
         "47.0",
         "0",
         "-0.4403976875901636"
        ],
        [
         "21",
         "7.43",
         "33.0",
         "1",
         "0.7611002065873955"
        ],
        [
         "22",
         "6.76",
         "54.0",
         "1",
         "-0.32674248138417916"
        ],
        [
         "23",
         "6.05",
         "11.0",
         "0",
         "-1.4795310014734597"
        ],
        [
         "24",
         "6.44",
         "11.0",
         "0",
         "-0.8463091383258259"
        ],
        [
         "25",
         "6.28",
         "58.0",
         "1",
         "-1.1060924667966499"
        ],
        [
         "26",
         "7.45",
         "8.0",
         "1",
         "0.7935731226462492"
        ],
        [
         "27",
         "6.53",
         "46.0",
         "0",
         "-0.7001810160609877"
        ],
        [
         "28",
         "7.23",
         "19.0",
         "0",
         "0.43637104599886684"
        ],
        [
         "29",
         "6.51",
         "15.0",
         "1",
         "-0.7326539321198414"
        ],
        [
         "30",
         "7.46",
         "16.0",
         "0",
         "0.8098095806756753"
        ],
        [
         "31",
         "7.66",
         "44.0",
         "0",
         "1.1345387412642054"
        ],
        [
         "32",
         "5.91",
         "11.0",
         "1",
         "-1.7068414138854302"
        ],
        [
         "33",
         "6.23",
         "27.0",
         "0",
         "-1.187274756943782"
        ],
        [
         "34",
         "8.15",
         "9.0",
         "0",
         "1.9301251847061038"
        ],
        [
         "35",
         "7.48",
         "12.0",
         "0",
         "0.842282496734529"
        ],
        [
         "36",
         "6.85",
         "16.0",
         "1",
         "-0.18061435911934098"
        ],
        [
         "37",
         "8.51",
         "9.0",
         "1",
         "2.5146376737654563"
        ],
        [
         "38",
         "6.58",
         "20.0",
         "1",
         "-0.6189987259138555"
        ],
        [
         "39",
         "7.25",
         "17.0",
         "0",
         "0.46884396205771917"
        ],
        [
         "40",
         "6.6",
         "86.0",
         "1",
         "-0.5865258098550032"
        ],
        [
         "41",
         "6.7",
         "38.0",
         "0",
         "-0.4241612295607375"
        ],
        [
         "42",
         "7.46",
         "71.0",
         "1",
         "0.8098095806756753"
        ],
        [
         "43",
         "7.85",
         "63.0",
         "0",
         "1.4430314438233078"
        ],
        [
         "44",
         "7.88",
         "55.0",
         "0",
         "1.4917408179115879"
        ],
        [
         "45",
         "6.92",
         "10.0",
         "1",
         "-0.06695915291335511"
        ],
        [
         "46",
         "7.3",
         "15.0",
         "0",
         "0.5500262522048514"
        ],
        [
         "47",
         "6.92",
         "46.0",
         "0",
         "-0.06695915291335511"
        ],
        [
         "48",
         "6.29",
         "42.0",
         "0",
         "-1.0898560087672238"
        ],
        [
         "49",
         "8.23",
         "28.0",
         "1",
         "2.060016848941516"
        ]
       ],
       "shape": {
        "columns": 4,
        "rows": 997
       }
      },
      "text/html": [
       "<div>\n",
       "<style scoped>\n",
       "    .dataframe tbody tr th:only-of-type {\n",
       "        vertical-align: middle;\n",
       "    }\n",
       "\n",
       "    .dataframe tbody tr th {\n",
       "        vertical-align: top;\n",
       "    }\n",
       "\n",
       "    .dataframe thead th {\n",
       "        text-align: right;\n",
       "    }\n",
       "</style>\n",
       "<table border=\"1\" class=\"dataframe\">\n",
       "  <thead>\n",
       "    <tr style=\"text-align: right;\">\n",
       "      <th></th>\n",
       "      <th>cgpa</th>\n",
       "      <th>placement_exam_marks</th>\n",
       "      <th>placed</th>\n",
       "      <th>cgpa_zscore</th>\n",
       "    </tr>\n",
       "  </thead>\n",
       "  <tbody>\n",
       "    <tr>\n",
       "      <th>0</th>\n",
       "      <td>7.19</td>\n",
       "      <td>26.0</td>\n",
       "      <td>1</td>\n",
       "      <td>0.371425</td>\n",
       "    </tr>\n",
       "    <tr>\n",
       "      <th>1</th>\n",
       "      <td>7.46</td>\n",
       "      <td>38.0</td>\n",
       "      <td>1</td>\n",
       "      <td>0.809810</td>\n",
       "    </tr>\n",
       "    <tr>\n",
       "      <th>2</th>\n",
       "      <td>7.54</td>\n",
       "      <td>40.0</td>\n",
       "      <td>1</td>\n",
       "      <td>0.939701</td>\n",
       "    </tr>\n",
       "    <tr>\n",
       "      <th>3</th>\n",
       "      <td>6.42</td>\n",
       "      <td>8.0</td>\n",
       "      <td>1</td>\n",
       "      <td>-0.878782</td>\n",
       "    </tr>\n",
       "    <tr>\n",
       "      <th>4</th>\n",
       "      <td>7.23</td>\n",
       "      <td>17.0</td>\n",
       "      <td>0</td>\n",
       "      <td>0.436371</td>\n",
       "    </tr>\n",
       "    <tr>\n",
       "      <th>...</th>\n",
       "      <td>...</td>\n",
       "      <td>...</td>\n",
       "      <td>...</td>\n",
       "      <td>...</td>\n",
       "    </tr>\n",
       "    <tr>\n",
       "      <th>993</th>\n",
       "      <td>6.73</td>\n",
       "      <td>21.0</td>\n",
       "      <td>1</td>\n",
       "      <td>-0.375452</td>\n",
       "    </tr>\n",
       "    <tr>\n",
       "      <th>994</th>\n",
       "      <td>6.48</td>\n",
       "      <td>63.0</td>\n",
       "      <td>0</td>\n",
       "      <td>-0.781363</td>\n",
       "    </tr>\n",
       "    <tr>\n",
       "      <th>995</th>\n",
       "      <td>8.87</td>\n",
       "      <td>44.0</td>\n",
       "      <td>1</td>\n",
       "      <td>3.099150</td>\n",
       "    </tr>\n",
       "    <tr>\n",
       "      <th>996</th>\n",
       "      <td>9.12</td>\n",
       "      <td>65.0</td>\n",
       "      <td>1</td>\n",
       "      <td>3.505062</td>\n",
       "    </tr>\n",
       "    <tr>\n",
       "      <th>998</th>\n",
       "      <td>8.62</td>\n",
       "      <td>46.0</td>\n",
       "      <td>1</td>\n",
       "      <td>2.693239</td>\n",
       "    </tr>\n",
       "  </tbody>\n",
       "</table>\n",
       "<p>997 rows × 4 columns</p>\n",
       "</div>"
      ],
      "text/plain": [
       "     cgpa  placement_exam_marks  placed  cgpa_zscore\n",
       "0    7.19                  26.0       1     0.371425\n",
       "1    7.46                  38.0       1     0.809810\n",
       "2    7.54                  40.0       1     0.939701\n",
       "3    6.42                   8.0       1    -0.878782\n",
       "4    7.23                  17.0       0     0.436371\n",
       "..    ...                   ...     ...          ...\n",
       "993  6.73                  21.0       1    -0.375452\n",
       "994  6.48                  63.0       0    -0.781363\n",
       "995  8.87                  44.0       1     3.099150\n",
       "996  9.12                  65.0       1     3.505062\n",
       "998  8.62                  46.0       1     2.693239\n",
       "\n",
       "[997 rows x 4 columns]"
      ]
     },
     "execution_count": 22,
     "metadata": {},
     "output_type": "execute_result"
    }
   ],
   "source": [
    "df[df['cgpa_zscore'] > -3]"
   ]
  },
  {
   "cell_type": "code",
   "execution_count": 23,
   "metadata": {},
   "outputs": [
    {
     "data": {
      "application/vnd.microsoft.datawrangler.viewer.v0+json": {
       "columns": [
        {
         "name": "index",
         "rawType": "int64",
         "type": "integer"
        },
        {
         "name": "cgpa",
         "rawType": "float64",
         "type": "float"
        },
        {
         "name": "placement_exam_marks",
         "rawType": "float64",
         "type": "float"
        },
        {
         "name": "placed",
         "rawType": "int64",
         "type": "integer"
        },
        {
         "name": "cgpa_zscore",
         "rawType": "float64",
         "type": "float"
        }
       ],
       "ref": "6881b21c-d7bf-4d23-adc1-df5f88288953",
       "rows": [
        [
         "485",
         "4.92",
         "44.0",
         "1",
         "-3.3142507587986527"
        ],
        [
         "995",
         "8.87",
         "44.0",
         "1",
         "3.099150162824809"
        ],
        [
         "996",
         "9.12",
         "65.0",
         "1",
         "3.5050616135604713"
        ],
        [
         "997",
         "4.89",
         "34.0",
         "0",
         "-3.3629601328869327"
        ],
        [
         "999",
         "4.9",
         "10.0",
         "1",
         "-3.3467236748575053"
        ]
       ],
       "shape": {
        "columns": 4,
        "rows": 5
       }
      },
      "text/html": [
       "<div>\n",
       "<style scoped>\n",
       "    .dataframe tbody tr th:only-of-type {\n",
       "        vertical-align: middle;\n",
       "    }\n",
       "\n",
       "    .dataframe tbody tr th {\n",
       "        vertical-align: top;\n",
       "    }\n",
       "\n",
       "    .dataframe thead th {\n",
       "        text-align: right;\n",
       "    }\n",
       "</style>\n",
       "<table border=\"1\" class=\"dataframe\">\n",
       "  <thead>\n",
       "    <tr style=\"text-align: right;\">\n",
       "      <th></th>\n",
       "      <th>cgpa</th>\n",
       "      <th>placement_exam_marks</th>\n",
       "      <th>placed</th>\n",
       "      <th>cgpa_zscore</th>\n",
       "    </tr>\n",
       "  </thead>\n",
       "  <tbody>\n",
       "    <tr>\n",
       "      <th>485</th>\n",
       "      <td>4.92</td>\n",
       "      <td>44.0</td>\n",
       "      <td>1</td>\n",
       "      <td>-3.314251</td>\n",
       "    </tr>\n",
       "    <tr>\n",
       "      <th>995</th>\n",
       "      <td>8.87</td>\n",
       "      <td>44.0</td>\n",
       "      <td>1</td>\n",
       "      <td>3.099150</td>\n",
       "    </tr>\n",
       "    <tr>\n",
       "      <th>996</th>\n",
       "      <td>9.12</td>\n",
       "      <td>65.0</td>\n",
       "      <td>1</td>\n",
       "      <td>3.505062</td>\n",
       "    </tr>\n",
       "    <tr>\n",
       "      <th>997</th>\n",
       "      <td>4.89</td>\n",
       "      <td>34.0</td>\n",
       "      <td>0</td>\n",
       "      <td>-3.362960</td>\n",
       "    </tr>\n",
       "    <tr>\n",
       "      <th>999</th>\n",
       "      <td>4.90</td>\n",
       "      <td>10.0</td>\n",
       "      <td>1</td>\n",
       "      <td>-3.346724</td>\n",
       "    </tr>\n",
       "  </tbody>\n",
       "</table>\n",
       "</div>"
      ],
      "text/plain": [
       "     cgpa  placement_exam_marks  placed  cgpa_zscore\n",
       "485  4.92                  44.0       1    -3.314251\n",
       "995  8.87                  44.0       1     3.099150\n",
       "996  9.12                  65.0       1     3.505062\n",
       "997  4.89                  34.0       0    -3.362960\n",
       "999  4.90                  10.0       1    -3.346724"
      ]
     },
     "execution_count": 23,
     "metadata": {},
     "output_type": "execute_result"
    }
   ],
   "source": [
    "df[(df['cgpa_zscore'] > 3) | (df['cgpa_zscore'] < -3)]"
   ]
  },
  {
   "cell_type": "code",
   "execution_count": 24,
   "metadata": {},
   "outputs": [],
   "source": [
    "# trimming \n",
    "new_Df = df[(df['cgpa_zscore'] < 3) & (df['cgpa_zscore'] > -3)]"
   ]
  },
  {
   "cell_type": "code",
   "execution_count": 25,
   "metadata": {},
   "outputs": [
    {
     "data": {
      "application/vnd.microsoft.datawrangler.viewer.v0+json": {
       "columns": [
        {
         "name": "index",
         "rawType": "int64",
         "type": "integer"
        },
        {
         "name": "cgpa",
         "rawType": "float64",
         "type": "float"
        },
        {
         "name": "placement_exam_marks",
         "rawType": "float64",
         "type": "float"
        },
        {
         "name": "placed",
         "rawType": "int64",
         "type": "integer"
        },
        {
         "name": "cgpa_zscore",
         "rawType": "float64",
         "type": "float"
        }
       ],
       "ref": "2631e0ac-75b6-4b77-8625-4dd116ed6dc2",
       "rows": [
        [
         "0",
         "7.19",
         "26.0",
         "1",
         "0.37142521388116084"
        ],
        [
         "1",
         "7.46",
         "38.0",
         "1",
         "0.8098095806756753"
        ],
        [
         "2",
         "7.54",
         "40.0",
         "1",
         "0.9397012449110874"
        ],
        [
         "3",
         "6.42",
         "8.0",
         "1",
         "-0.8787820543846796"
        ],
        [
         "4",
         "7.23",
         "17.0",
         "0",
         "0.43637104599886684"
        ],
        [
         "5",
         "7.3",
         "23.0",
         "1",
         "0.5500262522048514"
        ],
        [
         "6",
         "6.69",
         "11.0",
         "0",
         "-0.4403976875901636"
        ],
        [
         "7",
         "7.12",
         "39.0",
         "1",
         "0.25777000767517494"
        ],
        [
         "8",
         "6.45",
         "38.0",
         "0",
         "-0.8300726802963997"
        ],
        [
         "9",
         "7.75",
         "94.0",
         "1",
         "1.2806668635290437"
        ],
        [
         "10",
         "6.82",
         "16.0",
         "1",
         "-0.22932373320761942"
        ],
        [
         "11",
         "6.38",
         "7.0",
         "1",
         "-0.9437278865023856"
        ],
        [
         "12",
         "6.58",
         "16.0",
         "1",
         "-0.6189987259138555"
        ],
        [
         "13",
         "5.68",
         "26.0",
         "0",
         "-2.0802799485622403"
        ],
        [
         "14",
         "7.91",
         "43.0",
         "0",
         "1.5404501919998677"
        ],
        [
         "15",
         "7.1",
         "21.0",
         "0",
         "0.22529709161632122"
        ],
        [
         "16",
         "6.53",
         "19.0",
         "0",
         "-0.7001810160609877"
        ],
        [
         "17",
         "7.56",
         "22.0",
         "1",
         "0.9721741609699397"
        ],
        [
         "18",
         "6.93",
         "27.0",
         "0",
         "-0.050722694883928963"
        ],
        [
         "19",
         "7.63",
         "29.0",
         "0",
         "1.0858293671759256"
        ],
        [
         "20",
         "6.69",
         "47.0",
         "0",
         "-0.4403976875901636"
        ],
        [
         "21",
         "7.43",
         "33.0",
         "1",
         "0.7611002065873955"
        ],
        [
         "22",
         "6.76",
         "54.0",
         "1",
         "-0.32674248138417916"
        ],
        [
         "23",
         "6.05",
         "11.0",
         "0",
         "-1.4795310014734597"
        ],
        [
         "24",
         "6.44",
         "11.0",
         "0",
         "-0.8463091383258259"
        ],
        [
         "25",
         "6.28",
         "58.0",
         "1",
         "-1.1060924667966499"
        ],
        [
         "26",
         "7.45",
         "8.0",
         "1",
         "0.7935731226462492"
        ],
        [
         "27",
         "6.53",
         "46.0",
         "0",
         "-0.7001810160609877"
        ],
        [
         "28",
         "7.23",
         "19.0",
         "0",
         "0.43637104599886684"
        ],
        [
         "29",
         "6.51",
         "15.0",
         "1",
         "-0.7326539321198414"
        ],
        [
         "30",
         "7.46",
         "16.0",
         "0",
         "0.8098095806756753"
        ],
        [
         "31",
         "7.66",
         "44.0",
         "0",
         "1.1345387412642054"
        ],
        [
         "32",
         "5.91",
         "11.0",
         "1",
         "-1.7068414138854302"
        ],
        [
         "33",
         "6.23",
         "27.0",
         "0",
         "-1.187274756943782"
        ],
        [
         "34",
         "8.15",
         "9.0",
         "0",
         "1.9301251847061038"
        ],
        [
         "35",
         "7.48",
         "12.0",
         "0",
         "0.842282496734529"
        ],
        [
         "36",
         "6.85",
         "16.0",
         "1",
         "-0.18061435911934098"
        ],
        [
         "37",
         "8.51",
         "9.0",
         "1",
         "2.5146376737654563"
        ],
        [
         "38",
         "6.58",
         "20.0",
         "1",
         "-0.6189987259138555"
        ],
        [
         "39",
         "7.25",
         "17.0",
         "0",
         "0.46884396205771917"
        ],
        [
         "40",
         "6.6",
         "86.0",
         "1",
         "-0.5865258098550032"
        ],
        [
         "41",
         "6.7",
         "38.0",
         "0",
         "-0.4241612295607375"
        ],
        [
         "42",
         "7.46",
         "71.0",
         "1",
         "0.8098095806756753"
        ],
        [
         "43",
         "7.85",
         "63.0",
         "0",
         "1.4430314438233078"
        ],
        [
         "44",
         "7.88",
         "55.0",
         "0",
         "1.4917408179115879"
        ],
        [
         "45",
         "6.92",
         "10.0",
         "1",
         "-0.06695915291335511"
        ],
        [
         "46",
         "7.3",
         "15.0",
         "0",
         "0.5500262522048514"
        ],
        [
         "47",
         "6.92",
         "46.0",
         "0",
         "-0.06695915291335511"
        ],
        [
         "48",
         "6.29",
         "42.0",
         "0",
         "-1.0898560087672238"
        ],
        [
         "49",
         "8.23",
         "28.0",
         "1",
         "2.060016848941516"
        ]
       ],
       "shape": {
        "columns": 4,
        "rows": 995
       }
      },
      "text/html": [
       "<div>\n",
       "<style scoped>\n",
       "    .dataframe tbody tr th:only-of-type {\n",
       "        vertical-align: middle;\n",
       "    }\n",
       "\n",
       "    .dataframe tbody tr th {\n",
       "        vertical-align: top;\n",
       "    }\n",
       "\n",
       "    .dataframe thead th {\n",
       "        text-align: right;\n",
       "    }\n",
       "</style>\n",
       "<table border=\"1\" class=\"dataframe\">\n",
       "  <thead>\n",
       "    <tr style=\"text-align: right;\">\n",
       "      <th></th>\n",
       "      <th>cgpa</th>\n",
       "      <th>placement_exam_marks</th>\n",
       "      <th>placed</th>\n",
       "      <th>cgpa_zscore</th>\n",
       "    </tr>\n",
       "  </thead>\n",
       "  <tbody>\n",
       "    <tr>\n",
       "      <th>0</th>\n",
       "      <td>7.19</td>\n",
       "      <td>26.0</td>\n",
       "      <td>1</td>\n",
       "      <td>0.371425</td>\n",
       "    </tr>\n",
       "    <tr>\n",
       "      <th>1</th>\n",
       "      <td>7.46</td>\n",
       "      <td>38.0</td>\n",
       "      <td>1</td>\n",
       "      <td>0.809810</td>\n",
       "    </tr>\n",
       "    <tr>\n",
       "      <th>2</th>\n",
       "      <td>7.54</td>\n",
       "      <td>40.0</td>\n",
       "      <td>1</td>\n",
       "      <td>0.939701</td>\n",
       "    </tr>\n",
       "    <tr>\n",
       "      <th>3</th>\n",
       "      <td>6.42</td>\n",
       "      <td>8.0</td>\n",
       "      <td>1</td>\n",
       "      <td>-0.878782</td>\n",
       "    </tr>\n",
       "    <tr>\n",
       "      <th>4</th>\n",
       "      <td>7.23</td>\n",
       "      <td>17.0</td>\n",
       "      <td>0</td>\n",
       "      <td>0.436371</td>\n",
       "    </tr>\n",
       "    <tr>\n",
       "      <th>...</th>\n",
       "      <td>...</td>\n",
       "      <td>...</td>\n",
       "      <td>...</td>\n",
       "      <td>...</td>\n",
       "    </tr>\n",
       "    <tr>\n",
       "      <th>991</th>\n",
       "      <td>7.04</td>\n",
       "      <td>57.0</td>\n",
       "      <td>0</td>\n",
       "      <td>0.127878</td>\n",
       "    </tr>\n",
       "    <tr>\n",
       "      <th>992</th>\n",
       "      <td>6.26</td>\n",
       "      <td>12.0</td>\n",
       "      <td>0</td>\n",
       "      <td>-1.138565</td>\n",
       "    </tr>\n",
       "    <tr>\n",
       "      <th>993</th>\n",
       "      <td>6.73</td>\n",
       "      <td>21.0</td>\n",
       "      <td>1</td>\n",
       "      <td>-0.375452</td>\n",
       "    </tr>\n",
       "    <tr>\n",
       "      <th>994</th>\n",
       "      <td>6.48</td>\n",
       "      <td>63.0</td>\n",
       "      <td>0</td>\n",
       "      <td>-0.781363</td>\n",
       "    </tr>\n",
       "    <tr>\n",
       "      <th>998</th>\n",
       "      <td>8.62</td>\n",
       "      <td>46.0</td>\n",
       "      <td>1</td>\n",
       "      <td>2.693239</td>\n",
       "    </tr>\n",
       "  </tbody>\n",
       "</table>\n",
       "<p>995 rows × 4 columns</p>\n",
       "</div>"
      ],
      "text/plain": [
       "     cgpa  placement_exam_marks  placed  cgpa_zscore\n",
       "0    7.19                  26.0       1     0.371425\n",
       "1    7.46                  38.0       1     0.809810\n",
       "2    7.54                  40.0       1     0.939701\n",
       "3    6.42                   8.0       1    -0.878782\n",
       "4    7.23                  17.0       0     0.436371\n",
       "..    ...                   ...     ...          ...\n",
       "991  7.04                  57.0       0     0.127878\n",
       "992  6.26                  12.0       0    -1.138565\n",
       "993  6.73                  21.0       1    -0.375452\n",
       "994  6.48                  63.0       0    -0.781363\n",
       "998  8.62                  46.0       1     2.693239\n",
       "\n",
       "[995 rows x 4 columns]"
      ]
     },
     "execution_count": 25,
     "metadata": {},
     "output_type": "execute_result"
    }
   ],
   "source": [
    "new_Df"
   ]
  },
  {
   "cell_type": "markdown",
   "id": "a3f1bd8f",
   "metadata": {},
   "source": [
    "# Capping "
   ]
  },
  {
   "cell_type": "code",
   "execution_count": 26,
   "metadata": {},
   "outputs": [],
   "source": [
    "upperlimit = df['cgpa'].mean() + 3*df['cgpa'].std()\n",
    "lowerlimit = df['cgpa'].mean() - 3*df['cgpa'].std()"
   ]
  },
  {
   "cell_type": "code",
   "execution_count": 27,
   "metadata": {},
   "outputs": [],
   "source": [
    "df['cgpa'] = np.where(\n",
    "    df['cgpa']>upperlimit,\n",
    "    upperlimit,\n",
    "    np.where(\n",
    "        df['cgpa']<lowerlimit,\n",
    "        lowerlimit,\n",
    "        df['cgpa']\n",
    "    )\n",
    ")"
   ]
  },
  {
   "cell_type": "code",
   "execution_count": 28,
   "metadata": {},
   "outputs": [
    {
     "data": {
      "text/plain": [
       "(1000, 4)"
      ]
     },
     "execution_count": 28,
     "metadata": {},
     "output_type": "execute_result"
    }
   ],
   "source": [
    "df.shape"
   ]
  },
  {
   "cell_type": "code",
   "execution_count": 29,
   "metadata": {},
   "outputs": [
    {
     "data": {
      "application/vnd.microsoft.datawrangler.viewer.v0+json": {
       "columns": [
        {
         "name": "index",
         "rawType": "object",
         "type": "string"
        },
        {
         "name": "cgpa",
         "rawType": "float64",
         "type": "float"
        }
       ],
       "ref": "37311937-0703-4534-a8d9-112cf909d184",
       "rows": [
        [
         "count",
         "1000.0"
        ],
        [
         "mean",
         "6.961498506374602"
        ],
        [
         "std",
         "0.6126883592648873"
        ],
        [
         "min",
         "5.113546374602832"
        ],
        [
         "25%",
         "6.55"
        ],
        [
         "50%",
         "6.96"
        ],
        [
         "75%",
         "7.37"
        ],
        [
         "max",
         "8.808933625397168"
        ]
       ],
       "shape": {
        "columns": 1,
        "rows": 8
       }
      },
      "text/plain": [
       "count    1000.000000\n",
       "mean        6.961499\n",
       "std         0.612688\n",
       "min         5.113546\n",
       "25%         6.550000\n",
       "50%         6.960000\n",
       "75%         7.370000\n",
       "max         8.808934\n",
       "Name: cgpa, dtype: float64"
      ]
     },
     "execution_count": 29,
     "metadata": {},
     "output_type": "execute_result"
    }
   ],
   "source": [
    "df['cgpa'].describe()\n"
   ]
  },
  {
   "cell_type": "code",
   "execution_count": null,
   "metadata": {},
   "outputs": [],
   "source": []
  }
 ],
 "metadata": {
  "kernelspec": {
   "display_name": "Python 3",
   "language": "python",
   "name": "python3"
  },
  "language_info": {
   "codemirror_mode": {
    "name": "ipython",
    "version": 3
   },
   "file_extension": ".py",
   "mimetype": "text/x-python",
   "name": "python",
   "nbconvert_exporter": "python",
   "pygments_lexer": "ipython3",
   "version": "3.12.6"
  }
 },
 "nbformat": 4,
 "nbformat_minor": 5
}

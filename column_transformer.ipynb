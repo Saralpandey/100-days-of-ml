{
 "cells": [
  {
   "cell_type": "code",
   "execution_count": 1,
   "id": "3e2a71ad",
   "metadata": {},
   "outputs": [],
   "source": [
    "import pandas as pd \n",
    "import numpy as np \n",
    "import seaborn as sns \n",
    "import matplotlib.pyplot as plt \n",
    "from sklearn.model_selection import train_test_split \n",
    "from sklearn.impute import SimpleImputer\n",
    "from sklearn.preprocessing import OneHotEncoder , OrdinalEncoder"
   ]
  },
  {
   "cell_type": "code",
   "execution_count": 2,
   "metadata": {},
   "outputs": [],
   "source": [
    "df = pd.read_csv(\"covid_toy (1).csv\")"
   ]
  },
  {
   "cell_type": "code",
   "execution_count": 3,
   "metadata": {},
   "outputs": [
    {
     "data": {
      "application/vnd.microsoft.datawrangler.viewer.v0+json": {
       "columns": [
        {
         "name": "index",
         "rawType": "int64",
         "type": "integer"
        },
        {
         "name": "age",
         "rawType": "int64",
         "type": "integer"
        },
        {
         "name": "gender",
         "rawType": "object",
         "type": "string"
        },
        {
         "name": "fever",
         "rawType": "float64",
         "type": "float"
        },
        {
         "name": "cough",
         "rawType": "object",
         "type": "string"
        },
        {
         "name": "city",
         "rawType": "object",
         "type": "string"
        },
        {
         "name": "has_covid",
         "rawType": "object",
         "type": "string"
        }
       ],
       "ref": "5939f4b5-8f5b-4aec-88c8-5265c0d20802",
       "rows": [
        [
         "0",
         "60",
         "Male",
         "103.0",
         "Mild",
         "Kolkata",
         "No"
        ],
        [
         "1",
         "27",
         "Male",
         "100.0",
         "Mild",
         "Delhi",
         "Yes"
        ],
        [
         "2",
         "42",
         "Male",
         "101.0",
         "Mild",
         "Delhi",
         "No"
        ],
        [
         "3",
         "31",
         "Female",
         "98.0",
         "Mild",
         "Kolkata",
         "No"
        ],
        [
         "4",
         "65",
         "Female",
         "101.0",
         "Mild",
         "Mumbai",
         "No"
        ],
        [
         "5",
         "84",
         "Female",
         null,
         "Mild",
         "Bangalore",
         "Yes"
        ],
        [
         "6",
         "14",
         "Male",
         "101.0",
         "Strong",
         "Bangalore",
         "No"
        ],
        [
         "7",
         "20",
         "Female",
         null,
         "Strong",
         "Mumbai",
         "Yes"
        ],
        [
         "8",
         "19",
         "Female",
         "100.0",
         "Strong",
         "Bangalore",
         "No"
        ],
        [
         "9",
         "64",
         "Female",
         "101.0",
         "Mild",
         "Delhi",
         "No"
        ],
        [
         "10",
         "75",
         "Female",
         null,
         "Mild",
         "Delhi",
         "No"
        ],
        [
         "11",
         "65",
         "Female",
         "98.0",
         "Mild",
         "Mumbai",
         "Yes"
        ],
        [
         "12",
         "25",
         "Female",
         "99.0",
         "Strong",
         "Kolkata",
         "No"
        ],
        [
         "13",
         "64",
         "Male",
         "102.0",
         "Mild",
         "Bangalore",
         "Yes"
        ],
        [
         "14",
         "51",
         "Male",
         "104.0",
         "Mild",
         "Bangalore",
         "No"
        ],
        [
         "15",
         "70",
         "Male",
         "103.0",
         "Strong",
         "Kolkata",
         "Yes"
        ],
        [
         "16",
         "69",
         "Female",
         "103.0",
         "Mild",
         "Kolkata",
         "Yes"
        ],
        [
         "17",
         "40",
         "Female",
         "98.0",
         "Strong",
         "Delhi",
         "No"
        ],
        [
         "18",
         "64",
         "Female",
         "98.0",
         "Mild",
         "Bangalore",
         "Yes"
        ],
        [
         "19",
         "42",
         "Female",
         null,
         "Strong",
         "Bangalore",
         "Yes"
        ],
        [
         "20",
         "12",
         "Male",
         "98.0",
         "Strong",
         "Bangalore",
         "No"
        ],
        [
         "21",
         "73",
         "Male",
         "98.0",
         "Mild",
         "Bangalore",
         "Yes"
        ],
        [
         "22",
         "71",
         "Female",
         "98.0",
         "Strong",
         "Kolkata",
         "Yes"
        ],
        [
         "23",
         "80",
         "Female",
         "98.0",
         "Mild",
         "Delhi",
         "Yes"
        ],
        [
         "24",
         "13",
         "Female",
         "100.0",
         "Strong",
         "Kolkata",
         "No"
        ],
        [
         "25",
         "23",
         "Male",
         null,
         "Mild",
         "Mumbai",
         "No"
        ],
        [
         "26",
         "19",
         "Female",
         "100.0",
         "Mild",
         "Kolkata",
         "Yes"
        ],
        [
         "27",
         "33",
         "Female",
         "102.0",
         "Strong",
         "Delhi",
         "No"
        ],
        [
         "28",
         "16",
         "Male",
         "104.0",
         "Mild",
         "Kolkata",
         "No"
        ],
        [
         "29",
         "34",
         "Female",
         null,
         "Strong",
         "Mumbai",
         "Yes"
        ],
        [
         "30",
         "15",
         "Male",
         "101.0",
         "Mild",
         "Delhi",
         "Yes"
        ],
        [
         "31",
         "83",
         "Male",
         "103.0",
         "Mild",
         "Kolkata",
         "No"
        ],
        [
         "32",
         "34",
         "Female",
         "101.0",
         "Strong",
         "Delhi",
         "Yes"
        ],
        [
         "33",
         "26",
         "Female",
         "98.0",
         "Mild",
         "Kolkata",
         "No"
        ],
        [
         "34",
         "74",
         "Male",
         "102.0",
         "Mild",
         "Mumbai",
         "Yes"
        ],
        [
         "35",
         "82",
         "Female",
         "102.0",
         "Strong",
         "Bangalore",
         "No"
        ],
        [
         "36",
         "38",
         "Female",
         "101.0",
         "Mild",
         "Bangalore",
         "No"
        ],
        [
         "37",
         "55",
         "Male",
         "100.0",
         "Mild",
         "Kolkata",
         "No"
        ],
        [
         "38",
         "49",
         "Female",
         "101.0",
         "Mild",
         "Delhi",
         "Yes"
        ],
        [
         "39",
         "50",
         "Female",
         "103.0",
         "Mild",
         "Kolkata",
         "No"
        ],
        [
         "40",
         "49",
         "Female",
         "102.0",
         "Mild",
         "Delhi",
         "No"
        ],
        [
         "41",
         "82",
         "Male",
         null,
         "Mild",
         "Kolkata",
         "Yes"
        ],
        [
         "42",
         "27",
         "Male",
         "100.0",
         "Mild",
         "Delhi",
         "Yes"
        ],
        [
         "43",
         "22",
         "Female",
         "99.0",
         "Mild",
         "Bangalore",
         "Yes"
        ],
        [
         "44",
         "20",
         "Male",
         "102.0",
         "Strong",
         "Delhi",
         "No"
        ],
        [
         "45",
         "72",
         "Male",
         "99.0",
         "Mild",
         "Bangalore",
         "No"
        ],
        [
         "46",
         "19",
         "Female",
         "101.0",
         "Mild",
         "Mumbai",
         "No"
        ],
        [
         "47",
         "18",
         "Female",
         "104.0",
         "Mild",
         "Bangalore",
         "No"
        ],
        [
         "48",
         "66",
         "Male",
         "99.0",
         "Strong",
         "Bangalore",
         "No"
        ],
        [
         "49",
         "44",
         "Male",
         "104.0",
         "Mild",
         "Mumbai",
         "No"
        ]
       ],
       "shape": {
        "columns": 6,
        "rows": 100
       }
      },
      "text/html": [
       "<div>\n",
       "<style scoped>\n",
       "    .dataframe tbody tr th:only-of-type {\n",
       "        vertical-align: middle;\n",
       "    }\n",
       "\n",
       "    .dataframe tbody tr th {\n",
       "        vertical-align: top;\n",
       "    }\n",
       "\n",
       "    .dataframe thead th {\n",
       "        text-align: right;\n",
       "    }\n",
       "</style>\n",
       "<table border=\"1\" class=\"dataframe\">\n",
       "  <thead>\n",
       "    <tr style=\"text-align: right;\">\n",
       "      <th></th>\n",
       "      <th>age</th>\n",
       "      <th>gender</th>\n",
       "      <th>fever</th>\n",
       "      <th>cough</th>\n",
       "      <th>city</th>\n",
       "      <th>has_covid</th>\n",
       "    </tr>\n",
       "  </thead>\n",
       "  <tbody>\n",
       "    <tr>\n",
       "      <th>0</th>\n",
       "      <td>60</td>\n",
       "      <td>Male</td>\n",
       "      <td>103.0</td>\n",
       "      <td>Mild</td>\n",
       "      <td>Kolkata</td>\n",
       "      <td>No</td>\n",
       "    </tr>\n",
       "    <tr>\n",
       "      <th>1</th>\n",
       "      <td>27</td>\n",
       "      <td>Male</td>\n",
       "      <td>100.0</td>\n",
       "      <td>Mild</td>\n",
       "      <td>Delhi</td>\n",
       "      <td>Yes</td>\n",
       "    </tr>\n",
       "    <tr>\n",
       "      <th>2</th>\n",
       "      <td>42</td>\n",
       "      <td>Male</td>\n",
       "      <td>101.0</td>\n",
       "      <td>Mild</td>\n",
       "      <td>Delhi</td>\n",
       "      <td>No</td>\n",
       "    </tr>\n",
       "    <tr>\n",
       "      <th>3</th>\n",
       "      <td>31</td>\n",
       "      <td>Female</td>\n",
       "      <td>98.0</td>\n",
       "      <td>Mild</td>\n",
       "      <td>Kolkata</td>\n",
       "      <td>No</td>\n",
       "    </tr>\n",
       "    <tr>\n",
       "      <th>4</th>\n",
       "      <td>65</td>\n",
       "      <td>Female</td>\n",
       "      <td>101.0</td>\n",
       "      <td>Mild</td>\n",
       "      <td>Mumbai</td>\n",
       "      <td>No</td>\n",
       "    </tr>\n",
       "    <tr>\n",
       "      <th>...</th>\n",
       "      <td>...</td>\n",
       "      <td>...</td>\n",
       "      <td>...</td>\n",
       "      <td>...</td>\n",
       "      <td>...</td>\n",
       "      <td>...</td>\n",
       "    </tr>\n",
       "    <tr>\n",
       "      <th>95</th>\n",
       "      <td>12</td>\n",
       "      <td>Female</td>\n",
       "      <td>104.0</td>\n",
       "      <td>Mild</td>\n",
       "      <td>Bangalore</td>\n",
       "      <td>No</td>\n",
       "    </tr>\n",
       "    <tr>\n",
       "      <th>96</th>\n",
       "      <td>51</td>\n",
       "      <td>Female</td>\n",
       "      <td>101.0</td>\n",
       "      <td>Strong</td>\n",
       "      <td>Kolkata</td>\n",
       "      <td>Yes</td>\n",
       "    </tr>\n",
       "    <tr>\n",
       "      <th>97</th>\n",
       "      <td>20</td>\n",
       "      <td>Female</td>\n",
       "      <td>101.0</td>\n",
       "      <td>Mild</td>\n",
       "      <td>Bangalore</td>\n",
       "      <td>No</td>\n",
       "    </tr>\n",
       "    <tr>\n",
       "      <th>98</th>\n",
       "      <td>5</td>\n",
       "      <td>Female</td>\n",
       "      <td>98.0</td>\n",
       "      <td>Strong</td>\n",
       "      <td>Mumbai</td>\n",
       "      <td>No</td>\n",
       "    </tr>\n",
       "    <tr>\n",
       "      <th>99</th>\n",
       "      <td>10</td>\n",
       "      <td>Female</td>\n",
       "      <td>98.0</td>\n",
       "      <td>Strong</td>\n",
       "      <td>Kolkata</td>\n",
       "      <td>Yes</td>\n",
       "    </tr>\n",
       "  </tbody>\n",
       "</table>\n",
       "<p>100 rows × 6 columns</p>\n",
       "</div>"
      ],
      "text/plain": [
       "    age  gender  fever   cough       city has_covid\n",
       "0    60    Male  103.0    Mild    Kolkata        No\n",
       "1    27    Male  100.0    Mild      Delhi       Yes\n",
       "2    42    Male  101.0    Mild      Delhi        No\n",
       "3    31  Female   98.0    Mild    Kolkata        No\n",
       "4    65  Female  101.0    Mild     Mumbai        No\n",
       "..  ...     ...    ...     ...        ...       ...\n",
       "95   12  Female  104.0    Mild  Bangalore        No\n",
       "96   51  Female  101.0  Strong    Kolkata       Yes\n",
       "97   20  Female  101.0    Mild  Bangalore        No\n",
       "98    5  Female   98.0  Strong     Mumbai        No\n",
       "99   10  Female   98.0  Strong    Kolkata       Yes\n",
       "\n",
       "[100 rows x 6 columns]"
      ]
     },
     "execution_count": 3,
     "metadata": {},
     "output_type": "execute_result"
    }
   ],
   "source": [
    "df"
   ]
  },
  {
   "cell_type": "code",
   "execution_count": 4,
   "id": "2d0fdba8",
   "metadata": {},
   "outputs": [
    {
     "data": {
      "application/vnd.microsoft.datawrangler.viewer.v0+json": {
       "columns": [
        {
         "name": "index",
         "rawType": "int64",
         "type": "integer"
        },
        {
         "name": "age",
         "rawType": "int64",
         "type": "integer"
        },
        {
         "name": "gender",
         "rawType": "object",
         "type": "string"
        },
        {
         "name": "fever",
         "rawType": "float64",
         "type": "float"
        },
        {
         "name": "cough",
         "rawType": "object",
         "type": "string"
        },
        {
         "name": "city",
         "rawType": "object",
         "type": "string"
        },
        {
         "name": "has_covid",
         "rawType": "object",
         "type": "string"
        }
       ],
       "ref": "7fad0c9d-c71a-482b-8051-0d61bd082778",
       "rows": [
        [
         "0",
         "60",
         "Male",
         "103.0",
         "Mild",
         "Kolkata",
         "No"
        ],
        [
         "1",
         "27",
         "Male",
         "100.0",
         "Mild",
         "Delhi",
         "Yes"
        ],
        [
         "2",
         "42",
         "Male",
         "101.0",
         "Mild",
         "Delhi",
         "No"
        ],
        [
         "3",
         "31",
         "Female",
         "98.0",
         "Mild",
         "Kolkata",
         "No"
        ],
        [
         "4",
         "65",
         "Female",
         "101.0",
         "Mild",
         "Mumbai",
         "No"
        ]
       ],
       "shape": {
        "columns": 6,
        "rows": 5
       }
      },
      "text/html": [
       "<div>\n",
       "<style scoped>\n",
       "    .dataframe tbody tr th:only-of-type {\n",
       "        vertical-align: middle;\n",
       "    }\n",
       "\n",
       "    .dataframe tbody tr th {\n",
       "        vertical-align: top;\n",
       "    }\n",
       "\n",
       "    .dataframe thead th {\n",
       "        text-align: right;\n",
       "    }\n",
       "</style>\n",
       "<table border=\"1\" class=\"dataframe\">\n",
       "  <thead>\n",
       "    <tr style=\"text-align: right;\">\n",
       "      <th></th>\n",
       "      <th>age</th>\n",
       "      <th>gender</th>\n",
       "      <th>fever</th>\n",
       "      <th>cough</th>\n",
       "      <th>city</th>\n",
       "      <th>has_covid</th>\n",
       "    </tr>\n",
       "  </thead>\n",
       "  <tbody>\n",
       "    <tr>\n",
       "      <th>0</th>\n",
       "      <td>60</td>\n",
       "      <td>Male</td>\n",
       "      <td>103.0</td>\n",
       "      <td>Mild</td>\n",
       "      <td>Kolkata</td>\n",
       "      <td>No</td>\n",
       "    </tr>\n",
       "    <tr>\n",
       "      <th>1</th>\n",
       "      <td>27</td>\n",
       "      <td>Male</td>\n",
       "      <td>100.0</td>\n",
       "      <td>Mild</td>\n",
       "      <td>Delhi</td>\n",
       "      <td>Yes</td>\n",
       "    </tr>\n",
       "    <tr>\n",
       "      <th>2</th>\n",
       "      <td>42</td>\n",
       "      <td>Male</td>\n",
       "      <td>101.0</td>\n",
       "      <td>Mild</td>\n",
       "      <td>Delhi</td>\n",
       "      <td>No</td>\n",
       "    </tr>\n",
       "    <tr>\n",
       "      <th>3</th>\n",
       "      <td>31</td>\n",
       "      <td>Female</td>\n",
       "      <td>98.0</td>\n",
       "      <td>Mild</td>\n",
       "      <td>Kolkata</td>\n",
       "      <td>No</td>\n",
       "    </tr>\n",
       "    <tr>\n",
       "      <th>4</th>\n",
       "      <td>65</td>\n",
       "      <td>Female</td>\n",
       "      <td>101.0</td>\n",
       "      <td>Mild</td>\n",
       "      <td>Mumbai</td>\n",
       "      <td>No</td>\n",
       "    </tr>\n",
       "  </tbody>\n",
       "</table>\n",
       "</div>"
      ],
      "text/plain": [
       "   age  gender  fever cough     city has_covid\n",
       "0   60    Male  103.0  Mild  Kolkata        No\n",
       "1   27    Male  100.0  Mild    Delhi       Yes\n",
       "2   42    Male  101.0  Mild    Delhi        No\n",
       "3   31  Female   98.0  Mild  Kolkata        No\n",
       "4   65  Female  101.0  Mild   Mumbai        No"
      ]
     },
     "execution_count": 4,
     "metadata": {},
     "output_type": "execute_result"
    }
   ],
   "source": [
    "df.head(5)"
   ]
  },
  {
   "cell_type": "code",
   "execution_count": 5,
   "metadata": {},
   "outputs": [
    {
     "data": {
      "application/vnd.microsoft.datawrangler.viewer.v0+json": {
       "columns": [
        {
         "name": "index",
         "rawType": "int64",
         "type": "integer"
        },
        {
         "name": "age",
         "rawType": "int64",
         "type": "integer"
        },
        {
         "name": "gender",
         "rawType": "object",
         "type": "string"
        },
        {
         "name": "fever",
         "rawType": "float64",
         "type": "float"
        },
        {
         "name": "cough",
         "rawType": "object",
         "type": "string"
        },
        {
         "name": "city",
         "rawType": "object",
         "type": "string"
        },
        {
         "name": "has_covid",
         "rawType": "object",
         "type": "string"
        }
       ],
       "ref": "d99b760f-eed7-490a-b0dd-eecf171fa84d",
       "rows": [
        [
         "81",
         "65",
         "Male",
         "99.0",
         "Mild",
         "Delhi",
         "No"
        ],
        [
         "83",
         "17",
         "Female",
         "104.0",
         "Mild",
         "Kolkata",
         "No"
        ],
        [
         "12",
         "25",
         "Female",
         "99.0",
         "Strong",
         "Kolkata",
         "No"
        ],
        [
         "37",
         "55",
         "Male",
         "100.0",
         "Mild",
         "Kolkata",
         "No"
        ],
        [
         "27",
         "33",
         "Female",
         "102.0",
         "Strong",
         "Delhi",
         "No"
        ]
       ],
       "shape": {
        "columns": 6,
        "rows": 5
       }
      },
      "text/html": [
       "<div>\n",
       "<style scoped>\n",
       "    .dataframe tbody tr th:only-of-type {\n",
       "        vertical-align: middle;\n",
       "    }\n",
       "\n",
       "    .dataframe tbody tr th {\n",
       "        vertical-align: top;\n",
       "    }\n",
       "\n",
       "    .dataframe thead th {\n",
       "        text-align: right;\n",
       "    }\n",
       "</style>\n",
       "<table border=\"1\" class=\"dataframe\">\n",
       "  <thead>\n",
       "    <tr style=\"text-align: right;\">\n",
       "      <th></th>\n",
       "      <th>age</th>\n",
       "      <th>gender</th>\n",
       "      <th>fever</th>\n",
       "      <th>cough</th>\n",
       "      <th>city</th>\n",
       "      <th>has_covid</th>\n",
       "    </tr>\n",
       "  </thead>\n",
       "  <tbody>\n",
       "    <tr>\n",
       "      <th>81</th>\n",
       "      <td>65</td>\n",
       "      <td>Male</td>\n",
       "      <td>99.0</td>\n",
       "      <td>Mild</td>\n",
       "      <td>Delhi</td>\n",
       "      <td>No</td>\n",
       "    </tr>\n",
       "    <tr>\n",
       "      <th>83</th>\n",
       "      <td>17</td>\n",
       "      <td>Female</td>\n",
       "      <td>104.0</td>\n",
       "      <td>Mild</td>\n",
       "      <td>Kolkata</td>\n",
       "      <td>No</td>\n",
       "    </tr>\n",
       "    <tr>\n",
       "      <th>12</th>\n",
       "      <td>25</td>\n",
       "      <td>Female</td>\n",
       "      <td>99.0</td>\n",
       "      <td>Strong</td>\n",
       "      <td>Kolkata</td>\n",
       "      <td>No</td>\n",
       "    </tr>\n",
       "    <tr>\n",
       "      <th>37</th>\n",
       "      <td>55</td>\n",
       "      <td>Male</td>\n",
       "      <td>100.0</td>\n",
       "      <td>Mild</td>\n",
       "      <td>Kolkata</td>\n",
       "      <td>No</td>\n",
       "    </tr>\n",
       "    <tr>\n",
       "      <th>27</th>\n",
       "      <td>33</td>\n",
       "      <td>Female</td>\n",
       "      <td>102.0</td>\n",
       "      <td>Strong</td>\n",
       "      <td>Delhi</td>\n",
       "      <td>No</td>\n",
       "    </tr>\n",
       "  </tbody>\n",
       "</table>\n",
       "</div>"
      ],
      "text/plain": [
       "    age  gender  fever   cough     city has_covid\n",
       "81   65    Male   99.0    Mild    Delhi        No\n",
       "83   17  Female  104.0    Mild  Kolkata        No\n",
       "12   25  Female   99.0  Strong  Kolkata        No\n",
       "37   55    Male  100.0    Mild  Kolkata        No\n",
       "27   33  Female  102.0  Strong    Delhi        No"
      ]
     },
     "execution_count": 5,
     "metadata": {},
     "output_type": "execute_result"
    }
   ],
   "source": [
    "df.sample(5)"
   ]
  },
  {
   "cell_type": "code",
   "execution_count": 6,
   "id": "fc6c2986",
   "metadata": {},
   "outputs": [
    {
     "name": "stdout",
     "output_type": "stream",
     "text": [
      "<class 'pandas.core.frame.DataFrame'>\n",
      "RangeIndex: 100 entries, 0 to 99\n",
      "Data columns (total 6 columns):\n",
      " #   Column     Non-Null Count  Dtype  \n",
      "---  ------     --------------  -----  \n",
      " 0   age        100 non-null    int64  \n",
      " 1   gender     100 non-null    object \n",
      " 2   fever      90 non-null     float64\n",
      " 3   cough      100 non-null    object \n",
      " 4   city       100 non-null    object \n",
      " 5   has_covid  100 non-null    object \n",
      "dtypes: float64(1), int64(1), object(4)\n",
      "memory usage: 4.8+ KB\n"
     ]
    }
   ],
   "source": [
    "df.info()"
   ]
  },
  {
   "cell_type": "code",
   "execution_count": 7,
   "metadata": {},
   "outputs": [
    {
     "data": {
      "application/vnd.microsoft.datawrangler.viewer.v0+json": {
       "columns": [
        {
         "name": "index",
         "rawType": "object",
         "type": "string"
        },
        {
         "name": "age",
         "rawType": "float64",
         "type": "float"
        },
        {
         "name": "fever",
         "rawType": "float64",
         "type": "float"
        }
       ],
       "ref": "5c18583f-5f19-46b2-86c2-f113ce95747c",
       "rows": [
        [
         "count",
         "100.0",
         "90.0"
        ],
        [
         "mean",
         "44.22",
         "100.84444444444445"
        ],
        [
         "std",
         "24.878931088799053",
         "2.0549261782367014"
        ],
        [
         "min",
         "5.0",
         "98.0"
        ],
        [
         "25%",
         "20.0",
         "99.0"
        ],
        [
         "50%",
         "45.0",
         "101.0"
        ],
        [
         "75%",
         "66.5",
         "102.75"
        ],
        [
         "max",
         "84.0",
         "104.0"
        ]
       ],
       "shape": {
        "columns": 2,
        "rows": 8
       }
      },
      "text/html": [
       "<div>\n",
       "<style scoped>\n",
       "    .dataframe tbody tr th:only-of-type {\n",
       "        vertical-align: middle;\n",
       "    }\n",
       "\n",
       "    .dataframe tbody tr th {\n",
       "        vertical-align: top;\n",
       "    }\n",
       "\n",
       "    .dataframe thead th {\n",
       "        text-align: right;\n",
       "    }\n",
       "</style>\n",
       "<table border=\"1\" class=\"dataframe\">\n",
       "  <thead>\n",
       "    <tr style=\"text-align: right;\">\n",
       "      <th></th>\n",
       "      <th>age</th>\n",
       "      <th>fever</th>\n",
       "    </tr>\n",
       "  </thead>\n",
       "  <tbody>\n",
       "    <tr>\n",
       "      <th>count</th>\n",
       "      <td>100.000000</td>\n",
       "      <td>90.000000</td>\n",
       "    </tr>\n",
       "    <tr>\n",
       "      <th>mean</th>\n",
       "      <td>44.220000</td>\n",
       "      <td>100.844444</td>\n",
       "    </tr>\n",
       "    <tr>\n",
       "      <th>std</th>\n",
       "      <td>24.878931</td>\n",
       "      <td>2.054926</td>\n",
       "    </tr>\n",
       "    <tr>\n",
       "      <th>min</th>\n",
       "      <td>5.000000</td>\n",
       "      <td>98.000000</td>\n",
       "    </tr>\n",
       "    <tr>\n",
       "      <th>25%</th>\n",
       "      <td>20.000000</td>\n",
       "      <td>99.000000</td>\n",
       "    </tr>\n",
       "    <tr>\n",
       "      <th>50%</th>\n",
       "      <td>45.000000</td>\n",
       "      <td>101.000000</td>\n",
       "    </tr>\n",
       "    <tr>\n",
       "      <th>75%</th>\n",
       "      <td>66.500000</td>\n",
       "      <td>102.750000</td>\n",
       "    </tr>\n",
       "    <tr>\n",
       "      <th>max</th>\n",
       "      <td>84.000000</td>\n",
       "      <td>104.000000</td>\n",
       "    </tr>\n",
       "  </tbody>\n",
       "</table>\n",
       "</div>"
      ],
      "text/plain": [
       "              age       fever\n",
       "count  100.000000   90.000000\n",
       "mean    44.220000  100.844444\n",
       "std     24.878931    2.054926\n",
       "min      5.000000   98.000000\n",
       "25%     20.000000   99.000000\n",
       "50%     45.000000  101.000000\n",
       "75%     66.500000  102.750000\n",
       "max     84.000000  104.000000"
      ]
     },
     "execution_count": 7,
     "metadata": {},
     "output_type": "execute_result"
    }
   ],
   "source": [
    "df.describe()"
   ]
  },
  {
   "cell_type": "code",
   "execution_count": 8,
   "metadata": {},
   "outputs": [
    {
     "data": {
      "application/vnd.microsoft.datawrangler.viewer.v0+json": {
       "columns": [
        {
         "name": "index",
         "rawType": "object",
         "type": "string"
        },
        {
         "name": "0",
         "rawType": "int64",
         "type": "integer"
        }
       ],
       "ref": "0bbb91d6-0e04-4fbd-80de-bf72926f3040",
       "rows": [
        [
         "age",
         "0"
        ],
        [
         "gender",
         "0"
        ],
        [
         "fever",
         "10"
        ],
        [
         "cough",
         "0"
        ],
        [
         "city",
         "0"
        ],
        [
         "has_covid",
         "0"
        ]
       ],
       "shape": {
        "columns": 1,
        "rows": 6
       }
      },
      "text/plain": [
       "age           0\n",
       "gender        0\n",
       "fever        10\n",
       "cough         0\n",
       "city          0\n",
       "has_covid     0\n",
       "dtype: int64"
      ]
     },
     "execution_count": 8,
     "metadata": {},
     "output_type": "execute_result"
    }
   ],
   "source": [
    "df.isnull().sum()"
   ]
  },
  {
   "cell_type": "code",
   "execution_count": 9,
   "metadata": {},
   "outputs": [
    {
     "data": {
      "application/vnd.microsoft.datawrangler.viewer.v0+json": {
       "columns": [
        {
         "name": "index",
         "rawType": "int64",
         "type": "integer"
        },
        {
         "name": "0",
         "rawType": "bool",
         "type": "boolean"
        }
       ],
       "ref": "6922d856-dcaf-43c9-8b8f-4702f54c3bcc",
       "rows": [
        [
         "0",
         "False"
        ],
        [
         "1",
         "False"
        ],
        [
         "2",
         "False"
        ],
        [
         "3",
         "False"
        ],
        [
         "4",
         "False"
        ],
        [
         "5",
         "False"
        ],
        [
         "6",
         "False"
        ],
        [
         "7",
         "False"
        ],
        [
         "8",
         "False"
        ],
        [
         "9",
         "False"
        ],
        [
         "10",
         "False"
        ],
        [
         "11",
         "False"
        ],
        [
         "12",
         "False"
        ],
        [
         "13",
         "False"
        ],
        [
         "14",
         "False"
        ],
        [
         "15",
         "False"
        ],
        [
         "16",
         "False"
        ],
        [
         "17",
         "False"
        ],
        [
         "18",
         "False"
        ],
        [
         "19",
         "False"
        ],
        [
         "20",
         "False"
        ],
        [
         "21",
         "False"
        ],
        [
         "22",
         "False"
        ],
        [
         "23",
         "False"
        ],
        [
         "24",
         "False"
        ],
        [
         "25",
         "False"
        ],
        [
         "26",
         "False"
        ],
        [
         "27",
         "False"
        ],
        [
         "28",
         "False"
        ],
        [
         "29",
         "False"
        ],
        [
         "30",
         "False"
        ],
        [
         "31",
         "False"
        ],
        [
         "32",
         "False"
        ],
        [
         "33",
         "False"
        ],
        [
         "34",
         "False"
        ],
        [
         "35",
         "False"
        ],
        [
         "36",
         "False"
        ],
        [
         "37",
         "False"
        ],
        [
         "38",
         "False"
        ],
        [
         "39",
         "False"
        ],
        [
         "40",
         "False"
        ],
        [
         "41",
         "False"
        ],
        [
         "42",
         "True"
        ],
        [
         "43",
         "False"
        ],
        [
         "44",
         "False"
        ],
        [
         "45",
         "False"
        ],
        [
         "46",
         "False"
        ],
        [
         "47",
         "False"
        ],
        [
         "48",
         "False"
        ],
        [
         "49",
         "False"
        ]
       ],
       "shape": {
        "columns": 1,
        "rows": 100
       }
      },
      "text/plain": [
       "0     False\n",
       "1     False\n",
       "2     False\n",
       "3     False\n",
       "4     False\n",
       "      ...  \n",
       "95    False\n",
       "96    False\n",
       "97    False\n",
       "98    False\n",
       "99    False\n",
       "Length: 100, dtype: bool"
      ]
     },
     "execution_count": 9,
     "metadata": {},
     "output_type": "execute_result"
    }
   ],
   "source": [
    "df.duplicated()"
   ]
  },
  {
   "cell_type": "code",
   "execution_count": 10,
   "id": "3e8a2051",
   "metadata": {},
   "outputs": [],
   "source": [
    "x_train , x_test , y_train , y_test = train_test_split(df.drop(\"has_covid\" , axis = 1 ) , df['has_covid'] , test_size = 0.2 , random_state = 42)"
   ]
  },
  {
   "cell_type": "code",
   "execution_count": 11,
   "metadata": {},
   "outputs": [
    {
     "name": "stdout",
     "output_type": "stream",
     "text": [
      "(80, 5) (80,)\n"
     ]
    }
   ],
   "source": [
    "print(x_train.shape , y_train.shape)"
   ]
  },
  {
   "cell_type": "code",
   "execution_count": 12,
   "metadata": {},
   "outputs": [
    {
     "name": "stdout",
     "output_type": "stream",
     "text": [
      "(20, 5) (20,)\n"
     ]
    }
   ],
   "source": [
    "print(x_test.shape , y_test.shape)"
   ]
  },
  {
   "cell_type": "markdown",
   "id": "b893677f",
   "metadata": {},
   "source": [
    "# aam jindagi "
   ]
  },
  {
   "cell_type": "code",
   "execution_count": 13,
   "metadata": {},
   "outputs": [],
   "source": [
    "si = SimpleImputer()"
   ]
  },
  {
   "cell_type": "code",
   "execution_count": 15,
   "id": "ae2352a3",
   "metadata": {},
   "outputs": [
    {
     "data": {
      "text/plain": [
       "Index(['age', 'gender', 'fever', 'cough', 'city', 'has_covid'], dtype='object')"
      ]
     },
     "execution_count": 15,
     "metadata": {},
     "output_type": "execute_result"
    }
   ],
   "source": [
    "df.columns"
   ]
  },
  {
   "cell_type": "code",
   "execution_count": 23,
   "metadata": {},
   "outputs": [],
   "source": [
    "#simpleimputer -> fever columns \n",
    "\n",
    "x_train_fever = si.fit_transform(x_train[['fever']])\n",
    "x_test_fever = si.fit_transform(x_test[['fever']])"
   ]
  },
  {
   "cell_type": "code",
   "execution_count": 24,
   "metadata": {},
   "outputs": [
    {
     "data": {
      "text/plain": [
       "(80, 1)"
      ]
     },
     "execution_count": 24,
     "metadata": {},
     "output_type": "execute_result"
    }
   ],
   "source": [
    "x_train_fever.shape"
   ]
  },
  {
   "cell_type": "code",
   "execution_count": 20,
   "metadata": {},
   "outputs": [],
   "source": [
    "# ordinal encoding -> cough \n",
    "\n",
    "oe = OrdinalEncoder(categories = [['Mild','Strong']])"
   ]
  },
  {
   "cell_type": "code",
   "execution_count": 25,
   "metadata": {},
   "outputs": [],
   "source": [
    "x_train_cough = oe.fit_transform(x_train[['cough']])\n",
    "x_test_cough = oe.fit_transform(x_test[['cough']])"
   ]
  },
  {
   "cell_type": "code",
   "execution_count": 26,
   "id": "10027768",
   "metadata": {},
   "outputs": [
    {
     "data": {
      "text/plain": [
       "(80, 1)"
      ]
     },
     "execution_count": 26,
     "metadata": {},
     "output_type": "execute_result"
    }
   ],
   "source": [
    "x_train_cough.shape"
   ]
  },
  {
   "cell_type": "code",
   "execution_count": 27,
   "id": "6b5afa51",
   "metadata": {},
   "outputs": [],
   "source": [
    "# one hot encoding -> gender , city \n",
    "\n",
    "ohe = OneHotEncoder(drop = 'first' , sparse_output = False)\n"
   ]
  },
  {
   "cell_type": "code",
   "execution_count": 28,
   "id": "298cd6bd",
   "metadata": {},
   "outputs": [],
   "source": [
    "x_train_gender_city = ohe.fit_transform(x_train[['gender' , 'city']])\n",
    "x_test_gender_city = ohe.fit_transform(x_test[['gender' , 'city']])"
   ]
  },
  {
   "cell_type": "code",
   "execution_count": 29,
   "id": "4d28352a",
   "metadata": {},
   "outputs": [
    {
     "data": {
      "text/plain": [
       "(80, 4)"
      ]
     },
     "execution_count": 29,
     "metadata": {},
     "output_type": "execute_result"
    }
   ],
   "source": [
    "x_train_gender_city.shape"
   ]
  },
  {
   "cell_type": "code",
   "execution_count": 30,
   "id": "3d24a387",
   "metadata": {},
   "outputs": [],
   "source": [
    "# etracting age \n",
    "\n",
    "x_train_age = x_train[['age']].values\n",
    "x_test_age = x_test[['age']].values"
   ]
  },
  {
   "cell_type": "code",
   "execution_count": 31,
   "id": "59eb89fc",
   "metadata": {},
   "outputs": [
    {
     "data": {
      "text/plain": [
       "(80, 1)"
      ]
     },
     "execution_count": 31,
     "metadata": {},
     "output_type": "execute_result"
    }
   ],
   "source": [
    "x_train_age.shape"
   ]
  },
  {
   "cell_type": "code",
   "execution_count": 32,
   "id": "75fb0084",
   "metadata": {},
   "outputs": [],
   "source": [
    "x_train_transformed = np.concatenate((x_train_age , x_train_fever , x_train_gender_city , x_train_cough) , axis = 1)\n",
    "x_test_transformed = np.concatenate((x_test_age , x_test_fever , x_test_gender_city , x_test_cough) , axis = 1)"
   ]
  },
  {
   "cell_type": "code",
   "execution_count": 33,
   "id": "2343a24e",
   "metadata": {},
   "outputs": [
    {
     "data": {
      "text/plain": [
       "(80, 7)"
      ]
     },
     "execution_count": 33,
     "metadata": {},
     "output_type": "execute_result"
    }
   ],
   "source": [
    "x_train_transformed.shape"
   ]
  },
  {
   "cell_type": "code",
   "execution_count": 39,
   "id": "47069da8",
   "metadata": {},
   "outputs": [
    {
     "data": {
      "text/plain": [
       "array([[ 81., 101.,   0.,   0.,   0.,   1.,   0.],\n",
       "       [  5., 100.,   0.,   0.,   1.,   0.,   0.],\n",
       "       [ 19., 100.,   0.,   0.,   1.,   0.,   0.],\n",
       "       [ 27., 100.,   1.,   1.,   0.,   0.,   0.],\n",
       "       [ 73., 103.,   0.,   1.,   0.,   0.,   0.],\n",
       "       [ 70., 103.,   1.,   0.,   1.,   0.,   1.],\n",
       "       [ 49., 102.,   0.,   1.,   0.,   0.,   0.],\n",
       "       [ 51., 101.,   0.,   0.,   1.,   0.,   1.],\n",
       "       [ 64., 101.,   0.,   1.,   0.,   0.,   0.],\n",
       "       [ 83., 101.,   0.,   0.,   1.,   0.,   0.],\n",
       "       [ 65.,  98.,   0.,   0.,   0.,   1.,   0.],\n",
       "       [ 18., 104.,   0.,   0.,   0.,   0.,   0.],\n",
       "       [ 16., 103.,   0.,   0.,   0.,   0.,   0.],\n",
       "       [ 16., 104.,   1.,   0.,   1.,   0.,   0.],\n",
       "       [ 27., 100.,   1.,   0.,   1.,   0.,   0.],\n",
       "       [ 84., 101.,   0.,   0.,   0.,   0.,   0.],\n",
       "       [ 51., 104.,   1.,   0.,   1.,   0.,   0.],\n",
       "       [ 69., 102.,   0.,   0.,   0.,   0.,   0.],\n",
       "       [ 82., 102.,   0.,   0.,   0.,   0.,   1.],\n",
       "       [ 69., 103.,   0.,   0.,   1.,   0.,   0.],\n",
       "       [ 44., 104.,   1.,   0.,   0.,   1.,   0.],\n",
       "       [ 74., 102.,   1.,   0.,   0.,   1.,   0.],\n",
       "       [ 20., 101.,   0.,   0.,   0.,   1.,   1.],\n",
       "       [ 12., 104.,   0.,   0.,   0.,   0.,   0.],\n",
       "       [ 33., 102.,   0.,   1.,   0.,   0.,   1.],\n",
       "       [ 42., 101.,   0.,   0.,   0.,   0.,   1.],\n",
       "       [ 65.,  99.,   1.,   1.,   0.,   0.,   0.],\n",
       "       [ 23., 101.,   1.,   0.,   0.,   1.,   0.],\n",
       "       [ 56., 104.,   0.,   0.,   0.,   0.,   1.],\n",
       "       [ 64., 102.,   1.,   0.,   0.,   0.,   0.],\n",
       "       [ 13., 100.,   0.,   0.,   1.,   0.,   1.],\n",
       "       [ 31.,  98.,   0.,   0.,   1.,   0.,   0.],\n",
       "       [ 40.,  98.,   0.,   1.,   0.,   0.,   1.],\n",
       "       [ 49., 101.,   0.,   1.,   0.,   0.,   0.],\n",
       "       [ 19., 100.,   0.,   0.,   0.,   0.,   1.],\n",
       "       [ 11., 100.,   1.,   0.,   0.,   0.,   0.],\n",
       "       [ 14., 101.,   1.,   0.,   0.,   0.,   1.],\n",
       "       [ 42., 104.,   1.,   0.,   0.,   1.,   0.],\n",
       "       [ 38., 101.,   0.,   0.,   0.,   0.,   0.],\n",
       "       [ 46., 103.,   1.,   0.,   0.,   0.,   1.],\n",
       "       [ 71., 101.,   1.,   0.,   1.,   0.,   1.],\n",
       "       [ 10.,  98.,   0.,   0.,   1.,   0.,   1.],\n",
       "       [ 60.,  99.,   0.,   0.,   0.,   1.,   0.],\n",
       "       [ 22.,  99.,   0.,   0.,   0.,   0.,   0.],\n",
       "       [ 19., 101.,   1.,   1.,   0.,   0.,   0.],\n",
       "       [ 65.,  99.,   1.,   0.,   0.,   0.,   0.],\n",
       "       [ 19., 101.,   0.,   0.,   0.,   1.,   0.],\n",
       "       [ 54., 104.,   0.,   0.,   1.,   0.,   1.],\n",
       "       [ 81.,  98.,   0.,   0.,   0.,   1.,   1.],\n",
       "       [ 20., 101.,   0.,   0.,   0.,   0.,   0.],\n",
       "       [ 48., 103.,   0.,   0.,   1.,   0.,   0.],\n",
       "       [ 82., 101.,   1.,   0.,   1.,   0.,   0.],\n",
       "       [ 23.,  98.,   1.,   0.,   0.,   1.,   1.],\n",
       "       [ 66.,  99.,   1.,   0.,   0.,   0.,   1.],\n",
       "       [  5.,  98.,   0.,   0.,   0.,   1.,   1.],\n",
       "       [ 49.,  99.,   0.,   0.,   0.,   0.,   1.],\n",
       "       [  5., 102.,   1.,   0.,   1.,   0.,   0.],\n",
       "       [ 34., 101.,   0.,   1.,   0.,   0.,   1.],\n",
       "       [ 79., 101.,   1.,   0.,   1.,   0.,   1.],\n",
       "       [  6., 104.,   0.,   0.,   1.,   0.,   0.],\n",
       "       [ 10., 100.,   1.,   0.,   0.,   0.,   0.],\n",
       "       [ 69.,  98.,   0.,   0.,   0.,   1.,   1.],\n",
       "       [ 55., 100.,   1.,   0.,   1.,   0.,   0.],\n",
       "       [ 34., 101.,   0.,   0.,   0.,   1.,   1.],\n",
       "       [ 27., 100.,   1.,   1.,   0.,   0.,   0.],\n",
       "       [ 47., 100.,   0.,   0.,   0.,   0.,   1.],\n",
       "       [ 73.,  98.,   1.,   0.,   0.,   0.,   0.],\n",
       "       [ 42., 101.,   1.,   1.,   0.,   0.,   0.],\n",
       "       [ 80.,  98.,   0.,   1.,   0.,   0.,   0.],\n",
       "       [ 47., 101.,   1.,   0.,   0.,   0.,   1.],\n",
       "       [ 38., 101.,   1.,   1.,   0.,   0.,   0.],\n",
       "       [ 34., 104.,   0.,   1.,   0.,   0.,   1.],\n",
       "       [ 25., 104.,   1.,   0.,   0.,   0.,   0.],\n",
       "       [ 24.,  98.,   1.,   0.,   1.,   0.,   0.],\n",
       "       [ 12.,  98.,   1.,   0.,   0.,   0.,   1.],\n",
       "       [ 24., 102.,   0.,   0.,   0.,   0.,   1.],\n",
       "       [ 75., 104.,   0.,   1.,   0.,   0.,   1.],\n",
       "       [ 51., 104.,   1.,   0.,   0.,   0.,   0.],\n",
       "       [ 82., 102.,   0.,   0.,   1.,   0.,   1.],\n",
       "       [ 11., 100.,   0.,   0.,   1.,   0.,   1.]])"
      ]
     },
     "execution_count": 39,
     "metadata": {},
     "output_type": "execute_result"
    }
   ],
   "source": [
    "x_train_transformed"
   ]
  },
  {
   "cell_type": "markdown",
   "id": "6b303ecf",
   "metadata": {},
   "source": [
    "# mentos jindagi"
   ]
  },
  {
   "cell_type": "code",
   "execution_count": 34,
   "id": "5732aaa7",
   "metadata": {},
   "outputs": [],
   "source": [
    "from sklearn.compose import ColumnTransformer"
   ]
  },
  {
   "cell_type": "code",
   "execution_count": 36,
   "id": "a60fdb79",
   "metadata": {},
   "outputs": [],
   "source": [
    "transformer = ColumnTransformer(transformers=[\n",
    "    ('tnf1',SimpleImputer(),['fever']),\n",
    "    ('tnf2',OrdinalEncoder(categories=[['Mild','Strong']]),['cough']),\n",
    "    ('tnf3',OneHotEncoder(sparse_output=False,drop='first'),['gender','city'])\n",
    "],remainder='passthrough')"
   ]
  },
  {
   "cell_type": "code",
   "execution_count": 37,
   "id": "80f381d7",
   "metadata": {},
   "outputs": [
    {
     "data": {
      "text/plain": [
       "(80, 7)"
      ]
     },
     "execution_count": 37,
     "metadata": {},
     "output_type": "execute_result"
    }
   ],
   "source": [
    "transformer.fit_transform(x_train).shape"
   ]
  },
  {
   "cell_type": "code",
   "execution_count": 38,
   "id": "dc6b10f0",
   "metadata": {},
   "outputs": [
    {
     "data": {
      "text/plain": [
       "(20, 7)"
      ]
     },
     "execution_count": 38,
     "metadata": {},
     "output_type": "execute_result"
    }
   ],
   "source": [
    "transformer.transform(x_test).shape"
   ]
  },
  {
   "cell_type": "code",
   "execution_count": null,
   "id": "40d0976f",
   "metadata": {},
   "outputs": [],
   "source": []
  }
 ],
 "metadata": {
  "kernelspec": {
   "display_name": "Python 3",
   "language": "python",
   "name": "python3"
  },
  "language_info": {
   "codemirror_mode": {
    "name": "ipython",
    "version": 3
   },
   "file_extension": ".py",
   "mimetype": "text/x-python",
   "name": "python",
   "nbconvert_exporter": "python",
   "pygments_lexer": "ipython3",
   "version": "3.12.6"
  }
 },
 "nbformat": 4,
 "nbformat_minor": 5
}

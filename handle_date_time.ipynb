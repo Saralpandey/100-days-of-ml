{
 "cells": [
  {
   "cell_type": "code",
   "execution_count": 1,
   "id": "8ad2a622",
   "metadata": {},
   "outputs": [],
   "source": [
    "import pandas as pd\n",
    "import numpy as np"
   ]
  },
  {
   "cell_type": "code",
   "execution_count": 3,
   "id": "b5897f69",
   "metadata": {},
   "outputs": [],
   "source": [
    "date = pd.read_csv(\"orders (1).csv\")\n",
    "time = pd.read_csv(\"messages.csv\")"
   ]
  },
  {
   "cell_type": "code",
   "execution_count": 4,
   "metadata": {},
   "outputs": [
    {
     "data": {
      "application/vnd.microsoft.datawrangler.viewer.v0+json": {
       "columns": [
        {
         "name": "index",
         "rawType": "int64",
         "type": "integer"
        },
        {
         "name": "date",
         "rawType": "object",
         "type": "string"
        },
        {
         "name": "product_id",
         "rawType": "int64",
         "type": "integer"
        },
        {
         "name": "city_id",
         "rawType": "int64",
         "type": "integer"
        },
        {
         "name": "orders",
         "rawType": "int64",
         "type": "integer"
        }
       ],
       "ref": "9d74acf3-bf13-4aa8-babc-e8ed0db0a562",
       "rows": [
        [
         "0",
         "2019-12-10",
         "5628",
         "25",
         "3"
        ],
        [
         "1",
         "2018-08-15",
         "3646",
         "14",
         "157"
        ],
        [
         "2",
         "2018-10-23",
         "1859",
         "25",
         "1"
        ],
        [
         "3",
         "2019-08-17",
         "7292",
         "25",
         "1"
        ],
        [
         "4",
         "2019-01-06",
         "4344",
         "25",
         "3"
        ]
       ],
       "shape": {
        "columns": 4,
        "rows": 5
       }
      },
      "text/html": [
       "<div>\n",
       "<style scoped>\n",
       "    .dataframe tbody tr th:only-of-type {\n",
       "        vertical-align: middle;\n",
       "    }\n",
       "\n",
       "    .dataframe tbody tr th {\n",
       "        vertical-align: top;\n",
       "    }\n",
       "\n",
       "    .dataframe thead th {\n",
       "        text-align: right;\n",
       "    }\n",
       "</style>\n",
       "<table border=\"1\" class=\"dataframe\">\n",
       "  <thead>\n",
       "    <tr style=\"text-align: right;\">\n",
       "      <th></th>\n",
       "      <th>date</th>\n",
       "      <th>product_id</th>\n",
       "      <th>city_id</th>\n",
       "      <th>orders</th>\n",
       "    </tr>\n",
       "  </thead>\n",
       "  <tbody>\n",
       "    <tr>\n",
       "      <th>0</th>\n",
       "      <td>2019-12-10</td>\n",
       "      <td>5628</td>\n",
       "      <td>25</td>\n",
       "      <td>3</td>\n",
       "    </tr>\n",
       "    <tr>\n",
       "      <th>1</th>\n",
       "      <td>2018-08-15</td>\n",
       "      <td>3646</td>\n",
       "      <td>14</td>\n",
       "      <td>157</td>\n",
       "    </tr>\n",
       "    <tr>\n",
       "      <th>2</th>\n",
       "      <td>2018-10-23</td>\n",
       "      <td>1859</td>\n",
       "      <td>25</td>\n",
       "      <td>1</td>\n",
       "    </tr>\n",
       "    <tr>\n",
       "      <th>3</th>\n",
       "      <td>2019-08-17</td>\n",
       "      <td>7292</td>\n",
       "      <td>25</td>\n",
       "      <td>1</td>\n",
       "    </tr>\n",
       "    <tr>\n",
       "      <th>4</th>\n",
       "      <td>2019-01-06</td>\n",
       "      <td>4344</td>\n",
       "      <td>25</td>\n",
       "      <td>3</td>\n",
       "    </tr>\n",
       "  </tbody>\n",
       "</table>\n",
       "</div>"
      ],
      "text/plain": [
       "         date  product_id  city_id  orders\n",
       "0  2019-12-10        5628       25       3\n",
       "1  2018-08-15        3646       14     157\n",
       "2  2018-10-23        1859       25       1\n",
       "3  2019-08-17        7292       25       1\n",
       "4  2019-01-06        4344       25       3"
      ]
     },
     "execution_count": 4,
     "metadata": {},
     "output_type": "execute_result"
    }
   ],
   "source": [
    "date.head(5)"
   ]
  },
  {
   "cell_type": "code",
   "execution_count": 6,
   "metadata": {},
   "outputs": [
    {
     "data": {
      "application/vnd.microsoft.datawrangler.viewer.v0+json": {
       "columns": [
        {
         "name": "index",
         "rawType": "int64",
         "type": "integer"
        },
        {
         "name": "date",
         "rawType": "object",
         "type": "string"
        },
        {
         "name": "msg",
         "rawType": "object",
         "type": "string"
        }
       ],
       "ref": "e9337039-a8a1-47a8-971e-6f1d69854917",
       "rows": [
        [
         "0",
         "2013-12-15 00:50:00",
         "ищу на сегодня мужика 37"
        ],
        [
         "1",
         "2014-04-29 23:40:00",
         "ПАРЕНЬ БИ ИЩЕТ ДРУГА СЕЙЧАС!! СМС ММС 0955532826"
        ],
        [
         "2",
         "2012-12-30 00:21:00",
         "Днепр.м 43 позн.с д/ж *.о  067.16.34.576"
        ],
        [
         "3",
         "2014-11-28 00:31:00",
         "КИЕВ ИЩУ Д/Ж ДО 45 МНЕ СЕЙЧАС СКУЧНО 093 629 98 14 САША ЗВОН"
        ],
        [
         "4",
         "2013-10-26 23:11:00",
         "Зая я тебя никогда не обижу  люблю тебя!)  Даше"
        ],
        [
         "5",
         "2016-03-08 22:52:00",
         "пар.32прок.дев.на авто по ночн.городу.Днепр.0681705017"
        ]
       ],
       "shape": {
        "columns": 2,
        "rows": 6
       }
      },
      "text/html": [
       "<div>\n",
       "<style scoped>\n",
       "    .dataframe tbody tr th:only-of-type {\n",
       "        vertical-align: middle;\n",
       "    }\n",
       "\n",
       "    .dataframe tbody tr th {\n",
       "        vertical-align: top;\n",
       "    }\n",
       "\n",
       "    .dataframe thead th {\n",
       "        text-align: right;\n",
       "    }\n",
       "</style>\n",
       "<table border=\"1\" class=\"dataframe\">\n",
       "  <thead>\n",
       "    <tr style=\"text-align: right;\">\n",
       "      <th></th>\n",
       "      <th>date</th>\n",
       "      <th>msg</th>\n",
       "    </tr>\n",
       "  </thead>\n",
       "  <tbody>\n",
       "    <tr>\n",
       "      <th>0</th>\n",
       "      <td>2013-12-15 00:50:00</td>\n",
       "      <td>ищу на сегодня мужика 37</td>\n",
       "    </tr>\n",
       "    <tr>\n",
       "      <th>1</th>\n",
       "      <td>2014-04-29 23:40:00</td>\n",
       "      <td>ПАРЕНЬ БИ ИЩЕТ ДРУГА СЕЙЧАС!! СМС ММС 0955532826</td>\n",
       "    </tr>\n",
       "    <tr>\n",
       "      <th>2</th>\n",
       "      <td>2012-12-30 00:21:00</td>\n",
       "      <td>Днепр.м 43 позн.с д/ж *.о  067.16.34.576</td>\n",
       "    </tr>\n",
       "    <tr>\n",
       "      <th>3</th>\n",
       "      <td>2014-11-28 00:31:00</td>\n",
       "      <td>КИЕВ ИЩУ Д/Ж ДО 45 МНЕ СЕЙЧАС СКУЧНО 093 629 9...</td>\n",
       "    </tr>\n",
       "    <tr>\n",
       "      <th>4</th>\n",
       "      <td>2013-10-26 23:11:00</td>\n",
       "      <td>Зая я тебя никогда не обижу  люблю тебя!)  Даше</td>\n",
       "    </tr>\n",
       "    <tr>\n",
       "      <th>5</th>\n",
       "      <td>2016-03-08 22:52:00</td>\n",
       "      <td>пар.32прок.дев.на авто по ночн.городу.Днепр.06...</td>\n",
       "    </tr>\n",
       "  </tbody>\n",
       "</table>\n",
       "</div>"
      ],
      "text/plain": [
       "                  date                                                msg\n",
       "0  2013-12-15 00:50:00                           ищу на сегодня мужика 37\n",
       "1  2014-04-29 23:40:00   ПАРЕНЬ БИ ИЩЕТ ДРУГА СЕЙЧАС!! СМС ММС 0955532826\n",
       "2  2012-12-30 00:21:00           Днепр.м 43 позн.с д/ж *.о  067.16.34.576\n",
       "3  2014-11-28 00:31:00  КИЕВ ИЩУ Д/Ж ДО 45 МНЕ СЕЙЧАС СКУЧНО 093 629 9...\n",
       "4  2013-10-26 23:11:00    Зая я тебя никогда не обижу  люблю тебя!)  Даше\n",
       "5  2016-03-08 22:52:00  пар.32прок.дев.на авто по ночн.городу.Днепр.06..."
      ]
     },
     "execution_count": 6,
     "metadata": {},
     "output_type": "execute_result"
    }
   ],
   "source": [
    "time.head(6)"
   ]
  },
  {
   "cell_type": "code",
   "execution_count": 7,
   "metadata": {},
   "outputs": [
    {
     "name": "stdout",
     "output_type": "stream",
     "text": [
      "<class 'pandas.core.frame.DataFrame'>\n",
      "RangeIndex: 1000 entries, 0 to 999\n",
      "Data columns (total 4 columns):\n",
      " #   Column      Non-Null Count  Dtype \n",
      "---  ------      --------------  ----- \n",
      " 0   date        1000 non-null   object\n",
      " 1   product_id  1000 non-null   int64 \n",
      " 2   city_id     1000 non-null   int64 \n",
      " 3   orders      1000 non-null   int64 \n",
      "dtypes: int64(3), object(1)\n",
      "memory usage: 31.4+ KB\n"
     ]
    }
   ],
   "source": [
    "date.info()"
   ]
  },
  {
   "cell_type": "code",
   "execution_count": 8,
   "metadata": {},
   "outputs": [
    {
     "name": "stdout",
     "output_type": "stream",
     "text": [
      "<class 'pandas.core.frame.DataFrame'>\n",
      "RangeIndex: 1000 entries, 0 to 999\n",
      "Data columns (total 2 columns):\n",
      " #   Column  Non-Null Count  Dtype \n",
      "---  ------  --------------  ----- \n",
      " 0   date    1000 non-null   object\n",
      " 1   msg     1000 non-null   object\n",
      "dtypes: object(2)\n",
      "memory usage: 15.8+ KB\n"
     ]
    }
   ],
   "source": [
    "time.info()"
   ]
  },
  {
   "cell_type": "markdown",
   "id": "3f91facd",
   "metadata": {},
   "source": [
    "# working with Dates"
   ]
  },
  {
   "cell_type": "code",
   "execution_count": 9,
   "metadata": {},
   "outputs": [],
   "source": [
    "date['date'] = pd.to_datetime(date['date'])"
   ]
  },
  {
   "cell_type": "code",
   "execution_count": 10,
   "metadata": {},
   "outputs": [
    {
     "name": "stdout",
     "output_type": "stream",
     "text": [
      "<class 'pandas.core.frame.DataFrame'>\n",
      "RangeIndex: 1000 entries, 0 to 999\n",
      "Data columns (total 4 columns):\n",
      " #   Column      Non-Null Count  Dtype         \n",
      "---  ------      --------------  -----         \n",
      " 0   date        1000 non-null   datetime64[ns]\n",
      " 1   product_id  1000 non-null   int64         \n",
      " 2   city_id     1000 non-null   int64         \n",
      " 3   orders      1000 non-null   int64         \n",
      "dtypes: datetime64[ns](1), int64(3)\n",
      "memory usage: 31.4 KB\n"
     ]
    }
   ],
   "source": [
    "date.info()"
   ]
  },
  {
   "cell_type": "code",
   "execution_count": 11,
   "metadata": {},
   "outputs": [],
   "source": [
    "# extract year \n",
    "\n",
    "date['date_year'] = date['date'].dt.year"
   ]
  },
  {
   "cell_type": "code",
   "execution_count": 12,
   "metadata": {},
   "outputs": [
    {
     "data": {
      "application/vnd.microsoft.datawrangler.viewer.v0+json": {
       "columns": [
        {
         "name": "index",
         "rawType": "int64",
         "type": "integer"
        },
        {
         "name": "date",
         "rawType": "datetime64[ns]",
         "type": "datetime"
        },
        {
         "name": "product_id",
         "rawType": "int64",
         "type": "integer"
        },
        {
         "name": "city_id",
         "rawType": "int64",
         "type": "integer"
        },
        {
         "name": "orders",
         "rawType": "int64",
         "type": "integer"
        },
        {
         "name": "date_year",
         "rawType": "int32",
         "type": "integer"
        }
       ],
       "ref": "450928a4-3085-452f-806d-32104b47721b",
       "rows": [
        [
         "320",
         "2019-04-28 00:00:00",
         "5631",
         "24",
         "1",
         "2019"
        ],
        [
         "410",
         "2019-05-17 00:00:00",
         "6309",
         "29",
         "2",
         "2019"
        ],
        [
         "263",
         "2019-11-03 00:00:00",
         "6694",
         "25",
         "2",
         "2019"
        ],
        [
         "626",
         "2019-12-07 00:00:00",
         "6668",
         "28",
         "1",
         "2019"
        ],
        [
         "922",
         "2019-03-28 00:00:00",
         "1658",
         "16",
         "27",
         "2019"
        ]
       ],
       "shape": {
        "columns": 5,
        "rows": 5
       }
      },
      "text/html": [
       "<div>\n",
       "<style scoped>\n",
       "    .dataframe tbody tr th:only-of-type {\n",
       "        vertical-align: middle;\n",
       "    }\n",
       "\n",
       "    .dataframe tbody tr th {\n",
       "        vertical-align: top;\n",
       "    }\n",
       "\n",
       "    .dataframe thead th {\n",
       "        text-align: right;\n",
       "    }\n",
       "</style>\n",
       "<table border=\"1\" class=\"dataframe\">\n",
       "  <thead>\n",
       "    <tr style=\"text-align: right;\">\n",
       "      <th></th>\n",
       "      <th>date</th>\n",
       "      <th>product_id</th>\n",
       "      <th>city_id</th>\n",
       "      <th>orders</th>\n",
       "      <th>date_year</th>\n",
       "    </tr>\n",
       "  </thead>\n",
       "  <tbody>\n",
       "    <tr>\n",
       "      <th>320</th>\n",
       "      <td>2019-04-28</td>\n",
       "      <td>5631</td>\n",
       "      <td>24</td>\n",
       "      <td>1</td>\n",
       "      <td>2019</td>\n",
       "    </tr>\n",
       "    <tr>\n",
       "      <th>410</th>\n",
       "      <td>2019-05-17</td>\n",
       "      <td>6309</td>\n",
       "      <td>29</td>\n",
       "      <td>2</td>\n",
       "      <td>2019</td>\n",
       "    </tr>\n",
       "    <tr>\n",
       "      <th>263</th>\n",
       "      <td>2019-11-03</td>\n",
       "      <td>6694</td>\n",
       "      <td>25</td>\n",
       "      <td>2</td>\n",
       "      <td>2019</td>\n",
       "    </tr>\n",
       "    <tr>\n",
       "      <th>626</th>\n",
       "      <td>2019-12-07</td>\n",
       "      <td>6668</td>\n",
       "      <td>28</td>\n",
       "      <td>1</td>\n",
       "      <td>2019</td>\n",
       "    </tr>\n",
       "    <tr>\n",
       "      <th>922</th>\n",
       "      <td>2019-03-28</td>\n",
       "      <td>1658</td>\n",
       "      <td>16</td>\n",
       "      <td>27</td>\n",
       "      <td>2019</td>\n",
       "    </tr>\n",
       "  </tbody>\n",
       "</table>\n",
       "</div>"
      ],
      "text/plain": [
       "          date  product_id  city_id  orders  date_year\n",
       "320 2019-04-28        5631       24       1       2019\n",
       "410 2019-05-17        6309       29       2       2019\n",
       "263 2019-11-03        6694       25       2       2019\n",
       "626 2019-12-07        6668       28       1       2019\n",
       "922 2019-03-28        1658       16      27       2019"
      ]
     },
     "execution_count": 12,
     "metadata": {},
     "output_type": "execute_result"
    }
   ],
   "source": [
    "date.sample(5)"
   ]
  },
  {
   "cell_type": "code",
   "execution_count": 13,
   "metadata": {},
   "outputs": [],
   "source": [
    "#extract month \n",
    "\n",
    "date['date_month_no'] = date['date'].dt.month"
   ]
  },
  {
   "cell_type": "code",
   "execution_count": 14,
   "metadata": {},
   "outputs": [],
   "source": [
    "date['date_month_name'] = date['date'].dt.month_name()"
   ]
  },
  {
   "cell_type": "code",
   "execution_count": 15,
   "metadata": {},
   "outputs": [
    {
     "data": {
      "application/vnd.microsoft.datawrangler.viewer.v0+json": {
       "columns": [
        {
         "name": "index",
         "rawType": "int64",
         "type": "integer"
        },
        {
         "name": "date",
         "rawType": "datetime64[ns]",
         "type": "datetime"
        },
        {
         "name": "product_id",
         "rawType": "int64",
         "type": "integer"
        },
        {
         "name": "city_id",
         "rawType": "int64",
         "type": "integer"
        },
        {
         "name": "orders",
         "rawType": "int64",
         "type": "integer"
        },
        {
         "name": "date_year",
         "rawType": "int32",
         "type": "integer"
        },
        {
         "name": "date_month_no",
         "rawType": "int32",
         "type": "integer"
        },
        {
         "name": "date_month_name",
         "rawType": "object",
         "type": "string"
        }
       ],
       "ref": "7bbb39a8-2b6e-4cac-b11b-50d259f2a2a4",
       "rows": [
        [
         "0",
         "2019-12-10 00:00:00",
         "5628",
         "25",
         "3",
         "2019",
         "12",
         "December"
        ],
        [
         "1",
         "2018-08-15 00:00:00",
         "3646",
         "14",
         "157",
         "2018",
         "8",
         "August"
        ],
        [
         "2",
         "2018-10-23 00:00:00",
         "1859",
         "25",
         "1",
         "2018",
         "10",
         "October"
        ],
        [
         "3",
         "2019-08-17 00:00:00",
         "7292",
         "25",
         "1",
         "2019",
         "8",
         "August"
        ],
        [
         "4",
         "2019-01-06 00:00:00",
         "4344",
         "25",
         "3",
         "2019",
         "1",
         "January"
        ]
       ],
       "shape": {
        "columns": 7,
        "rows": 5
       }
      },
      "text/html": [
       "<div>\n",
       "<style scoped>\n",
       "    .dataframe tbody tr th:only-of-type {\n",
       "        vertical-align: middle;\n",
       "    }\n",
       "\n",
       "    .dataframe tbody tr th {\n",
       "        vertical-align: top;\n",
       "    }\n",
       "\n",
       "    .dataframe thead th {\n",
       "        text-align: right;\n",
       "    }\n",
       "</style>\n",
       "<table border=\"1\" class=\"dataframe\">\n",
       "  <thead>\n",
       "    <tr style=\"text-align: right;\">\n",
       "      <th></th>\n",
       "      <th>date</th>\n",
       "      <th>product_id</th>\n",
       "      <th>city_id</th>\n",
       "      <th>orders</th>\n",
       "      <th>date_year</th>\n",
       "      <th>date_month_no</th>\n",
       "      <th>date_month_name</th>\n",
       "    </tr>\n",
       "  </thead>\n",
       "  <tbody>\n",
       "    <tr>\n",
       "      <th>0</th>\n",
       "      <td>2019-12-10</td>\n",
       "      <td>5628</td>\n",
       "      <td>25</td>\n",
       "      <td>3</td>\n",
       "      <td>2019</td>\n",
       "      <td>12</td>\n",
       "      <td>December</td>\n",
       "    </tr>\n",
       "    <tr>\n",
       "      <th>1</th>\n",
       "      <td>2018-08-15</td>\n",
       "      <td>3646</td>\n",
       "      <td>14</td>\n",
       "      <td>157</td>\n",
       "      <td>2018</td>\n",
       "      <td>8</td>\n",
       "      <td>August</td>\n",
       "    </tr>\n",
       "    <tr>\n",
       "      <th>2</th>\n",
       "      <td>2018-10-23</td>\n",
       "      <td>1859</td>\n",
       "      <td>25</td>\n",
       "      <td>1</td>\n",
       "      <td>2018</td>\n",
       "      <td>10</td>\n",
       "      <td>October</td>\n",
       "    </tr>\n",
       "    <tr>\n",
       "      <th>3</th>\n",
       "      <td>2019-08-17</td>\n",
       "      <td>7292</td>\n",
       "      <td>25</td>\n",
       "      <td>1</td>\n",
       "      <td>2019</td>\n",
       "      <td>8</td>\n",
       "      <td>August</td>\n",
       "    </tr>\n",
       "    <tr>\n",
       "      <th>4</th>\n",
       "      <td>2019-01-06</td>\n",
       "      <td>4344</td>\n",
       "      <td>25</td>\n",
       "      <td>3</td>\n",
       "      <td>2019</td>\n",
       "      <td>1</td>\n",
       "      <td>January</td>\n",
       "    </tr>\n",
       "  </tbody>\n",
       "</table>\n",
       "</div>"
      ],
      "text/plain": [
       "        date  product_id  city_id  orders  date_year  date_month_no  \\\n",
       "0 2019-12-10        5628       25       3       2019             12   \n",
       "1 2018-08-15        3646       14     157       2018              8   \n",
       "2 2018-10-23        1859       25       1       2018             10   \n",
       "3 2019-08-17        7292       25       1       2019              8   \n",
       "4 2019-01-06        4344       25       3       2019              1   \n",
       "\n",
       "  date_month_name  \n",
       "0        December  \n",
       "1          August  \n",
       "2         October  \n",
       "3          August  \n",
       "4         January  "
      ]
     },
     "execution_count": 15,
     "metadata": {},
     "output_type": "execute_result"
    }
   ],
   "source": [
    "date.head()"
   ]
  },
  {
   "cell_type": "code",
   "execution_count": 16,
   "metadata": {},
   "outputs": [],
   "source": [
    "# extrcat days \n",
    "\n",
    "date['date_Days'] = date['date'].dt.day"
   ]
  },
  {
   "cell_type": "code",
   "execution_count": 17,
   "metadata": {},
   "outputs": [
    {
     "data": {
      "application/vnd.microsoft.datawrangler.viewer.v0+json": {
       "columns": [
        {
         "name": "index",
         "rawType": "int64",
         "type": "integer"
        },
        {
         "name": "date",
         "rawType": "datetime64[ns]",
         "type": "datetime"
        },
        {
         "name": "product_id",
         "rawType": "int64",
         "type": "integer"
        },
        {
         "name": "city_id",
         "rawType": "int64",
         "type": "integer"
        },
        {
         "name": "orders",
         "rawType": "int64",
         "type": "integer"
        },
        {
         "name": "date_year",
         "rawType": "int32",
         "type": "integer"
        },
        {
         "name": "date_month_no",
         "rawType": "int32",
         "type": "integer"
        },
        {
         "name": "date_month_name",
         "rawType": "object",
         "type": "string"
        },
        {
         "name": "date_Days",
         "rawType": "int32",
         "type": "integer"
        }
       ],
       "ref": "c690ad2c-748e-4bcd-b230-3c12dbcf73e2",
       "rows": [
        [
         "0",
         "2019-12-10 00:00:00",
         "5628",
         "25",
         "3",
         "2019",
         "12",
         "December",
         "10"
        ],
        [
         "1",
         "2018-08-15 00:00:00",
         "3646",
         "14",
         "157",
         "2018",
         "8",
         "August",
         "15"
        ],
        [
         "2",
         "2018-10-23 00:00:00",
         "1859",
         "25",
         "1",
         "2018",
         "10",
         "October",
         "23"
        ],
        [
         "3",
         "2019-08-17 00:00:00",
         "7292",
         "25",
         "1",
         "2019",
         "8",
         "August",
         "17"
        ],
        [
         "4",
         "2019-01-06 00:00:00",
         "4344",
         "25",
         "3",
         "2019",
         "1",
         "January",
         "6"
        ]
       ],
       "shape": {
        "columns": 8,
        "rows": 5
       }
      },
      "text/html": [
       "<div>\n",
       "<style scoped>\n",
       "    .dataframe tbody tr th:only-of-type {\n",
       "        vertical-align: middle;\n",
       "    }\n",
       "\n",
       "    .dataframe tbody tr th {\n",
       "        vertical-align: top;\n",
       "    }\n",
       "\n",
       "    .dataframe thead th {\n",
       "        text-align: right;\n",
       "    }\n",
       "</style>\n",
       "<table border=\"1\" class=\"dataframe\">\n",
       "  <thead>\n",
       "    <tr style=\"text-align: right;\">\n",
       "      <th></th>\n",
       "      <th>date</th>\n",
       "      <th>product_id</th>\n",
       "      <th>city_id</th>\n",
       "      <th>orders</th>\n",
       "      <th>date_year</th>\n",
       "      <th>date_month_no</th>\n",
       "      <th>date_month_name</th>\n",
       "      <th>date_Days</th>\n",
       "    </tr>\n",
       "  </thead>\n",
       "  <tbody>\n",
       "    <tr>\n",
       "      <th>0</th>\n",
       "      <td>2019-12-10</td>\n",
       "      <td>5628</td>\n",
       "      <td>25</td>\n",
       "      <td>3</td>\n",
       "      <td>2019</td>\n",
       "      <td>12</td>\n",
       "      <td>December</td>\n",
       "      <td>10</td>\n",
       "    </tr>\n",
       "    <tr>\n",
       "      <th>1</th>\n",
       "      <td>2018-08-15</td>\n",
       "      <td>3646</td>\n",
       "      <td>14</td>\n",
       "      <td>157</td>\n",
       "      <td>2018</td>\n",
       "      <td>8</td>\n",
       "      <td>August</td>\n",
       "      <td>15</td>\n",
       "    </tr>\n",
       "    <tr>\n",
       "      <th>2</th>\n",
       "      <td>2018-10-23</td>\n",
       "      <td>1859</td>\n",
       "      <td>25</td>\n",
       "      <td>1</td>\n",
       "      <td>2018</td>\n",
       "      <td>10</td>\n",
       "      <td>October</td>\n",
       "      <td>23</td>\n",
       "    </tr>\n",
       "    <tr>\n",
       "      <th>3</th>\n",
       "      <td>2019-08-17</td>\n",
       "      <td>7292</td>\n",
       "      <td>25</td>\n",
       "      <td>1</td>\n",
       "      <td>2019</td>\n",
       "      <td>8</td>\n",
       "      <td>August</td>\n",
       "      <td>17</td>\n",
       "    </tr>\n",
       "    <tr>\n",
       "      <th>4</th>\n",
       "      <td>2019-01-06</td>\n",
       "      <td>4344</td>\n",
       "      <td>25</td>\n",
       "      <td>3</td>\n",
       "      <td>2019</td>\n",
       "      <td>1</td>\n",
       "      <td>January</td>\n",
       "      <td>6</td>\n",
       "    </tr>\n",
       "  </tbody>\n",
       "</table>\n",
       "</div>"
      ],
      "text/plain": [
       "        date  product_id  city_id  orders  date_year  date_month_no  \\\n",
       "0 2019-12-10        5628       25       3       2019             12   \n",
       "1 2018-08-15        3646       14     157       2018              8   \n",
       "2 2018-10-23        1859       25       1       2018             10   \n",
       "3 2019-08-17        7292       25       1       2019              8   \n",
       "4 2019-01-06        4344       25       3       2019              1   \n",
       "\n",
       "  date_month_name  date_Days  \n",
       "0        December         10  \n",
       "1          August         15  \n",
       "2         October         23  \n",
       "3          August         17  \n",
       "4         January          6  "
      ]
     },
     "execution_count": 17,
     "metadata": {},
     "output_type": "execute_result"
    }
   ],
   "source": [
    "date.head()"
   ]
  },
  {
   "cell_type": "code",
   "execution_count": 18,
   "metadata": {},
   "outputs": [],
   "source": [
    "# day of the week \n",
    "\n",
    "date['date_dow'] = date['date'].dt.dayofweek"
   ]
  },
  {
   "cell_type": "code",
   "execution_count": 19,
   "metadata": {},
   "outputs": [
    {
     "data": {
      "application/vnd.microsoft.datawrangler.viewer.v0+json": {
       "columns": [
        {
         "name": "index",
         "rawType": "int64",
         "type": "integer"
        },
        {
         "name": "date",
         "rawType": "datetime64[ns]",
         "type": "datetime"
        },
        {
         "name": "product_id",
         "rawType": "int64",
         "type": "integer"
        },
        {
         "name": "city_id",
         "rawType": "int64",
         "type": "integer"
        },
        {
         "name": "orders",
         "rawType": "int64",
         "type": "integer"
        },
        {
         "name": "date_year",
         "rawType": "int32",
         "type": "integer"
        },
        {
         "name": "date_month_no",
         "rawType": "int32",
         "type": "integer"
        },
        {
         "name": "date_month_name",
         "rawType": "object",
         "type": "string"
        },
        {
         "name": "date_Days",
         "rawType": "int32",
         "type": "integer"
        },
        {
         "name": "date_dow",
         "rawType": "int32",
         "type": "integer"
        }
       ],
       "ref": "c9047c57-29ac-46c8-ac58-03189ee732bf",
       "rows": [
        [
         "0",
         "2019-12-10 00:00:00",
         "5628",
         "25",
         "3",
         "2019",
         "12",
         "December",
         "10",
         "1"
        ],
        [
         "1",
         "2018-08-15 00:00:00",
         "3646",
         "14",
         "157",
         "2018",
         "8",
         "August",
         "15",
         "2"
        ],
        [
         "2",
         "2018-10-23 00:00:00",
         "1859",
         "25",
         "1",
         "2018",
         "10",
         "October",
         "23",
         "1"
        ],
        [
         "3",
         "2019-08-17 00:00:00",
         "7292",
         "25",
         "1",
         "2019",
         "8",
         "August",
         "17",
         "5"
        ],
        [
         "4",
         "2019-01-06 00:00:00",
         "4344",
         "25",
         "3",
         "2019",
         "1",
         "January",
         "6",
         "6"
        ]
       ],
       "shape": {
        "columns": 9,
        "rows": 5
       }
      },
      "text/html": [
       "<div>\n",
       "<style scoped>\n",
       "    .dataframe tbody tr th:only-of-type {\n",
       "        vertical-align: middle;\n",
       "    }\n",
       "\n",
       "    .dataframe tbody tr th {\n",
       "        vertical-align: top;\n",
       "    }\n",
       "\n",
       "    .dataframe thead th {\n",
       "        text-align: right;\n",
       "    }\n",
       "</style>\n",
       "<table border=\"1\" class=\"dataframe\">\n",
       "  <thead>\n",
       "    <tr style=\"text-align: right;\">\n",
       "      <th></th>\n",
       "      <th>date</th>\n",
       "      <th>product_id</th>\n",
       "      <th>city_id</th>\n",
       "      <th>orders</th>\n",
       "      <th>date_year</th>\n",
       "      <th>date_month_no</th>\n",
       "      <th>date_month_name</th>\n",
       "      <th>date_Days</th>\n",
       "      <th>date_dow</th>\n",
       "    </tr>\n",
       "  </thead>\n",
       "  <tbody>\n",
       "    <tr>\n",
       "      <th>0</th>\n",
       "      <td>2019-12-10</td>\n",
       "      <td>5628</td>\n",
       "      <td>25</td>\n",
       "      <td>3</td>\n",
       "      <td>2019</td>\n",
       "      <td>12</td>\n",
       "      <td>December</td>\n",
       "      <td>10</td>\n",
       "      <td>1</td>\n",
       "    </tr>\n",
       "    <tr>\n",
       "      <th>1</th>\n",
       "      <td>2018-08-15</td>\n",
       "      <td>3646</td>\n",
       "      <td>14</td>\n",
       "      <td>157</td>\n",
       "      <td>2018</td>\n",
       "      <td>8</td>\n",
       "      <td>August</td>\n",
       "      <td>15</td>\n",
       "      <td>2</td>\n",
       "    </tr>\n",
       "    <tr>\n",
       "      <th>2</th>\n",
       "      <td>2018-10-23</td>\n",
       "      <td>1859</td>\n",
       "      <td>25</td>\n",
       "      <td>1</td>\n",
       "      <td>2018</td>\n",
       "      <td>10</td>\n",
       "      <td>October</td>\n",
       "      <td>23</td>\n",
       "      <td>1</td>\n",
       "    </tr>\n",
       "    <tr>\n",
       "      <th>3</th>\n",
       "      <td>2019-08-17</td>\n",
       "      <td>7292</td>\n",
       "      <td>25</td>\n",
       "      <td>1</td>\n",
       "      <td>2019</td>\n",
       "      <td>8</td>\n",
       "      <td>August</td>\n",
       "      <td>17</td>\n",
       "      <td>5</td>\n",
       "    </tr>\n",
       "    <tr>\n",
       "      <th>4</th>\n",
       "      <td>2019-01-06</td>\n",
       "      <td>4344</td>\n",
       "      <td>25</td>\n",
       "      <td>3</td>\n",
       "      <td>2019</td>\n",
       "      <td>1</td>\n",
       "      <td>January</td>\n",
       "      <td>6</td>\n",
       "      <td>6</td>\n",
       "    </tr>\n",
       "  </tbody>\n",
       "</table>\n",
       "</div>"
      ],
      "text/plain": [
       "        date  product_id  city_id  orders  date_year  date_month_no  \\\n",
       "0 2019-12-10        5628       25       3       2019             12   \n",
       "1 2018-08-15        3646       14     157       2018              8   \n",
       "2 2018-10-23        1859       25       1       2018             10   \n",
       "3 2019-08-17        7292       25       1       2019              8   \n",
       "4 2019-01-06        4344       25       3       2019              1   \n",
       "\n",
       "  date_month_name  date_Days  date_dow  \n",
       "0        December         10         1  \n",
       "1          August         15         2  \n",
       "2         October         23         1  \n",
       "3          August         17         5  \n",
       "4         January          6         6  "
      ]
     },
     "execution_count": 19,
     "metadata": {},
     "output_type": "execute_result"
    }
   ],
   "source": [
    "date.head()"
   ]
  },
  {
   "cell_type": "code",
   "execution_count": 20,
   "metadata": {},
   "outputs": [],
   "source": [
    "#day of week - name \n",
    "\n",
    "date['date_dow_name'] = date['date'].dt.day_name()"
   ]
  },
  {
   "cell_type": "code",
   "execution_count": 21,
   "metadata": {},
   "outputs": [
    {
     "data": {
      "application/vnd.microsoft.datawrangler.viewer.v0+json": {
       "columns": [
        {
         "name": "index",
         "rawType": "int64",
         "type": "integer"
        },
        {
         "name": "date",
         "rawType": "datetime64[ns]",
         "type": "datetime"
        },
        {
         "name": "date_year",
         "rawType": "int32",
         "type": "integer"
        },
        {
         "name": "date_month_no",
         "rawType": "int32",
         "type": "integer"
        },
        {
         "name": "date_month_name",
         "rawType": "object",
         "type": "string"
        },
        {
         "name": "date_Days",
         "rawType": "int32",
         "type": "integer"
        },
        {
         "name": "date_dow",
         "rawType": "int32",
         "type": "integer"
        },
        {
         "name": "date_dow_name",
         "rawType": "object",
         "type": "string"
        }
       ],
       "ref": "92d6fbce-bd8f-44c7-8a2c-2877ebd57874",
       "rows": [
        [
         "0",
         "2019-12-10 00:00:00",
         "2019",
         "12",
         "December",
         "10",
         "1",
         "Tuesday"
        ],
        [
         "1",
         "2018-08-15 00:00:00",
         "2018",
         "8",
         "August",
         "15",
         "2",
         "Wednesday"
        ],
        [
         "2",
         "2018-10-23 00:00:00",
         "2018",
         "10",
         "October",
         "23",
         "1",
         "Tuesday"
        ],
        [
         "3",
         "2019-08-17 00:00:00",
         "2019",
         "8",
         "August",
         "17",
         "5",
         "Saturday"
        ],
        [
         "4",
         "2019-01-06 00:00:00",
         "2019",
         "1",
         "January",
         "6",
         "6",
         "Sunday"
        ]
       ],
       "shape": {
        "columns": 7,
        "rows": 5
       }
      },
      "text/html": [
       "<div>\n",
       "<style scoped>\n",
       "    .dataframe tbody tr th:only-of-type {\n",
       "        vertical-align: middle;\n",
       "    }\n",
       "\n",
       "    .dataframe tbody tr th {\n",
       "        vertical-align: top;\n",
       "    }\n",
       "\n",
       "    .dataframe thead th {\n",
       "        text-align: right;\n",
       "    }\n",
       "</style>\n",
       "<table border=\"1\" class=\"dataframe\">\n",
       "  <thead>\n",
       "    <tr style=\"text-align: right;\">\n",
       "      <th></th>\n",
       "      <th>date</th>\n",
       "      <th>date_year</th>\n",
       "      <th>date_month_no</th>\n",
       "      <th>date_month_name</th>\n",
       "      <th>date_Days</th>\n",
       "      <th>date_dow</th>\n",
       "      <th>date_dow_name</th>\n",
       "    </tr>\n",
       "  </thead>\n",
       "  <tbody>\n",
       "    <tr>\n",
       "      <th>0</th>\n",
       "      <td>2019-12-10</td>\n",
       "      <td>2019</td>\n",
       "      <td>12</td>\n",
       "      <td>December</td>\n",
       "      <td>10</td>\n",
       "      <td>1</td>\n",
       "      <td>Tuesday</td>\n",
       "    </tr>\n",
       "    <tr>\n",
       "      <th>1</th>\n",
       "      <td>2018-08-15</td>\n",
       "      <td>2018</td>\n",
       "      <td>8</td>\n",
       "      <td>August</td>\n",
       "      <td>15</td>\n",
       "      <td>2</td>\n",
       "      <td>Wednesday</td>\n",
       "    </tr>\n",
       "    <tr>\n",
       "      <th>2</th>\n",
       "      <td>2018-10-23</td>\n",
       "      <td>2018</td>\n",
       "      <td>10</td>\n",
       "      <td>October</td>\n",
       "      <td>23</td>\n",
       "      <td>1</td>\n",
       "      <td>Tuesday</td>\n",
       "    </tr>\n",
       "    <tr>\n",
       "      <th>3</th>\n",
       "      <td>2019-08-17</td>\n",
       "      <td>2019</td>\n",
       "      <td>8</td>\n",
       "      <td>August</td>\n",
       "      <td>17</td>\n",
       "      <td>5</td>\n",
       "      <td>Saturday</td>\n",
       "    </tr>\n",
       "    <tr>\n",
       "      <th>4</th>\n",
       "      <td>2019-01-06</td>\n",
       "      <td>2019</td>\n",
       "      <td>1</td>\n",
       "      <td>January</td>\n",
       "      <td>6</td>\n",
       "      <td>6</td>\n",
       "      <td>Sunday</td>\n",
       "    </tr>\n",
       "  </tbody>\n",
       "</table>\n",
       "</div>"
      ],
      "text/plain": [
       "        date  date_year  date_month_no date_month_name  date_Days  date_dow  \\\n",
       "0 2019-12-10       2019             12        December         10         1   \n",
       "1 2018-08-15       2018              8          August         15         2   \n",
       "2 2018-10-23       2018             10         October         23         1   \n",
       "3 2019-08-17       2019              8          August         17         5   \n",
       "4 2019-01-06       2019              1         January          6         6   \n",
       "\n",
       "  date_dow_name  \n",
       "0       Tuesday  \n",
       "1     Wednesday  \n",
       "2       Tuesday  \n",
       "3      Saturday  \n",
       "4        Sunday  "
      ]
     },
     "execution_count": 21,
     "metadata": {},
     "output_type": "execute_result"
    }
   ],
   "source": [
    "date.drop(columns = ['product_id' , 'city_id' , 'orders']).head()"
   ]
  },
  {
   "cell_type": "code",
   "execution_count": 29,
   "metadata": {},
   "outputs": [
    {
     "data": {
      "application/vnd.microsoft.datawrangler.viewer.v0+json": {
       "columns": [
        {
         "name": "index",
         "rawType": "int64",
         "type": "integer"
        },
        {
         "name": "date",
         "rawType": "datetime64[ns]",
         "type": "datetime"
        },
        {
         "name": "date_year",
         "rawType": "int32",
         "type": "integer"
        },
        {
         "name": "date_month_no",
         "rawType": "int32",
         "type": "integer"
        },
        {
         "name": "date_month_name",
         "rawType": "object",
         "type": "string"
        },
        {
         "name": "date_Days",
         "rawType": "int32",
         "type": "integer"
        },
        {
         "name": "date_dow",
         "rawType": "int32",
         "type": "integer"
        },
        {
         "name": "date_dow_name",
         "rawType": "object",
         "type": "string"
        },
        {
         "name": "date_is_weekend",
         "rawType": "int64",
         "type": "integer"
        },
        {
         "name": "date_week",
         "rawType": "UInt32",
         "type": "integer"
        }
       ],
       "ref": "e9e024c5-7385-4efa-bfec-d8c66c3e1fc0",
       "rows": [
        [
         "0",
         "2019-12-10 00:00:00",
         "2019",
         "12",
         "December",
         "10",
         "1",
         "Tuesday",
         "0",
         "50"
        ],
        [
         "1",
         "2018-08-15 00:00:00",
         "2018",
         "8",
         "August",
         "15",
         "2",
         "Wednesday",
         "0",
         "33"
        ],
        [
         "2",
         "2018-10-23 00:00:00",
         "2018",
         "10",
         "October",
         "23",
         "1",
         "Tuesday",
         "0",
         "43"
        ],
        [
         "3",
         "2019-08-17 00:00:00",
         "2019",
         "8",
         "August",
         "17",
         "5",
         "Saturday",
         "1",
         "33"
        ],
        [
         "4",
         "2019-01-06 00:00:00",
         "2019",
         "1",
         "January",
         "6",
         "6",
         "Sunday",
         "1",
         "1"
        ]
       ],
       "shape": {
        "columns": 9,
        "rows": 5
       }
      },
      "text/html": [
       "<div>\n",
       "<style scoped>\n",
       "    .dataframe tbody tr th:only-of-type {\n",
       "        vertical-align: middle;\n",
       "    }\n",
       "\n",
       "    .dataframe tbody tr th {\n",
       "        vertical-align: top;\n",
       "    }\n",
       "\n",
       "    .dataframe thead th {\n",
       "        text-align: right;\n",
       "    }\n",
       "</style>\n",
       "<table border=\"1\" class=\"dataframe\">\n",
       "  <thead>\n",
       "    <tr style=\"text-align: right;\">\n",
       "      <th></th>\n",
       "      <th>date</th>\n",
       "      <th>date_year</th>\n",
       "      <th>date_month_no</th>\n",
       "      <th>date_month_name</th>\n",
       "      <th>date_Days</th>\n",
       "      <th>date_dow</th>\n",
       "      <th>date_dow_name</th>\n",
       "      <th>date_is_weekend</th>\n",
       "      <th>date_week</th>\n",
       "    </tr>\n",
       "  </thead>\n",
       "  <tbody>\n",
       "    <tr>\n",
       "      <th>0</th>\n",
       "      <td>2019-12-10</td>\n",
       "      <td>2019</td>\n",
       "      <td>12</td>\n",
       "      <td>December</td>\n",
       "      <td>10</td>\n",
       "      <td>1</td>\n",
       "      <td>Tuesday</td>\n",
       "      <td>0</td>\n",
       "      <td>50</td>\n",
       "    </tr>\n",
       "    <tr>\n",
       "      <th>1</th>\n",
       "      <td>2018-08-15</td>\n",
       "      <td>2018</td>\n",
       "      <td>8</td>\n",
       "      <td>August</td>\n",
       "      <td>15</td>\n",
       "      <td>2</td>\n",
       "      <td>Wednesday</td>\n",
       "      <td>0</td>\n",
       "      <td>33</td>\n",
       "    </tr>\n",
       "    <tr>\n",
       "      <th>2</th>\n",
       "      <td>2018-10-23</td>\n",
       "      <td>2018</td>\n",
       "      <td>10</td>\n",
       "      <td>October</td>\n",
       "      <td>23</td>\n",
       "      <td>1</td>\n",
       "      <td>Tuesday</td>\n",
       "      <td>0</td>\n",
       "      <td>43</td>\n",
       "    </tr>\n",
       "    <tr>\n",
       "      <th>3</th>\n",
       "      <td>2019-08-17</td>\n",
       "      <td>2019</td>\n",
       "      <td>8</td>\n",
       "      <td>August</td>\n",
       "      <td>17</td>\n",
       "      <td>5</td>\n",
       "      <td>Saturday</td>\n",
       "      <td>1</td>\n",
       "      <td>33</td>\n",
       "    </tr>\n",
       "    <tr>\n",
       "      <th>4</th>\n",
       "      <td>2019-01-06</td>\n",
       "      <td>2019</td>\n",
       "      <td>1</td>\n",
       "      <td>January</td>\n",
       "      <td>6</td>\n",
       "      <td>6</td>\n",
       "      <td>Sunday</td>\n",
       "      <td>1</td>\n",
       "      <td>1</td>\n",
       "    </tr>\n",
       "  </tbody>\n",
       "</table>\n",
       "</div>"
      ],
      "text/plain": [
       "        date  date_year  date_month_no date_month_name  date_Days  date_dow  \\\n",
       "0 2019-12-10       2019             12        December         10         1   \n",
       "1 2018-08-15       2018              8          August         15         2   \n",
       "2 2018-10-23       2018             10         October         23         1   \n",
       "3 2019-08-17       2019              8          August         17         5   \n",
       "4 2019-01-06       2019              1         January          6         6   \n",
       "\n",
       "  date_dow_name  date_is_weekend  date_week  \n",
       "0       Tuesday                0         50  \n",
       "1     Wednesday                0         33  \n",
       "2       Tuesday                0         43  \n",
       "3      Saturday                1         33  \n",
       "4        Sunday                1          1  "
      ]
     },
     "execution_count": 29,
     "metadata": {},
     "output_type": "execute_result"
    }
   ],
   "source": [
    "# is weekend ? \n",
    "\n",
    "date['date_is_weekend'] = np.where(date['date_dow_name'].isin(['Sunday' , 'Saturday']) , 1 , 0)\n",
    "date.drop(columns = ['product_id' , 'city_id' , 'orders']).head()"
   ]
  },
  {
   "cell_type": "code",
   "execution_count": 27,
   "metadata": {},
   "outputs": [],
   "source": [
    "# extract week of the year \n",
    "\n",
    "date['date_week'] = date['date'].dt.isocalendar().week"
   ]
  },
  {
   "cell_type": "code",
   "execution_count": 28,
   "metadata": {},
   "outputs": [
    {
     "data": {
      "application/vnd.microsoft.datawrangler.viewer.v0+json": {
       "columns": [
        {
         "name": "index",
         "rawType": "int64",
         "type": "integer"
        },
        {
         "name": "date",
         "rawType": "datetime64[ns]",
         "type": "datetime"
        },
        {
         "name": "product_id",
         "rawType": "int64",
         "type": "integer"
        },
        {
         "name": "city_id",
         "rawType": "int64",
         "type": "integer"
        },
        {
         "name": "orders",
         "rawType": "int64",
         "type": "integer"
        },
        {
         "name": "date_year",
         "rawType": "int32",
         "type": "integer"
        },
        {
         "name": "date_month_no",
         "rawType": "int32",
         "type": "integer"
        },
        {
         "name": "date_month_name",
         "rawType": "object",
         "type": "string"
        },
        {
         "name": "date_Days",
         "rawType": "int32",
         "type": "integer"
        },
        {
         "name": "date_dow",
         "rawType": "int32",
         "type": "integer"
        },
        {
         "name": "date_dow_name",
         "rawType": "object",
         "type": "string"
        },
        {
         "name": "date_is_weekend",
         "rawType": "int64",
         "type": "integer"
        },
        {
         "name": "date_week",
         "rawType": "UInt32",
         "type": "integer"
        }
       ],
       "ref": "b4745429-7bff-49a5-a4a0-0ecc17924b20",
       "rows": [
        [
         "0",
         "2019-12-10 00:00:00",
         "5628",
         "25",
         "3",
         "2019",
         "12",
         "December",
         "10",
         "1",
         "Tuesday",
         "0",
         "50"
        ],
        [
         "1",
         "2018-08-15 00:00:00",
         "3646",
         "14",
         "157",
         "2018",
         "8",
         "August",
         "15",
         "2",
         "Wednesday",
         "0",
         "33"
        ],
        [
         "2",
         "2018-10-23 00:00:00",
         "1859",
         "25",
         "1",
         "2018",
         "10",
         "October",
         "23",
         "1",
         "Tuesday",
         "0",
         "43"
        ],
        [
         "3",
         "2019-08-17 00:00:00",
         "7292",
         "25",
         "1",
         "2019",
         "8",
         "August",
         "17",
         "5",
         "Saturday",
         "1",
         "33"
        ],
        [
         "4",
         "2019-01-06 00:00:00",
         "4344",
         "25",
         "3",
         "2019",
         "1",
         "January",
         "6",
         "6",
         "Sunday",
         "1",
         "1"
        ]
       ],
       "shape": {
        "columns": 12,
        "rows": 5
       }
      },
      "text/html": [
       "<div>\n",
       "<style scoped>\n",
       "    .dataframe tbody tr th:only-of-type {\n",
       "        vertical-align: middle;\n",
       "    }\n",
       "\n",
       "    .dataframe tbody tr th {\n",
       "        vertical-align: top;\n",
       "    }\n",
       "\n",
       "    .dataframe thead th {\n",
       "        text-align: right;\n",
       "    }\n",
       "</style>\n",
       "<table border=\"1\" class=\"dataframe\">\n",
       "  <thead>\n",
       "    <tr style=\"text-align: right;\">\n",
       "      <th></th>\n",
       "      <th>date</th>\n",
       "      <th>product_id</th>\n",
       "      <th>city_id</th>\n",
       "      <th>orders</th>\n",
       "      <th>date_year</th>\n",
       "      <th>date_month_no</th>\n",
       "      <th>date_month_name</th>\n",
       "      <th>date_Days</th>\n",
       "      <th>date_dow</th>\n",
       "      <th>date_dow_name</th>\n",
       "      <th>date_is_weekend</th>\n",
       "      <th>date_week</th>\n",
       "    </tr>\n",
       "  </thead>\n",
       "  <tbody>\n",
       "    <tr>\n",
       "      <th>0</th>\n",
       "      <td>2019-12-10</td>\n",
       "      <td>5628</td>\n",
       "      <td>25</td>\n",
       "      <td>3</td>\n",
       "      <td>2019</td>\n",
       "      <td>12</td>\n",
       "      <td>December</td>\n",
       "      <td>10</td>\n",
       "      <td>1</td>\n",
       "      <td>Tuesday</td>\n",
       "      <td>0</td>\n",
       "      <td>50</td>\n",
       "    </tr>\n",
       "    <tr>\n",
       "      <th>1</th>\n",
       "      <td>2018-08-15</td>\n",
       "      <td>3646</td>\n",
       "      <td>14</td>\n",
       "      <td>157</td>\n",
       "      <td>2018</td>\n",
       "      <td>8</td>\n",
       "      <td>August</td>\n",
       "      <td>15</td>\n",
       "      <td>2</td>\n",
       "      <td>Wednesday</td>\n",
       "      <td>0</td>\n",
       "      <td>33</td>\n",
       "    </tr>\n",
       "    <tr>\n",
       "      <th>2</th>\n",
       "      <td>2018-10-23</td>\n",
       "      <td>1859</td>\n",
       "      <td>25</td>\n",
       "      <td>1</td>\n",
       "      <td>2018</td>\n",
       "      <td>10</td>\n",
       "      <td>October</td>\n",
       "      <td>23</td>\n",
       "      <td>1</td>\n",
       "      <td>Tuesday</td>\n",
       "      <td>0</td>\n",
       "      <td>43</td>\n",
       "    </tr>\n",
       "    <tr>\n",
       "      <th>3</th>\n",
       "      <td>2019-08-17</td>\n",
       "      <td>7292</td>\n",
       "      <td>25</td>\n",
       "      <td>1</td>\n",
       "      <td>2019</td>\n",
       "      <td>8</td>\n",
       "      <td>August</td>\n",
       "      <td>17</td>\n",
       "      <td>5</td>\n",
       "      <td>Saturday</td>\n",
       "      <td>1</td>\n",
       "      <td>33</td>\n",
       "    </tr>\n",
       "    <tr>\n",
       "      <th>4</th>\n",
       "      <td>2019-01-06</td>\n",
       "      <td>4344</td>\n",
       "      <td>25</td>\n",
       "      <td>3</td>\n",
       "      <td>2019</td>\n",
       "      <td>1</td>\n",
       "      <td>January</td>\n",
       "      <td>6</td>\n",
       "      <td>6</td>\n",
       "      <td>Sunday</td>\n",
       "      <td>1</td>\n",
       "      <td>1</td>\n",
       "    </tr>\n",
       "  </tbody>\n",
       "</table>\n",
       "</div>"
      ],
      "text/plain": [
       "        date  product_id  city_id  orders  date_year  date_month_no  \\\n",
       "0 2019-12-10        5628       25       3       2019             12   \n",
       "1 2018-08-15        3646       14     157       2018              8   \n",
       "2 2018-10-23        1859       25       1       2018             10   \n",
       "3 2019-08-17        7292       25       1       2019              8   \n",
       "4 2019-01-06        4344       25       3       2019              1   \n",
       "\n",
       "  date_month_name  date_Days  date_dow date_dow_name  date_is_weekend  \\\n",
       "0        December         10         1       Tuesday                0   \n",
       "1          August         15         2     Wednesday                0   \n",
       "2         October         23         1       Tuesday                0   \n",
       "3          August         17         5      Saturday                1   \n",
       "4         January          6         6        Sunday                1   \n",
       "\n",
       "   date_week  \n",
       "0         50  \n",
       "1         33  \n",
       "2         43  \n",
       "3         33  \n",
       "4          1  "
      ]
     },
     "execution_count": 28,
     "metadata": {},
     "output_type": "execute_result"
    }
   ],
   "source": [
    "date.head()"
   ]
  },
  {
   "cell_type": "code",
   "execution_count": 30,
   "metadata": {},
   "outputs": [
    {
     "data": {
      "application/vnd.microsoft.datawrangler.viewer.v0+json": {
       "columns": [
        {
         "name": "index",
         "rawType": "int64",
         "type": "integer"
        },
        {
         "name": "date",
         "rawType": "datetime64[ns]",
         "type": "datetime"
        },
        {
         "name": "date_year",
         "rawType": "int32",
         "type": "integer"
        },
        {
         "name": "date_month_no",
         "rawType": "int32",
         "type": "integer"
        },
        {
         "name": "date_month_name",
         "rawType": "object",
         "type": "string"
        },
        {
         "name": "date_Days",
         "rawType": "int32",
         "type": "integer"
        },
        {
         "name": "date_dow",
         "rawType": "int32",
         "type": "integer"
        },
        {
         "name": "date_dow_name",
         "rawType": "object",
         "type": "string"
        },
        {
         "name": "date_is_weekend",
         "rawType": "int64",
         "type": "integer"
        },
        {
         "name": "date_week",
         "rawType": "UInt32",
         "type": "integer"
        }
       ],
       "ref": "83aaeed6-28ed-4ea1-80b8-06796516cb6f",
       "rows": [
        [
         "0",
         "2019-12-10 00:00:00",
         "2019",
         "12",
         "December",
         "10",
         "1",
         "Tuesday",
         "0",
         "50"
        ],
        [
         "1",
         "2018-08-15 00:00:00",
         "2018",
         "8",
         "August",
         "15",
         "2",
         "Wednesday",
         "0",
         "33"
        ],
        [
         "2",
         "2018-10-23 00:00:00",
         "2018",
         "10",
         "October",
         "23",
         "1",
         "Tuesday",
         "0",
         "43"
        ],
        [
         "3",
         "2019-08-17 00:00:00",
         "2019",
         "8",
         "August",
         "17",
         "5",
         "Saturday",
         "1",
         "33"
        ],
        [
         "4",
         "2019-01-06 00:00:00",
         "2019",
         "1",
         "January",
         "6",
         "6",
         "Sunday",
         "1",
         "1"
        ]
       ],
       "shape": {
        "columns": 9,
        "rows": 5
       }
      },
      "text/html": [
       "<div>\n",
       "<style scoped>\n",
       "    .dataframe tbody tr th:only-of-type {\n",
       "        vertical-align: middle;\n",
       "    }\n",
       "\n",
       "    .dataframe tbody tr th {\n",
       "        vertical-align: top;\n",
       "    }\n",
       "\n",
       "    .dataframe thead th {\n",
       "        text-align: right;\n",
       "    }\n",
       "</style>\n",
       "<table border=\"1\" class=\"dataframe\">\n",
       "  <thead>\n",
       "    <tr style=\"text-align: right;\">\n",
       "      <th></th>\n",
       "      <th>date</th>\n",
       "      <th>date_year</th>\n",
       "      <th>date_month_no</th>\n",
       "      <th>date_month_name</th>\n",
       "      <th>date_Days</th>\n",
       "      <th>date_dow</th>\n",
       "      <th>date_dow_name</th>\n",
       "      <th>date_is_weekend</th>\n",
       "      <th>date_week</th>\n",
       "    </tr>\n",
       "  </thead>\n",
       "  <tbody>\n",
       "    <tr>\n",
       "      <th>0</th>\n",
       "      <td>2019-12-10</td>\n",
       "      <td>2019</td>\n",
       "      <td>12</td>\n",
       "      <td>December</td>\n",
       "      <td>10</td>\n",
       "      <td>1</td>\n",
       "      <td>Tuesday</td>\n",
       "      <td>0</td>\n",
       "      <td>50</td>\n",
       "    </tr>\n",
       "    <tr>\n",
       "      <th>1</th>\n",
       "      <td>2018-08-15</td>\n",
       "      <td>2018</td>\n",
       "      <td>8</td>\n",
       "      <td>August</td>\n",
       "      <td>15</td>\n",
       "      <td>2</td>\n",
       "      <td>Wednesday</td>\n",
       "      <td>0</td>\n",
       "      <td>33</td>\n",
       "    </tr>\n",
       "    <tr>\n",
       "      <th>2</th>\n",
       "      <td>2018-10-23</td>\n",
       "      <td>2018</td>\n",
       "      <td>10</td>\n",
       "      <td>October</td>\n",
       "      <td>23</td>\n",
       "      <td>1</td>\n",
       "      <td>Tuesday</td>\n",
       "      <td>0</td>\n",
       "      <td>43</td>\n",
       "    </tr>\n",
       "    <tr>\n",
       "      <th>3</th>\n",
       "      <td>2019-08-17</td>\n",
       "      <td>2019</td>\n",
       "      <td>8</td>\n",
       "      <td>August</td>\n",
       "      <td>17</td>\n",
       "      <td>5</td>\n",
       "      <td>Saturday</td>\n",
       "      <td>1</td>\n",
       "      <td>33</td>\n",
       "    </tr>\n",
       "    <tr>\n",
       "      <th>4</th>\n",
       "      <td>2019-01-06</td>\n",
       "      <td>2019</td>\n",
       "      <td>1</td>\n",
       "      <td>January</td>\n",
       "      <td>6</td>\n",
       "      <td>6</td>\n",
       "      <td>Sunday</td>\n",
       "      <td>1</td>\n",
       "      <td>1</td>\n",
       "    </tr>\n",
       "  </tbody>\n",
       "</table>\n",
       "</div>"
      ],
      "text/plain": [
       "        date  date_year  date_month_no date_month_name  date_Days  date_dow  \\\n",
       "0 2019-12-10       2019             12        December         10         1   \n",
       "1 2018-08-15       2018              8          August         15         2   \n",
       "2 2018-10-23       2018             10         October         23         1   \n",
       "3 2019-08-17       2019              8          August         17         5   \n",
       "4 2019-01-06       2019              1         January          6         6   \n",
       "\n",
       "  date_dow_name  date_is_weekend  date_week  \n",
       "0       Tuesday                0         50  \n",
       "1     Wednesday                0         33  \n",
       "2       Tuesday                0         43  \n",
       "3      Saturday                1         33  \n",
       "4        Sunday                1          1  "
      ]
     },
     "execution_count": 30,
     "metadata": {},
     "output_type": "execute_result"
    }
   ],
   "source": [
    "date.drop(columns = ['product_id' , 'city_id' , 'orders']).head()"
   ]
  },
  {
   "cell_type": "code",
   "execution_count": 31,
   "metadata": {},
   "outputs": [],
   "source": [
    "# extract quarter \n",
    "\n",
    "date['quarter'] = date['date'].dt.quarter"
   ]
  },
  {
   "cell_type": "code",
   "execution_count": 32,
   "metadata": {},
   "outputs": [
    {
     "data": {
      "application/vnd.microsoft.datawrangler.viewer.v0+json": {
       "columns": [
        {
         "name": "index",
         "rawType": "int64",
         "type": "integer"
        },
        {
         "name": "date",
         "rawType": "datetime64[ns]",
         "type": "datetime"
        },
        {
         "name": "date_year",
         "rawType": "int32",
         "type": "integer"
        },
        {
         "name": "date_month_no",
         "rawType": "int32",
         "type": "integer"
        },
        {
         "name": "date_month_name",
         "rawType": "object",
         "type": "string"
        },
        {
         "name": "date_Days",
         "rawType": "int32",
         "type": "integer"
        },
        {
         "name": "date_dow",
         "rawType": "int32",
         "type": "integer"
        },
        {
         "name": "date_dow_name",
         "rawType": "object",
         "type": "string"
        },
        {
         "name": "date_is_weekend",
         "rawType": "int64",
         "type": "integer"
        },
        {
         "name": "date_week",
         "rawType": "UInt32",
         "type": "integer"
        },
        {
         "name": "quarter",
         "rawType": "int32",
         "type": "integer"
        }
       ],
       "ref": "c12e110f-70b1-4dfc-ac3e-c6359d356dbc",
       "rows": [
        [
         "0",
         "2019-12-10 00:00:00",
         "2019",
         "12",
         "December",
         "10",
         "1",
         "Tuesday",
         "0",
         "50",
         "4"
        ],
        [
         "1",
         "2018-08-15 00:00:00",
         "2018",
         "8",
         "August",
         "15",
         "2",
         "Wednesday",
         "0",
         "33",
         "3"
        ],
        [
         "2",
         "2018-10-23 00:00:00",
         "2018",
         "10",
         "October",
         "23",
         "1",
         "Tuesday",
         "0",
         "43",
         "4"
        ],
        [
         "3",
         "2019-08-17 00:00:00",
         "2019",
         "8",
         "August",
         "17",
         "5",
         "Saturday",
         "1",
         "33",
         "3"
        ],
        [
         "4",
         "2019-01-06 00:00:00",
         "2019",
         "1",
         "January",
         "6",
         "6",
         "Sunday",
         "1",
         "1",
         "1"
        ]
       ],
       "shape": {
        "columns": 10,
        "rows": 5
       }
      },
      "text/html": [
       "<div>\n",
       "<style scoped>\n",
       "    .dataframe tbody tr th:only-of-type {\n",
       "        vertical-align: middle;\n",
       "    }\n",
       "\n",
       "    .dataframe tbody tr th {\n",
       "        vertical-align: top;\n",
       "    }\n",
       "\n",
       "    .dataframe thead th {\n",
       "        text-align: right;\n",
       "    }\n",
       "</style>\n",
       "<table border=\"1\" class=\"dataframe\">\n",
       "  <thead>\n",
       "    <tr style=\"text-align: right;\">\n",
       "      <th></th>\n",
       "      <th>date</th>\n",
       "      <th>date_year</th>\n",
       "      <th>date_month_no</th>\n",
       "      <th>date_month_name</th>\n",
       "      <th>date_Days</th>\n",
       "      <th>date_dow</th>\n",
       "      <th>date_dow_name</th>\n",
       "      <th>date_is_weekend</th>\n",
       "      <th>date_week</th>\n",
       "      <th>quarter</th>\n",
       "    </tr>\n",
       "  </thead>\n",
       "  <tbody>\n",
       "    <tr>\n",
       "      <th>0</th>\n",
       "      <td>2019-12-10</td>\n",
       "      <td>2019</td>\n",
       "      <td>12</td>\n",
       "      <td>December</td>\n",
       "      <td>10</td>\n",
       "      <td>1</td>\n",
       "      <td>Tuesday</td>\n",
       "      <td>0</td>\n",
       "      <td>50</td>\n",
       "      <td>4</td>\n",
       "    </tr>\n",
       "    <tr>\n",
       "      <th>1</th>\n",
       "      <td>2018-08-15</td>\n",
       "      <td>2018</td>\n",
       "      <td>8</td>\n",
       "      <td>August</td>\n",
       "      <td>15</td>\n",
       "      <td>2</td>\n",
       "      <td>Wednesday</td>\n",
       "      <td>0</td>\n",
       "      <td>33</td>\n",
       "      <td>3</td>\n",
       "    </tr>\n",
       "    <tr>\n",
       "      <th>2</th>\n",
       "      <td>2018-10-23</td>\n",
       "      <td>2018</td>\n",
       "      <td>10</td>\n",
       "      <td>October</td>\n",
       "      <td>23</td>\n",
       "      <td>1</td>\n",
       "      <td>Tuesday</td>\n",
       "      <td>0</td>\n",
       "      <td>43</td>\n",
       "      <td>4</td>\n",
       "    </tr>\n",
       "    <tr>\n",
       "      <th>3</th>\n",
       "      <td>2019-08-17</td>\n",
       "      <td>2019</td>\n",
       "      <td>8</td>\n",
       "      <td>August</td>\n",
       "      <td>17</td>\n",
       "      <td>5</td>\n",
       "      <td>Saturday</td>\n",
       "      <td>1</td>\n",
       "      <td>33</td>\n",
       "      <td>3</td>\n",
       "    </tr>\n",
       "    <tr>\n",
       "      <th>4</th>\n",
       "      <td>2019-01-06</td>\n",
       "      <td>2019</td>\n",
       "      <td>1</td>\n",
       "      <td>January</td>\n",
       "      <td>6</td>\n",
       "      <td>6</td>\n",
       "      <td>Sunday</td>\n",
       "      <td>1</td>\n",
       "      <td>1</td>\n",
       "      <td>1</td>\n",
       "    </tr>\n",
       "  </tbody>\n",
       "</table>\n",
       "</div>"
      ],
      "text/plain": [
       "        date  date_year  date_month_no date_month_name  date_Days  date_dow  \\\n",
       "0 2019-12-10       2019             12        December         10         1   \n",
       "1 2018-08-15       2018              8          August         15         2   \n",
       "2 2018-10-23       2018             10         October         23         1   \n",
       "3 2019-08-17       2019              8          August         17         5   \n",
       "4 2019-01-06       2019              1         January          6         6   \n",
       "\n",
       "  date_dow_name  date_is_weekend  date_week  quarter  \n",
       "0       Tuesday                0         50        4  \n",
       "1     Wednesday                0         33        3  \n",
       "2       Tuesday                0         43        4  \n",
       "3      Saturday                1         33        3  \n",
       "4        Sunday                1          1        1  "
      ]
     },
     "execution_count": 32,
     "metadata": {},
     "output_type": "execute_result"
    }
   ],
   "source": [
    "date.drop(columns = ['product_id' , 'city_id' , 'orders']).head()"
   ]
  },
  {
   "cell_type": "code",
   "execution_count": 33,
   "id": "afd0a3bd",
   "metadata": {},
   "outputs": [],
   "source": [
    "# extract semester \n",
    "\n",
    "date['semester'] = np.where(date['quarter'].isin([1 , 2]) , 1 ,2)"
   ]
  },
  {
   "cell_type": "code",
   "execution_count": 34,
   "metadata": {},
   "outputs": [
    {
     "data": {
      "application/vnd.microsoft.datawrangler.viewer.v0+json": {
       "columns": [
        {
         "name": "index",
         "rawType": "int64",
         "type": "integer"
        },
        {
         "name": "date",
         "rawType": "datetime64[ns]",
         "type": "datetime"
        },
        {
         "name": "date_year",
         "rawType": "int32",
         "type": "integer"
        },
        {
         "name": "date_month_no",
         "rawType": "int32",
         "type": "integer"
        },
        {
         "name": "date_month_name",
         "rawType": "object",
         "type": "string"
        },
        {
         "name": "date_Days",
         "rawType": "int32",
         "type": "integer"
        },
        {
         "name": "date_dow",
         "rawType": "int32",
         "type": "integer"
        },
        {
         "name": "date_dow_name",
         "rawType": "object",
         "type": "string"
        },
        {
         "name": "date_is_weekend",
         "rawType": "int64",
         "type": "integer"
        },
        {
         "name": "date_week",
         "rawType": "UInt32",
         "type": "integer"
        },
        {
         "name": "quarter",
         "rawType": "int32",
         "type": "integer"
        },
        {
         "name": "semester",
         "rawType": "int64",
         "type": "integer"
        }
       ],
       "ref": "1fa75c20-a838-4143-9adc-3210cc4f7e75",
       "rows": [
        [
         "0",
         "2019-12-10 00:00:00",
         "2019",
         "12",
         "December",
         "10",
         "1",
         "Tuesday",
         "0",
         "50",
         "4",
         "2"
        ],
        [
         "1",
         "2018-08-15 00:00:00",
         "2018",
         "8",
         "August",
         "15",
         "2",
         "Wednesday",
         "0",
         "33",
         "3",
         "2"
        ],
        [
         "2",
         "2018-10-23 00:00:00",
         "2018",
         "10",
         "October",
         "23",
         "1",
         "Tuesday",
         "0",
         "43",
         "4",
         "2"
        ],
        [
         "3",
         "2019-08-17 00:00:00",
         "2019",
         "8",
         "August",
         "17",
         "5",
         "Saturday",
         "1",
         "33",
         "3",
         "2"
        ],
        [
         "4",
         "2019-01-06 00:00:00",
         "2019",
         "1",
         "January",
         "6",
         "6",
         "Sunday",
         "1",
         "1",
         "1",
         "1"
        ]
       ],
       "shape": {
        "columns": 11,
        "rows": 5
       }
      },
      "text/html": [
       "<div>\n",
       "<style scoped>\n",
       "    .dataframe tbody tr th:only-of-type {\n",
       "        vertical-align: middle;\n",
       "    }\n",
       "\n",
       "    .dataframe tbody tr th {\n",
       "        vertical-align: top;\n",
       "    }\n",
       "\n",
       "    .dataframe thead th {\n",
       "        text-align: right;\n",
       "    }\n",
       "</style>\n",
       "<table border=\"1\" class=\"dataframe\">\n",
       "  <thead>\n",
       "    <tr style=\"text-align: right;\">\n",
       "      <th></th>\n",
       "      <th>date</th>\n",
       "      <th>date_year</th>\n",
       "      <th>date_month_no</th>\n",
       "      <th>date_month_name</th>\n",
       "      <th>date_Days</th>\n",
       "      <th>date_dow</th>\n",
       "      <th>date_dow_name</th>\n",
       "      <th>date_is_weekend</th>\n",
       "      <th>date_week</th>\n",
       "      <th>quarter</th>\n",
       "      <th>semester</th>\n",
       "    </tr>\n",
       "  </thead>\n",
       "  <tbody>\n",
       "    <tr>\n",
       "      <th>0</th>\n",
       "      <td>2019-12-10</td>\n",
       "      <td>2019</td>\n",
       "      <td>12</td>\n",
       "      <td>December</td>\n",
       "      <td>10</td>\n",
       "      <td>1</td>\n",
       "      <td>Tuesday</td>\n",
       "      <td>0</td>\n",
       "      <td>50</td>\n",
       "      <td>4</td>\n",
       "      <td>2</td>\n",
       "    </tr>\n",
       "    <tr>\n",
       "      <th>1</th>\n",
       "      <td>2018-08-15</td>\n",
       "      <td>2018</td>\n",
       "      <td>8</td>\n",
       "      <td>August</td>\n",
       "      <td>15</td>\n",
       "      <td>2</td>\n",
       "      <td>Wednesday</td>\n",
       "      <td>0</td>\n",
       "      <td>33</td>\n",
       "      <td>3</td>\n",
       "      <td>2</td>\n",
       "    </tr>\n",
       "    <tr>\n",
       "      <th>2</th>\n",
       "      <td>2018-10-23</td>\n",
       "      <td>2018</td>\n",
       "      <td>10</td>\n",
       "      <td>October</td>\n",
       "      <td>23</td>\n",
       "      <td>1</td>\n",
       "      <td>Tuesday</td>\n",
       "      <td>0</td>\n",
       "      <td>43</td>\n",
       "      <td>4</td>\n",
       "      <td>2</td>\n",
       "    </tr>\n",
       "    <tr>\n",
       "      <th>3</th>\n",
       "      <td>2019-08-17</td>\n",
       "      <td>2019</td>\n",
       "      <td>8</td>\n",
       "      <td>August</td>\n",
       "      <td>17</td>\n",
       "      <td>5</td>\n",
       "      <td>Saturday</td>\n",
       "      <td>1</td>\n",
       "      <td>33</td>\n",
       "      <td>3</td>\n",
       "      <td>2</td>\n",
       "    </tr>\n",
       "    <tr>\n",
       "      <th>4</th>\n",
       "      <td>2019-01-06</td>\n",
       "      <td>2019</td>\n",
       "      <td>1</td>\n",
       "      <td>January</td>\n",
       "      <td>6</td>\n",
       "      <td>6</td>\n",
       "      <td>Sunday</td>\n",
       "      <td>1</td>\n",
       "      <td>1</td>\n",
       "      <td>1</td>\n",
       "      <td>1</td>\n",
       "    </tr>\n",
       "  </tbody>\n",
       "</table>\n",
       "</div>"
      ],
      "text/plain": [
       "        date  date_year  date_month_no date_month_name  date_Days  date_dow  \\\n",
       "0 2019-12-10       2019             12        December         10         1   \n",
       "1 2018-08-15       2018              8          August         15         2   \n",
       "2 2018-10-23       2018             10         October         23         1   \n",
       "3 2019-08-17       2019              8          August         17         5   \n",
       "4 2019-01-06       2019              1         January          6         6   \n",
       "\n",
       "  date_dow_name  date_is_weekend  date_week  quarter  semester  \n",
       "0       Tuesday                0         50        4         2  \n",
       "1     Wednesday                0         33        3         2  \n",
       "2       Tuesday                0         43        4         2  \n",
       "3      Saturday                1         33        3         2  \n",
       "4        Sunday                1          1        1         1  "
      ]
     },
     "execution_count": 34,
     "metadata": {},
     "output_type": "execute_result"
    }
   ],
   "source": [
    "date.drop(columns = ['product_id' , 'city_id' , 'orders']).head()"
   ]
  },
  {
   "cell_type": "code",
   "execution_count": 35,
   "id": "554cc830",
   "metadata": {},
   "outputs": [
    {
     "data": {
      "text/plain": [
       "datetime.datetime(2025, 7, 12, 14, 34, 20, 501773)"
      ]
     },
     "execution_count": 35,
     "metadata": {},
     "output_type": "execute_result"
    }
   ],
   "source": [
    "# extract  time elapsed between dates \n",
    "\n",
    "import datetime \n",
    "today = datetime.datetime.today()\n",
    "today"
   ]
  },
  {
   "cell_type": "code",
   "execution_count": null,
   "metadata": {},
   "outputs": [
    {
     "data": {
      "application/vnd.microsoft.datawrangler.viewer.v0+json": {
       "columns": [
        {
         "name": "index",
         "rawType": "int64",
         "type": "integer"
        },
        {
         "name": "date",
         "rawType": "timedelta64[ns]",
         "type": "unknown"
        }
       ],
       "ref": "dce49820-a62e-446a-9070-01cca1200567",
       "rows": [
        [
         "0",
         "2041 days 14:34:20.501773"
        ],
        [
         "1",
         "2523 days 14:34:20.501773"
        ],
        [
         "2",
         "2454 days 14:34:20.501773"
        ],
        [
         "3",
         "2156 days 14:34:20.501773"
        ],
        [
         "4",
         "2379 days 14:34:20.501773"
        ],
        [
         "5",
         "2515 days 14:34:20.501773"
        ],
        [
         "6",
         "2425 days 14:34:20.501773"
        ],
        [
         "7",
         "2299 days 14:34:20.501773"
        ],
        [
         "8",
         "2205 days 14:34:20.501773"
        ],
        [
         "9",
         "2508 days 14:34:20.501773"
        ],
        [
         "10",
         "2088 days 14:34:20.501773"
        ],
        [
         "11",
         "2171 days 14:34:20.501773"
        ],
        [
         "12",
         "2311 days 14:34:20.501773"
        ],
        [
         "13",
         "2514 days 14:34:20.501773"
        ],
        [
         "14",
         "2236 days 14:34:20.501773"
        ],
        [
         "15",
         "2340 days 14:34:20.501773"
        ],
        [
         "16",
         "2285 days 14:34:20.501773"
        ],
        [
         "17",
         "2483 days 14:34:20.501773"
        ],
        [
         "18",
         "2222 days 14:34:20.501773"
        ],
        [
         "19",
         "2282 days 14:34:20.501773"
        ],
        [
         "20",
         "2051 days 14:34:20.501773"
        ],
        [
         "21",
         "2519 days 14:34:20.501773"
        ],
        [
         "22",
         "2129 days 14:34:20.501773"
        ],
        [
         "23",
         "2526 days 14:34:20.501773"
        ],
        [
         "24",
         "2180 days 14:34:20.501773"
        ],
        [
         "25",
         "2493 days 14:34:20.501773"
        ],
        [
         "26",
         "2376 days 14:34:20.501773"
        ],
        [
         "27",
         "2361 days 14:34:20.501773"
        ],
        [
         "28",
         "2275 days 14:34:20.501773"
        ],
        [
         "29",
         "2334 days 14:34:20.501773"
        ],
        [
         "30",
         "2180 days 14:34:20.501773"
        ],
        [
         "31",
         "2476 days 14:34:20.501773"
        ],
        [
         "32",
         "2454 days 14:34:20.501773"
        ],
        [
         "33",
         "2193 days 14:34:20.501773"
        ],
        [
         "34",
         "2286 days 14:34:20.501773"
        ],
        [
         "35",
         "2365 days 14:34:20.501773"
        ],
        [
         "36",
         "2556 days 14:34:20.501773"
        ],
        [
         "37",
         "2520 days 14:34:20.501773"
        ],
        [
         "38",
         "2339 days 14:34:20.501773"
        ],
        [
         "39",
         "2253 days 14:34:20.501773"
        ],
        [
         "40",
         "2054 days 14:34:20.501773"
        ],
        [
         "41",
         "2288 days 14:34:20.501773"
        ],
        [
         "42",
         "2444 days 14:34:20.501773"
        ],
        [
         "43",
         "2503 days 14:34:20.501773"
        ],
        [
         "44",
         "2535 days 14:34:20.501773"
        ],
        [
         "45",
         "2203 days 14:34:20.501773"
        ],
        [
         "46",
         "2484 days 14:34:20.501773"
        ],
        [
         "47",
         "2405 days 14:34:20.501773"
        ],
        [
         "48",
         "2040 days 14:34:20.501773"
        ],
        [
         "49",
         "2180 days 14:34:20.501773"
        ]
       ],
       "shape": {
        "columns": 1,
        "rows": 1000
       }
      },
      "text/plain": [
       "0     2041 days 14:34:20.501773\n",
       "1     2523 days 14:34:20.501773\n",
       "2     2454 days 14:34:20.501773\n",
       "3     2156 days 14:34:20.501773\n",
       "4     2379 days 14:34:20.501773\n",
       "                 ...           \n",
       "995   2469 days 14:34:20.501773\n",
       "996   2410 days 14:34:20.501773\n",
       "997   2258 days 14:34:20.501773\n",
       "998   2323 days 14:34:20.501773\n",
       "999   2097 days 14:34:20.501773\n",
       "Name: date, Length: 1000, dtype: timedelta64[ns]"
      ]
     },
     "execution_count": 36,
     "metadata": {},
     "output_type": "execute_result"
    }
   ],
   "source": [
    "today - date['date']"
   ]
  },
  {
   "cell_type": "code",
   "execution_count": 37,
   "metadata": {},
   "outputs": [
    {
     "data": {
      "application/vnd.microsoft.datawrangler.viewer.v0+json": {
       "columns": [
        {
         "name": "index",
         "rawType": "int64",
         "type": "integer"
        },
        {
         "name": "date",
         "rawType": "int64",
         "type": "integer"
        }
       ],
       "ref": "7faebb7d-9447-4791-99d2-9da47310a1ec",
       "rows": [
        [
         "0",
         "2041"
        ],
        [
         "1",
         "2523"
        ],
        [
         "2",
         "2454"
        ],
        [
         "3",
         "2156"
        ],
        [
         "4",
         "2379"
        ],
        [
         "5",
         "2515"
        ],
        [
         "6",
         "2425"
        ],
        [
         "7",
         "2299"
        ],
        [
         "8",
         "2205"
        ],
        [
         "9",
         "2508"
        ],
        [
         "10",
         "2088"
        ],
        [
         "11",
         "2171"
        ],
        [
         "12",
         "2311"
        ],
        [
         "13",
         "2514"
        ],
        [
         "14",
         "2236"
        ],
        [
         "15",
         "2340"
        ],
        [
         "16",
         "2285"
        ],
        [
         "17",
         "2483"
        ],
        [
         "18",
         "2222"
        ],
        [
         "19",
         "2282"
        ],
        [
         "20",
         "2051"
        ],
        [
         "21",
         "2519"
        ],
        [
         "22",
         "2129"
        ],
        [
         "23",
         "2526"
        ],
        [
         "24",
         "2180"
        ],
        [
         "25",
         "2493"
        ],
        [
         "26",
         "2376"
        ],
        [
         "27",
         "2361"
        ],
        [
         "28",
         "2275"
        ],
        [
         "29",
         "2334"
        ],
        [
         "30",
         "2180"
        ],
        [
         "31",
         "2476"
        ],
        [
         "32",
         "2454"
        ],
        [
         "33",
         "2193"
        ],
        [
         "34",
         "2286"
        ],
        [
         "35",
         "2365"
        ],
        [
         "36",
         "2556"
        ],
        [
         "37",
         "2520"
        ],
        [
         "38",
         "2339"
        ],
        [
         "39",
         "2253"
        ],
        [
         "40",
         "2054"
        ],
        [
         "41",
         "2288"
        ],
        [
         "42",
         "2444"
        ],
        [
         "43",
         "2503"
        ],
        [
         "44",
         "2535"
        ],
        [
         "45",
         "2203"
        ],
        [
         "46",
         "2484"
        ],
        [
         "47",
         "2405"
        ],
        [
         "48",
         "2040"
        ],
        [
         "49",
         "2180"
        ]
       ],
       "shape": {
        "columns": 1,
        "rows": 1000
       }
      },
      "text/plain": [
       "0      2041\n",
       "1      2523\n",
       "2      2454\n",
       "3      2156\n",
       "4      2379\n",
       "       ... \n",
       "995    2469\n",
       "996    2410\n",
       "997    2258\n",
       "998    2323\n",
       "999    2097\n",
       "Name: date, Length: 1000, dtype: int64"
      ]
     },
     "execution_count": 37,
     "metadata": {},
     "output_type": "execute_result"
    }
   ],
   "source": [
    "(today - date['date']).dt.days"
   ]
  },
  {
   "cell_type": "code",
   "execution_count": 38,
   "metadata": {},
   "outputs": [
    {
     "ename": "ValueError",
     "evalue": "Unit M is not supported. Only unambiguous timedelta values durations are supported. Allowed units are 'W', 'D', 'h', 'm', 's', 'ms', 'us', 'ns'",
     "output_type": "error",
     "traceback": [
      "\u001b[1;31m---------------------------------------------------------------------------\u001b[0m",
      "\u001b[1;31mValueError\u001b[0m                                Traceback (most recent call last)",
      "Cell \u001b[1;32mIn[38], line 3\u001b[0m\n\u001b[0;32m      1\u001b[0m \u001b[38;5;66;03m# Months passed\u001b[39;00m\n\u001b[1;32m----> 3\u001b[0m np\u001b[38;5;241m.\u001b[39mround(\u001b[43m(\u001b[49m\u001b[43mtoday\u001b[49m\u001b[43m \u001b[49m\u001b[38;5;241;43m-\u001b[39;49m\u001b[43mdate\u001b[49m\u001b[43m[\u001b[49m\u001b[38;5;124;43m'\u001b[39;49m\u001b[38;5;124;43mdate\u001b[39;49m\u001b[38;5;124;43m'\u001b[39;49m\u001b[43m]\u001b[49m\u001b[43m)\u001b[49m\u001b[43m \u001b[49m\u001b[38;5;241;43m/\u001b[39;49m\u001b[43m \u001b[49m\u001b[43mnp\u001b[49m\u001b[38;5;241;43m.\u001b[39;49m\u001b[43mtimedelta64\u001b[49m\u001b[43m(\u001b[49m\u001b[38;5;241;43m1\u001b[39;49m\u001b[43m,\u001b[49m\u001b[43m \u001b[49m\u001b[38;5;124;43m'\u001b[39;49m\u001b[38;5;124;43mM\u001b[39;49m\u001b[38;5;124;43m'\u001b[39;49m\u001b[43m)\u001b[49m,\u001b[38;5;241m0\u001b[39m)\n",
      "File \u001b[1;32md:\\softwerar\\pythonPython312\\Lib\\site-packages\\pandas\\core\\ops\\common.py:76\u001b[0m, in \u001b[0;36m_unpack_zerodim_and_defer.<locals>.new_method\u001b[1;34m(self, other)\u001b[0m\n\u001b[0;32m     72\u001b[0m             \u001b[38;5;28;01mreturn\u001b[39;00m \u001b[38;5;28mNotImplemented\u001b[39m\n\u001b[0;32m     74\u001b[0m other \u001b[38;5;241m=\u001b[39m item_from_zerodim(other)\n\u001b[1;32m---> 76\u001b[0m \u001b[38;5;28;01mreturn\u001b[39;00m \u001b[43mmethod\u001b[49m\u001b[43m(\u001b[49m\u001b[38;5;28;43mself\u001b[39;49m\u001b[43m,\u001b[49m\u001b[43m \u001b[49m\u001b[43mother\u001b[49m\u001b[43m)\u001b[49m\n",
      "File \u001b[1;32md:\\softwerar\\pythonPython312\\Lib\\site-packages\\pandas\\core\\arraylike.py:210\u001b[0m, in \u001b[0;36mOpsMixin.__truediv__\u001b[1;34m(self, other)\u001b[0m\n\u001b[0;32m    208\u001b[0m \u001b[38;5;129m@unpack_zerodim_and_defer\u001b[39m(\u001b[38;5;124m\"\u001b[39m\u001b[38;5;124m__truediv__\u001b[39m\u001b[38;5;124m\"\u001b[39m)\n\u001b[0;32m    209\u001b[0m \u001b[38;5;28;01mdef\u001b[39;00m \u001b[38;5;21m__truediv__\u001b[39m(\u001b[38;5;28mself\u001b[39m, other):\n\u001b[1;32m--> 210\u001b[0m     \u001b[38;5;28;01mreturn\u001b[39;00m \u001b[38;5;28;43mself\u001b[39;49m\u001b[38;5;241;43m.\u001b[39;49m\u001b[43m_arith_method\u001b[49m\u001b[43m(\u001b[49m\u001b[43mother\u001b[49m\u001b[43m,\u001b[49m\u001b[43m \u001b[49m\u001b[43moperator\u001b[49m\u001b[38;5;241;43m.\u001b[39;49m\u001b[43mtruediv\u001b[49m\u001b[43m)\u001b[49m\n",
      "File \u001b[1;32md:\\softwerar\\pythonPython312\\Lib\\site-packages\\pandas\\core\\series.py:6135\u001b[0m, in \u001b[0;36mSeries._arith_method\u001b[1;34m(self, other, op)\u001b[0m\n\u001b[0;32m   6133\u001b[0m \u001b[38;5;28;01mdef\u001b[39;00m \u001b[38;5;21m_arith_method\u001b[39m(\u001b[38;5;28mself\u001b[39m, other, op):\n\u001b[0;32m   6134\u001b[0m     \u001b[38;5;28mself\u001b[39m, other \u001b[38;5;241m=\u001b[39m \u001b[38;5;28mself\u001b[39m\u001b[38;5;241m.\u001b[39m_align_for_op(other)\n\u001b[1;32m-> 6135\u001b[0m     \u001b[38;5;28;01mreturn\u001b[39;00m \u001b[43mbase\u001b[49m\u001b[38;5;241;43m.\u001b[39;49m\u001b[43mIndexOpsMixin\u001b[49m\u001b[38;5;241;43m.\u001b[39;49m\u001b[43m_arith_method\u001b[49m\u001b[43m(\u001b[49m\u001b[38;5;28;43mself\u001b[39;49m\u001b[43m,\u001b[49m\u001b[43m \u001b[49m\u001b[43mother\u001b[49m\u001b[43m,\u001b[49m\u001b[43m \u001b[49m\u001b[43mop\u001b[49m\u001b[43m)\u001b[49m\n",
      "File \u001b[1;32md:\\softwerar\\pythonPython312\\Lib\\site-packages\\pandas\\core\\base.py:1376\u001b[0m, in \u001b[0;36mIndexOpsMixin._arith_method\u001b[1;34m(self, other, op)\u001b[0m\n\u001b[0;32m   1374\u001b[0m lvalues \u001b[38;5;241m=\u001b[39m \u001b[38;5;28mself\u001b[39m\u001b[38;5;241m.\u001b[39m_values\n\u001b[0;32m   1375\u001b[0m rvalues \u001b[38;5;241m=\u001b[39m extract_array(other, extract_numpy\u001b[38;5;241m=\u001b[39m\u001b[38;5;28;01mTrue\u001b[39;00m, extract_range\u001b[38;5;241m=\u001b[39m\u001b[38;5;28;01mTrue\u001b[39;00m)\n\u001b[1;32m-> 1376\u001b[0m rvalues \u001b[38;5;241m=\u001b[39m \u001b[43mops\u001b[49m\u001b[38;5;241;43m.\u001b[39;49m\u001b[43mmaybe_prepare_scalar_for_op\u001b[49m\u001b[43m(\u001b[49m\u001b[43mrvalues\u001b[49m\u001b[43m,\u001b[49m\u001b[43m \u001b[49m\u001b[43mlvalues\u001b[49m\u001b[38;5;241;43m.\u001b[39;49m\u001b[43mshape\u001b[49m\u001b[43m)\u001b[49m\n\u001b[0;32m   1377\u001b[0m rvalues \u001b[38;5;241m=\u001b[39m ensure_wrapped_if_datetimelike(rvalues)\n\u001b[0;32m   1378\u001b[0m \u001b[38;5;28;01mif\u001b[39;00m \u001b[38;5;28misinstance\u001b[39m(rvalues, \u001b[38;5;28mrange\u001b[39m):\n",
      "File \u001b[1;32md:\\softwerar\\pythonPython312\\Lib\\site-packages\\pandas\\core\\ops\\array_ops.py:571\u001b[0m, in \u001b[0;36mmaybe_prepare_scalar_for_op\u001b[1;34m(obj, shape)\u001b[0m\n\u001b[0;32m    566\u001b[0m         \u001b[38;5;28;01mreturn\u001b[39;00m TimedeltaArray\u001b[38;5;241m.\u001b[39m_simple_new(right, dtype\u001b[38;5;241m=\u001b[39mright\u001b[38;5;241m.\u001b[39mdtype)\n\u001b[0;32m    568\u001b[0m     \u001b[38;5;66;03m# In particular non-nanosecond timedelta64 needs to be cast to\u001b[39;00m\n\u001b[0;32m    569\u001b[0m     \u001b[38;5;66;03m#  nanoseconds, or else we get undesired behavior like\u001b[39;00m\n\u001b[0;32m    570\u001b[0m     \u001b[38;5;66;03m#  np.timedelta64(3, 'D') / 2 == np.timedelta64(1, 'D')\u001b[39;00m\n\u001b[1;32m--> 571\u001b[0m     \u001b[38;5;28;01mreturn\u001b[39;00m \u001b[43mTimedelta\u001b[49m\u001b[43m(\u001b[49m\u001b[43mobj\u001b[49m\u001b[43m)\u001b[49m\n\u001b[0;32m    573\u001b[0m \u001b[38;5;66;03m# We want NumPy numeric scalars to behave like Python scalars\u001b[39;00m\n\u001b[0;32m    574\u001b[0m \u001b[38;5;66;03m# post NEP 50\u001b[39;00m\n\u001b[0;32m    575\u001b[0m \u001b[38;5;28;01melif\u001b[39;00m \u001b[38;5;28misinstance\u001b[39m(obj, np\u001b[38;5;241m.\u001b[39minteger):\n",
      "File \u001b[1;32mtimedeltas.pyx:1870\u001b[0m, in \u001b[0;36mpandas._libs.tslibs.timedeltas.Timedelta.__new__\u001b[1;34m()\u001b[0m\n",
      "\u001b[1;31mValueError\u001b[0m: Unit M is not supported. Only unambiguous timedelta values durations are supported. Allowed units are 'W', 'D', 'h', 'm', 's', 'ms', 'us', 'ns'"
     ]
    }
   ],
   "source": [
    "# Months passed\n",
    "\n",
    "np.round((today -date['date']) / np.timedelta64(1, 'M'),0)"
   ]
  },
  {
   "cell_type": "code",
   "execution_count": 39,
   "metadata": {},
   "outputs": [
    {
     "name": "stdout",
     "output_type": "stream",
     "text": [
      "<class 'pandas.core.frame.DataFrame'>\n",
      "RangeIndex: 1000 entries, 0 to 999\n",
      "Data columns (total 2 columns):\n",
      " #   Column  Non-Null Count  Dtype \n",
      "---  ------  --------------  ----- \n",
      " 0   date    1000 non-null   object\n",
      " 1   msg     1000 non-null   object\n",
      "dtypes: object(2)\n",
      "memory usage: 15.8+ KB\n"
     ]
    }
   ],
   "source": [
    "time.info()"
   ]
  },
  {
   "cell_type": "code",
   "execution_count": 40,
   "metadata": {},
   "outputs": [],
   "source": [
    "# Converting to datetime datatype\n",
    "time['date'] = pd.to_datetime(time['date'])"
   ]
  },
  {
   "cell_type": "code",
   "execution_count": 41,
   "id": "aa3ed825",
   "metadata": {},
   "outputs": [],
   "source": [
    "time['hour'] = time['date'].dt.hour\n",
    "time['min'] = time['date'].dt.minute\n",
    "time['sec'] = time['date'].dt.second\n"
   ]
  },
  {
   "cell_type": "code",
   "execution_count": 42,
   "id": "97d79767",
   "metadata": {},
   "outputs": [
    {
     "data": {
      "application/vnd.microsoft.datawrangler.viewer.v0+json": {
       "columns": [
        {
         "name": "index",
         "rawType": "int64",
         "type": "integer"
        },
        {
         "name": "date",
         "rawType": "datetime64[ns]",
         "type": "datetime"
        },
        {
         "name": "msg",
         "rawType": "object",
         "type": "string"
        },
        {
         "name": "hour",
         "rawType": "int32",
         "type": "integer"
        },
        {
         "name": "min",
         "rawType": "int32",
         "type": "integer"
        },
        {
         "name": "sec",
         "rawType": "int32",
         "type": "integer"
        }
       ],
       "ref": "a1413e1c-dca8-41dd-92ad-065ca9dddc8c",
       "rows": [
        [
         "0",
         "2013-12-15 00:50:00",
         "ищу на сегодня мужика 37",
         "0",
         "50",
         "0"
        ],
        [
         "1",
         "2014-04-29 23:40:00",
         "ПАРЕНЬ БИ ИЩЕТ ДРУГА СЕЙЧАС!! СМС ММС 0955532826",
         "23",
         "40",
         "0"
        ],
        [
         "2",
         "2012-12-30 00:21:00",
         "Днепр.м 43 позн.с д/ж *.о  067.16.34.576",
         "0",
         "21",
         "0"
        ],
        [
         "3",
         "2014-11-28 00:31:00",
         "КИЕВ ИЩУ Д/Ж ДО 45 МНЕ СЕЙЧАС СКУЧНО 093 629 98 14 САША ЗВОН",
         "0",
         "31",
         "0"
        ],
        [
         "4",
         "2013-10-26 23:11:00",
         "Зая я тебя никогда не обижу  люблю тебя!)  Даше",
         "23",
         "11",
         "0"
        ]
       ],
       "shape": {
        "columns": 5,
        "rows": 5
       }
      },
      "text/html": [
       "<div>\n",
       "<style scoped>\n",
       "    .dataframe tbody tr th:only-of-type {\n",
       "        vertical-align: middle;\n",
       "    }\n",
       "\n",
       "    .dataframe tbody tr th {\n",
       "        vertical-align: top;\n",
       "    }\n",
       "\n",
       "    .dataframe thead th {\n",
       "        text-align: right;\n",
       "    }\n",
       "</style>\n",
       "<table border=\"1\" class=\"dataframe\">\n",
       "  <thead>\n",
       "    <tr style=\"text-align: right;\">\n",
       "      <th></th>\n",
       "      <th>date</th>\n",
       "      <th>msg</th>\n",
       "      <th>hour</th>\n",
       "      <th>min</th>\n",
       "      <th>sec</th>\n",
       "    </tr>\n",
       "  </thead>\n",
       "  <tbody>\n",
       "    <tr>\n",
       "      <th>0</th>\n",
       "      <td>2013-12-15 00:50:00</td>\n",
       "      <td>ищу на сегодня мужика 37</td>\n",
       "      <td>0</td>\n",
       "      <td>50</td>\n",
       "      <td>0</td>\n",
       "    </tr>\n",
       "    <tr>\n",
       "      <th>1</th>\n",
       "      <td>2014-04-29 23:40:00</td>\n",
       "      <td>ПАРЕНЬ БИ ИЩЕТ ДРУГА СЕЙЧАС!! СМС ММС 0955532826</td>\n",
       "      <td>23</td>\n",
       "      <td>40</td>\n",
       "      <td>0</td>\n",
       "    </tr>\n",
       "    <tr>\n",
       "      <th>2</th>\n",
       "      <td>2012-12-30 00:21:00</td>\n",
       "      <td>Днепр.м 43 позн.с д/ж *.о  067.16.34.576</td>\n",
       "      <td>0</td>\n",
       "      <td>21</td>\n",
       "      <td>0</td>\n",
       "    </tr>\n",
       "    <tr>\n",
       "      <th>3</th>\n",
       "      <td>2014-11-28 00:31:00</td>\n",
       "      <td>КИЕВ ИЩУ Д/Ж ДО 45 МНЕ СЕЙЧАС СКУЧНО 093 629 9...</td>\n",
       "      <td>0</td>\n",
       "      <td>31</td>\n",
       "      <td>0</td>\n",
       "    </tr>\n",
       "    <tr>\n",
       "      <th>4</th>\n",
       "      <td>2013-10-26 23:11:00</td>\n",
       "      <td>Зая я тебя никогда не обижу  люблю тебя!)  Даше</td>\n",
       "      <td>23</td>\n",
       "      <td>11</td>\n",
       "      <td>0</td>\n",
       "    </tr>\n",
       "  </tbody>\n",
       "</table>\n",
       "</div>"
      ],
      "text/plain": [
       "                 date                                                msg  \\\n",
       "0 2013-12-15 00:50:00                           ищу на сегодня мужика 37   \n",
       "1 2014-04-29 23:40:00   ПАРЕНЬ БИ ИЩЕТ ДРУГА СЕЙЧАС!! СМС ММС 0955532826   \n",
       "2 2012-12-30 00:21:00           Днепр.м 43 позн.с д/ж *.о  067.16.34.576   \n",
       "3 2014-11-28 00:31:00  КИЕВ ИЩУ Д/Ж ДО 45 МНЕ СЕЙЧАС СКУЧНО 093 629 9...   \n",
       "4 2013-10-26 23:11:00    Зая я тебя никогда не обижу  люблю тебя!)  Даше   \n",
       "\n",
       "   hour  min  sec  \n",
       "0     0   50    0  \n",
       "1    23   40    0  \n",
       "2     0   21    0  \n",
       "3     0   31    0  \n",
       "4    23   11    0  "
      ]
     },
     "execution_count": 42,
     "metadata": {},
     "output_type": "execute_result"
    }
   ],
   "source": [
    "time.head()"
   ]
  },
  {
   "cell_type": "code",
   "execution_count": 43,
   "id": "13ac9aa7",
   "metadata": {},
   "outputs": [
    {
     "data": {
      "application/vnd.microsoft.datawrangler.viewer.v0+json": {
       "columns": [
        {
         "name": "index",
         "rawType": "int64",
         "type": "integer"
        },
        {
         "name": "date",
         "rawType": "datetime64[ns]",
         "type": "datetime"
        },
        {
         "name": "msg",
         "rawType": "object",
         "type": "string"
        },
        {
         "name": "hour",
         "rawType": "int32",
         "type": "integer"
        },
        {
         "name": "min",
         "rawType": "int32",
         "type": "integer"
        },
        {
         "name": "sec",
         "rawType": "int32",
         "type": "integer"
        },
        {
         "name": "time",
         "rawType": "object",
         "type": "unknown"
        }
       ],
       "ref": "b2141971-29e0-4196-887c-529d63688cf5",
       "rows": [
        [
         "0",
         "2013-12-15 00:50:00",
         "ищу на сегодня мужика 37",
         "0",
         "50",
         "0",
         "00:50:00"
        ],
        [
         "1",
         "2014-04-29 23:40:00",
         "ПАРЕНЬ БИ ИЩЕТ ДРУГА СЕЙЧАС!! СМС ММС 0955532826",
         "23",
         "40",
         "0",
         "23:40:00"
        ],
        [
         "2",
         "2012-12-30 00:21:00",
         "Днепр.м 43 позн.с д/ж *.о  067.16.34.576",
         "0",
         "21",
         "0",
         "00:21:00"
        ],
        [
         "3",
         "2014-11-28 00:31:00",
         "КИЕВ ИЩУ Д/Ж ДО 45 МНЕ СЕЙЧАС СКУЧНО 093 629 98 14 САША ЗВОН",
         "0",
         "31",
         "0",
         "00:31:00"
        ],
        [
         "4",
         "2013-10-26 23:11:00",
         "Зая я тебя никогда не обижу  люблю тебя!)  Даше",
         "23",
         "11",
         "0",
         "23:11:00"
        ]
       ],
       "shape": {
        "columns": 6,
        "rows": 5
       }
      },
      "text/html": [
       "<div>\n",
       "<style scoped>\n",
       "    .dataframe tbody tr th:only-of-type {\n",
       "        vertical-align: middle;\n",
       "    }\n",
       "\n",
       "    .dataframe tbody tr th {\n",
       "        vertical-align: top;\n",
       "    }\n",
       "\n",
       "    .dataframe thead th {\n",
       "        text-align: right;\n",
       "    }\n",
       "</style>\n",
       "<table border=\"1\" class=\"dataframe\">\n",
       "  <thead>\n",
       "    <tr style=\"text-align: right;\">\n",
       "      <th></th>\n",
       "      <th>date</th>\n",
       "      <th>msg</th>\n",
       "      <th>hour</th>\n",
       "      <th>min</th>\n",
       "      <th>sec</th>\n",
       "      <th>time</th>\n",
       "    </tr>\n",
       "  </thead>\n",
       "  <tbody>\n",
       "    <tr>\n",
       "      <th>0</th>\n",
       "      <td>2013-12-15 00:50:00</td>\n",
       "      <td>ищу на сегодня мужика 37</td>\n",
       "      <td>0</td>\n",
       "      <td>50</td>\n",
       "      <td>0</td>\n",
       "      <td>00:50:00</td>\n",
       "    </tr>\n",
       "    <tr>\n",
       "      <th>1</th>\n",
       "      <td>2014-04-29 23:40:00</td>\n",
       "      <td>ПАРЕНЬ БИ ИЩЕТ ДРУГА СЕЙЧАС!! СМС ММС 0955532826</td>\n",
       "      <td>23</td>\n",
       "      <td>40</td>\n",
       "      <td>0</td>\n",
       "      <td>23:40:00</td>\n",
       "    </tr>\n",
       "    <tr>\n",
       "      <th>2</th>\n",
       "      <td>2012-12-30 00:21:00</td>\n",
       "      <td>Днепр.м 43 позн.с д/ж *.о  067.16.34.576</td>\n",
       "      <td>0</td>\n",
       "      <td>21</td>\n",
       "      <td>0</td>\n",
       "      <td>00:21:00</td>\n",
       "    </tr>\n",
       "    <tr>\n",
       "      <th>3</th>\n",
       "      <td>2014-11-28 00:31:00</td>\n",
       "      <td>КИЕВ ИЩУ Д/Ж ДО 45 МНЕ СЕЙЧАС СКУЧНО 093 629 9...</td>\n",
       "      <td>0</td>\n",
       "      <td>31</td>\n",
       "      <td>0</td>\n",
       "      <td>00:31:00</td>\n",
       "    </tr>\n",
       "    <tr>\n",
       "      <th>4</th>\n",
       "      <td>2013-10-26 23:11:00</td>\n",
       "      <td>Зая я тебя никогда не обижу  люблю тебя!)  Даше</td>\n",
       "      <td>23</td>\n",
       "      <td>11</td>\n",
       "      <td>0</td>\n",
       "      <td>23:11:00</td>\n",
       "    </tr>\n",
       "  </tbody>\n",
       "</table>\n",
       "</div>"
      ],
      "text/plain": [
       "                 date                                                msg  \\\n",
       "0 2013-12-15 00:50:00                           ищу на сегодня мужика 37   \n",
       "1 2014-04-29 23:40:00   ПАРЕНЬ БИ ИЩЕТ ДРУГА СЕЙЧАС!! СМС ММС 0955532826   \n",
       "2 2012-12-30 00:21:00           Днепр.м 43 позн.с д/ж *.о  067.16.34.576   \n",
       "3 2014-11-28 00:31:00  КИЕВ ИЩУ Д/Ж ДО 45 МНЕ СЕЙЧАС СКУЧНО 093 629 9...   \n",
       "4 2013-10-26 23:11:00    Зая я тебя никогда не обижу  люблю тебя!)  Даше   \n",
       "\n",
       "   hour  min  sec      time  \n",
       "0     0   50    0  00:50:00  \n",
       "1    23   40    0  23:40:00  \n",
       "2     0   21    0  00:21:00  \n",
       "3     0   31    0  00:31:00  \n",
       "4    23   11    0  23:11:00  "
      ]
     },
     "execution_count": 43,
     "metadata": {},
     "output_type": "execute_result"
    }
   ],
   "source": [
    "# Extract Time part\n",
    "time['time'] = time['date'].dt.time\n",
    "\n",
    "time.head()"
   ]
  },
  {
   "cell_type": "code",
   "execution_count": 44,
   "id": "7b0e12d4",
   "metadata": {},
   "outputs": [
    {
     "data": {
      "application/vnd.microsoft.datawrangler.viewer.v0+json": {
       "columns": [
        {
         "name": "index",
         "rawType": "int64",
         "type": "integer"
        },
        {
         "name": "date",
         "rawType": "timedelta64[ns]",
         "type": "unknown"
        }
       ],
       "ref": "b6e4ea72-59b9-406c-b1d8-5bb8f884fa02",
       "rows": [
        [
         "0",
         "4227 days 13:44:20.501773"
        ],
        [
         "1",
         "4091 days 14:54:20.501773"
        ],
        [
         "2",
         "4577 days 14:13:20.501773"
        ],
        [
         "3",
         "3879 days 14:03:20.501773"
        ],
        [
         "4",
         "4276 days 15:23:20.501773"
        ],
        [
         "5",
         "3412 days 15:42:20.501773"
        ],
        [
         "6",
         "4162 days 14:11:20.501773"
        ],
        [
         "7",
         "4614 days 13:24:20.501773"
        ],
        [
         "8",
         "3854 days 13:14:20.501773"
        ],
        [
         "9",
         "4633 days 14:48:20.501773"
        ],
        [
         "10",
         "4369 days 14:23:20.501773"
        ],
        [
         "11",
         "4224 days 13:55:20.501773"
        ],
        [
         "12",
         "4420 days 13:29:20.501773"
        ],
        [
         "13",
         "3148 days 16:05:20.501773"
        ],
        [
         "14",
         "3569 days 12:52:20.501773"
        ],
        [
         "15",
         "4704 days 15:21:20.501773"
        ],
        [
         "16",
         "3553 days 15:42:20.501773"
        ],
        [
         "17",
         "4290 days 13:33:20.501773"
        ],
        [
         "18",
         "3461 days 16:01:20.501773"
        ],
        [
         "19",
         "4134 days 15:18:20.501773"
        ],
        [
         "20",
         "4049 days 14:22:20.501773"
        ],
        [
         "21",
         "4188 days 14:17:20.501773"
        ],
        [
         "22",
         "3797 days 14:00:20.501773"
        ],
        [
         "23",
         "4323 days 14:28:20.501773"
        ],
        [
         "24",
         "4499 days 12:34:20.501773"
        ],
        [
         "25",
         "4057 days 13:33:20.501773"
        ],
        [
         "26",
         "3267 days 15:15:20.501773"
        ],
        [
         "27",
         "3876 days 15:35:20.501773"
        ],
        [
         "28",
         "3168 days 14:17:20.501773"
        ],
        [
         "29",
         "4130 days 15:38:20.501773"
        ],
        [
         "30",
         "4500 days 15:14:20.501773"
        ],
        [
         "31",
         "4514 days 13:36:20.501773"
        ],
        [
         "32",
         "4890 days 14:54:20.501773"
        ],
        [
         "33",
         "3662 days 13:49:20.501773"
        ],
        [
         "34",
         "3563 days 13:42:20.501773"
        ],
        [
         "35",
         "3546 days 13:27:20.501773"
        ],
        [
         "36",
         "4030 days 13:21:20.501773"
        ],
        [
         "37",
         "4267 days 12:45:20.501773"
        ],
        [
         "38",
         "4277 days 14:22:20.501773"
        ],
        [
         "39",
         "3353 days 14:27:20.501773"
        ],
        [
         "40",
         "4894 days 13:45:20.501773"
        ],
        [
         "41",
         "4522 days 13:41:20.501773"
        ],
        [
         "42",
         "4557 days 13:26:20.501773"
        ],
        [
         "43",
         "4255 days 14:48:20.501773"
        ],
        [
         "44",
         "3297 days 14:52:20.501773"
        ],
        [
         "45",
         "4792 days 14:06:20.501773"
        ],
        [
         "46",
         "4672 days 14:48:20.501773"
        ],
        [
         "47",
         "4080 days 14:03:20.501773"
        ],
        [
         "48",
         "4556 days 15:27:20.501773"
        ],
        [
         "49",
         "3931 days 14:54:20.501773"
        ]
       ],
       "shape": {
        "columns": 1,
        "rows": 1000
       }
      },
      "text/plain": [
       "0     4227 days 13:44:20.501773\n",
       "1     4091 days 14:54:20.501773\n",
       "2     4577 days 14:13:20.501773\n",
       "3     3879 days 14:03:20.501773\n",
       "4     4276 days 15:23:20.501773\n",
       "                 ...           \n",
       "995   4866 days 13:44:20.501773\n",
       "996   4187 days 15:20:20.501773\n",
       "997   4652 days 14:57:20.501773\n",
       "998   4768 days 15:00:20.501773\n",
       "999   4040 days 15:09:20.501773\n",
       "Name: date, Length: 1000, dtype: timedelta64[ns]"
      ]
     },
     "execution_count": 44,
     "metadata": {},
     "output_type": "execute_result"
    }
   ],
   "source": [
    "# Time difference\n",
    "today - time['date']"
   ]
  },
  {
   "cell_type": "code",
   "execution_count": 45,
   "id": "abb8a41e",
   "metadata": {},
   "outputs": [
    {
     "data": {
      "application/vnd.microsoft.datawrangler.viewer.v0+json": {
       "columns": [
        {
         "name": "index",
         "rawType": "int64",
         "type": "integer"
        },
        {
         "name": "date",
         "rawType": "float64",
         "type": "float"
        }
       ],
       "ref": "3f2148f6-6f5c-4f27-be3f-4d3540ae1942",
       "rows": [
        [
         "0",
         "365262260.501773"
        ],
        [
         "1",
         "353516060.501773"
        ],
        [
         "2",
         "395504000.501773"
        ],
        [
         "3",
         "335196200.501773"
        ],
        [
         "4",
         "369501800.501773"
        ],
        [
         "5",
         "294853340.501773"
        ],
        [
         "6",
         "359647880.501773"
        ],
        [
         "7",
         "398697860.501773"
        ],
        [
         "8",
         "333033260.501773"
        ],
        [
         "9",
         "400344500.501773"
        ],
        [
         "10",
         "377533400.501773"
        ],
        [
         "11",
         "365003720.501773"
        ],
        [
         "12",
         "381936560.501773"
        ],
        [
         "13",
         "272045120.501773"
        ],
        [
         "14",
         "308407940.501773"
        ],
        [
         "15",
         "406480880.501773"
        ],
        [
         "16",
         "307035740.501773"
        ],
        [
         "17",
         "370704800.501773"
        ],
        [
         "18",
         "299088080.501773"
        ],
        [
         "19",
         "357232700.501773"
        ],
        [
         "20",
         "349885340.501773"
        ],
        [
         "21",
         "361894640.501773"
        ],
        [
         "22",
         "328111220.501773"
        ],
        [
         "23",
         "373559300.501773"
        ],
        [
         "24",
         "388758860.501773"
        ],
        [
         "25",
         "350573600.501773"
        ],
        [
         "26",
         "282323720.501773"
        ],
        [
         "27",
         "334942520.501773"
        ],
        [
         "28",
         "273766640.501773"
        ],
        [
         "29",
         "356888300.501773"
        ],
        [
         "30",
         "388854860.501773"
        ],
        [
         "31",
         "390058580.501773"
        ],
        [
         "32",
         "422549660.501773"
        ],
        [
         "33",
         "316446560.501773"
        ],
        [
         "34",
         "307892540.501773"
        ],
        [
         "35",
         "306422840.501773"
        ],
        [
         "36",
         "348240080.501773"
        ],
        [
         "37",
         "368714720.501773"
        ],
        [
         "38",
         "369584540.501773"
        ],
        [
         "39",
         "289751240.501773"
        ],
        [
         "40",
         "422891120.501773"
        ],
        [
         "41",
         "390750080.501773"
        ],
        [
         "42",
         "393773180.501773"
        ],
        [
         "43",
         "367685300.501773"
        ],
        [
         "44",
         "284914340.501773"
        ],
        [
         "45",
         "414079580.501773"
        ],
        [
         "46",
         "403714100.501773"
        ],
        [
         "47",
         "352562600.501773"
        ],
        [
         "48",
         "393694040.501773"
        ],
        [
         "49",
         "339692060.501773"
        ]
       ],
       "shape": {
        "columns": 1,
        "rows": 1000
       }
      },
      "text/plain": [
       "0      3.652623e+08\n",
       "1      3.535161e+08\n",
       "2      3.955040e+08\n",
       "3      3.351962e+08\n",
       "4      3.695018e+08\n",
       "           ...     \n",
       "995    4.204719e+08\n",
       "996    3.618120e+08\n",
       "997    4.019866e+08\n",
       "998    4.120092e+08\n",
       "999    3.491106e+08\n",
       "Name: date, Length: 1000, dtype: float64"
      ]
     },
     "execution_count": 45,
     "metadata": {},
     "output_type": "execute_result"
    }
   ],
   "source": [
    "# in seconds\n",
    "\n",
    "(today - time['date'])/np.timedelta64(1,'s')"
   ]
  },
  {
   "cell_type": "code",
   "execution_count": 46,
   "id": "d84fa392",
   "metadata": {},
   "outputs": [
    {
     "data": {
      "application/vnd.microsoft.datawrangler.viewer.v0+json": {
       "columns": [
        {
         "name": "index",
         "rawType": "int64",
         "type": "integer"
        },
        {
         "name": "date",
         "rawType": "float64",
         "type": "float"
        }
       ],
       "ref": "9ec889e9-0e7a-4c2e-96dd-bb291c4d968f",
       "rows": [
        [
         "0",
         "6087704.341696217"
        ],
        [
         "1",
         "5891934.341696217"
        ],
        [
         "2",
         "6591733.341696217"
        ],
        [
         "3",
         "5586603.341696217"
        ],
        [
         "4",
         "6158363.341696217"
        ],
        [
         "5",
         "4914222.341696217"
        ],
        [
         "6",
         "5994131.341696217"
        ],
        [
         "7",
         "6644964.341696217"
        ],
        [
         "8",
         "5550554.341696217"
        ],
        [
         "9",
         "6672408.341696217"
        ],
        [
         "10",
         "6292223.341696217"
        ],
        [
         "11",
         "6083395.341696217"
        ],
        [
         "12",
         "6365609.341696217"
        ],
        [
         "13",
         "4534085.341696217"
        ],
        [
         "14",
         "5140132.341696217"
        ],
        [
         "15",
         "6774681.341696217"
        ],
        [
         "16",
         "5117262.341696217"
        ],
        [
         "17",
         "6178413.341696217"
        ],
        [
         "18",
         "4984801.341696217"
        ],
        [
         "19",
         "5953878.341696217"
        ],
        [
         "20",
         "5831422.341696217"
        ],
        [
         "21",
         "6031577.341696217"
        ],
        [
         "22",
         "5468520.341696217"
        ],
        [
         "23",
         "6225988.341696217"
        ],
        [
         "24",
         "6479314.341696217"
        ],
        [
         "25",
         "5842893.341696217"
        ],
        [
         "26",
         "4705395.341696217"
        ],
        [
         "27",
         "5582375.341696217"
        ],
        [
         "28",
         "4562777.341696217"
        ],
        [
         "29",
         "5948138.341696217"
        ],
        [
         "30",
         "6480914.341696217"
        ],
        [
         "31",
         "6500976.341696217"
        ],
        [
         "32",
         "7042494.341696217"
        ],
        [
         "33",
         "5274109.341696217"
        ],
        [
         "34",
         "5131542.341696217"
        ],
        [
         "35",
         "5107047.341696217"
        ],
        [
         "36",
         "5804001.341696217"
        ],
        [
         "37",
         "6145245.341696217"
        ],
        [
         "38",
         "6159742.341696217"
        ],
        [
         "39",
         "4829187.341696217"
        ],
        [
         "40",
         "7048185.341696217"
        ],
        [
         "41",
         "6512501.341696217"
        ],
        [
         "42",
         "6562886.341696217"
        ],
        [
         "43",
         "6128088.341696217"
        ],
        [
         "44",
         "4748572.341696217"
        ],
        [
         "45",
         "6901326.341696217"
        ],
        [
         "46",
         "6728568.341696217"
        ],
        [
         "47",
         "5876043.341696217"
        ],
        [
         "48",
         "6561567.341696217"
        ],
        [
         "49",
         "5661534.341696217"
        ]
       ],
       "shape": {
        "columns": 1,
        "rows": 1000
       }
      },
      "text/plain": [
       "0      6.087704e+06\n",
       "1      5.891934e+06\n",
       "2      6.591733e+06\n",
       "3      5.586603e+06\n",
       "4      6.158363e+06\n",
       "           ...     \n",
       "995    7.007864e+06\n",
       "996    6.030200e+06\n",
       "997    6.699777e+06\n",
       "998    6.866820e+06\n",
       "999    5.818509e+06\n",
       "Name: date, Length: 1000, dtype: float64"
      ]
     },
     "execution_count": 46,
     "metadata": {},
     "output_type": "execute_result"
    }
   ],
   "source": [
    "# in minutes\n",
    "\n",
    "(today - time['date'])/np.timedelta64(1,'m')"
   ]
  },
  {
   "cell_type": "code",
   "execution_count": 47,
   "id": "01088d1a",
   "metadata": {},
   "outputs": [
    {
     "data": {
      "application/vnd.microsoft.datawrangler.viewer.v0+json": {
       "columns": [
        {
         "name": "index",
         "rawType": "int64",
         "type": "integer"
        },
        {
         "name": "date",
         "rawType": "float64",
         "type": "float"
        }
       ],
       "ref": "f15866b1-11e3-4d68-bf3c-3e367b89e367",
       "rows": [
        [
         "0",
         "101461.73902827027"
        ],
        [
         "1",
         "98198.90569493694"
        ],
        [
         "2",
         "109862.2223616036"
        ],
        [
         "3",
         "93110.05569493695"
        ],
        [
         "4",
         "102639.38902827028"
        ],
        [
         "5",
         "81903.70569493694"
        ],
        [
         "6",
         "99902.18902827028"
        ],
        [
         "7",
         "110749.40569493694"
        ],
        [
         "8",
         "92509.23902827027"
        ],
        [
         "9",
         "111206.80569493695"
        ],
        [
         "10",
         "104870.38902827028"
        ],
        [
         "11",
         "101389.9223616036"
        ],
        [
         "12",
         "106093.48902827027"
        ],
        [
         "13",
         "75568.08902827027"
        ],
        [
         "14",
         "85668.87236160361"
        ],
        [
         "15",
         "112911.35569493694"
        ],
        [
         "16",
         "85287.70569493694"
        ],
        [
         "17",
         "102973.55569493695"
        ],
        [
         "18",
         "83080.02236160361"
        ],
        [
         "19",
         "99231.30569493695"
        ],
        [
         "20",
         "97190.37236160361"
        ],
        [
         "21",
         "100526.28902827027"
        ],
        [
         "22",
         "91142.00569493695"
        ],
        [
         "23",
         "103766.4723616036"
        ],
        [
         "24",
         "107988.57236160361"
        ],
        [
         "25",
         "97381.55569493695"
        ],
        [
         "26",
         "78423.25569493695"
        ],
        [
         "27",
         "93039.58902827027"
        ],
        [
         "28",
         "76046.28902827027"
        ],
        [
         "29",
         "99135.63902827028"
        ],
        [
         "30",
         "108015.23902827027"
        ],
        [
         "31",
         "108349.60569493694"
        ],
        [
         "32",
         "117374.90569493694"
        ],
        [
         "33",
         "87901.82236160361"
        ],
        [
         "34",
         "85525.70569493694"
        ],
        [
         "35",
         "85117.45569493694"
        ],
        [
         "36",
         "96733.35569493694"
        ],
        [
         "37",
         "102420.75569493695"
        ],
        [
         "38",
         "102662.37236160361"
        ],
        [
         "39",
         "80486.45569493694"
        ],
        [
         "40",
         "117469.75569493695"
        ],
        [
         "41",
         "108541.68902827028"
        ],
        [
         "42",
         "109381.43902827028"
        ],
        [
         "43",
         "102134.80569493695"
        ],
        [
         "44",
         "79142.87236160361"
        ],
        [
         "45",
         "115022.10569493694"
        ],
        [
         "46",
         "112142.80569493695"
        ],
        [
         "47",
         "97934.05569493695"
        ],
        [
         "48",
         "109359.45569493694"
        ],
        [
         "49",
         "94358.90569493694"
        ]
       ],
       "shape": {
        "columns": 1,
        "rows": 1000
       }
      },
      "text/plain": [
       "0      101461.739028\n",
       "1       98198.905695\n",
       "2      109862.222362\n",
       "3       93110.055695\n",
       "4      102639.389028\n",
       "           ...      \n",
       "995    116797.739028\n",
       "996    100503.339028\n",
       "997    111662.955695\n",
       "998    114447.005695\n",
       "999     96975.155695\n",
       "Name: date, Length: 1000, dtype: float64"
      ]
     },
     "execution_count": 47,
     "metadata": {},
     "output_type": "execute_result"
    }
   ],
   "source": [
    "# in hours\n",
    "\n",
    "(today - time['date'])/np.timedelta64(1,'h')"
   ]
  },
  {
   "cell_type": "code",
   "execution_count": null,
   "id": "149a4fff",
   "metadata": {},
   "outputs": [],
   "source": []
  }
 ],
 "metadata": {
  "kernelspec": {
   "display_name": "Python 3",
   "language": "python",
   "name": "python3"
  },
  "language_info": {
   "codemirror_mode": {
    "name": "ipython",
    "version": 3
   },
   "file_extension": ".py",
   "mimetype": "text/x-python",
   "name": "python",
   "nbconvert_exporter": "python",
   "pygments_lexer": "ipython3",
   "version": "3.12.6"
  }
 },
 "nbformat": 4,
 "nbformat_minor": 5
}
